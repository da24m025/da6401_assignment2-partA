{
  "cells": [
    {
      "cell_type": "code",
      "execution_count": null,
      "metadata": {
        "id": "8JRNiPyJ-Ouv"
      },
      "outputs": [],
      "source": [
        "# IMPORTANT: SOME KAGGLE DATA SOURCES ARE PRIVATE\n",
        "# RUN THIS CELL IN ORDER TO IMPORT YOUR KAGGLE DATA SOURCES.\n",
        "import kagglehub\n",
        "kagglehub.login()\n"
      ]
    },
    {
      "cell_type": "code",
      "execution_count": null,
      "metadata": {
        "id": "6c6kR6N1-Ou3"
      },
      "outputs": [],
      "source": [
        "# IMPORTANT: RUN THIS CELL IN ORDER TO IMPORT YOUR KAGGLE DATA SOURCES,\n",
        "# THEN FEEL FREE TO DELETE THIS CELL.\n",
        "# NOTE: THIS NOTEBOOK ENVIRONMENT DIFFERS FROM KAGGLE'S PYTHON\n",
        "# ENVIRONMENT SO THERE MAY BE MISSING LIBRARIES USED BY YOUR\n",
        "# NOTEBOOK.\n",
        "\n",
        "tejada24m025_inaturalist_path = kagglehub.dataset_download('tejada24m025/inaturalist')\n",
        "\n",
        "\n",
        "print('Data source import complete.')\n"
      ]
    },
    {
      "cell_type": "code",
      "execution_count": null,
      "metadata": {
        "execution": {
          "iopub.execute_input": "2025-04-18T05:05:12.350923Z",
          "iopub.status.busy": "2025-04-18T05:05:12.350735Z",
          "iopub.status.idle": "2025-04-18T05:05:19.430283Z",
          "shell.execute_reply": "2025-04-18T05:05:19.429385Z",
          "shell.execute_reply.started": "2025-04-18T05:05:12.350903Z"
        },
        "id": "9uRACKte-Ou9",
        "trusted": true
      },
      "outputs": [],
      "source": [
        "import os\n",
        "from torch.utils.data import DataLoader, Subset\n",
        "from torchvision import transforms, datasets\n",
        "from sklearn.model_selection import train_test_split\n",
        "import numpy as np\n",
        "from sklearn.utils.class_weight import compute_class_weight\n",
        "import torch\n",
        "\n",
        "def prepare_data(data_dir, batch_size, augment):\n",
        "    \"\"\"\n",
        "    Prepare training, validation, and test data loaders.\n",
        "    The original dataset is assumed to have a 'train' and 'test' folder.\n",
        "    A validation set is created by a stratified 80/20 split of the train folder.\n",
        "\n",
        "    Args:\n",
        "        data_dir (str): Path to dataset folder.\n",
        "        batch_size (int): Batch size.\n",
        "        augment (bool): Whether to apply data augmentation.\n",
        "\n",
        "    Returns:\n",
        "        train_loader, val_loader, test_loader, num_classes, class_weights\n",
        "    \"\"\"\n",
        "    # Enhanced augmentation for training\n",
        "    train_transform = transforms.Compose([\n",
        "        transforms.Resize((256, 256)),\n",
        "        transforms.RandomCrop(224),\n",
        "        transforms.RandomHorizontalFlip(),\n",
        "        transforms.RandomRotation(15),\n",
        "        transforms.ColorJitter(brightness=0.2, contrast=0.2, saturation=0.2),\n",
        "        transforms.ToTensor(),\n",
        "        transforms.Normalize(mean=[0.485, 0.456, 0.406],\n",
        "                             std=[0.229, 0.224, 0.225])\n",
        "    ]) if augment else transforms.Compose([\n",
        "        transforms.Resize((224, 224)),\n",
        "        transforms.ToTensor(),\n",
        "        transforms.Normalize(mean=[0.485, 0.456, 0.406],\n",
        "                             std=[0.229, 0.224, 0.225])\n",
        "    ])\n",
        "\n",
        "    # Validation uses a fixed transform without augmentation.\n",
        "    val_transform = transforms.Compose([\n",
        "        transforms.Resize((224, 224)),\n",
        "        transforms.ToTensor(),\n",
        "        transforms.Normalize(mean=[0.485, 0.456, 0.406],\n",
        "                             std=[0.229, 0.224, 0.225])\n",
        "    ])\n",
        "\n",
        "    # Test transform same as validation.\n",
        "    test_transform = val_transform\n",
        "\n",
        "    # Load full training dataset\n",
        "    full_dataset = datasets.ImageFolder(os.path.join(data_dir, 'train'), transform=train_transform)\n",
        "    num_classes = len(full_dataset.classes)\n",
        "    targets = [s[1] for s in full_dataset.samples]\n",
        "\n",
        "    # Stratified split (80% train, 20% val)\n",
        "    train_idx, val_idx = train_test_split(list(range(len(full_dataset))), test_size=0.2, stratify=targets, random_state=42)\n",
        "    train_dataset = Subset(full_dataset, train_idx)\n",
        "    # For validation, use non-augmented transform:\n",
        "    full_dataset_no_aug = datasets.ImageFolder(os.path.join(data_dir, 'train'), transform=val_transform)\n",
        "    val_dataset = Subset(full_dataset_no_aug, val_idx)\n",
        "\n",
        "    # Compute class weights for balanced training\n",
        "    class_weights = compute_class_weight('balanced', classes=np.unique(targets), y=[targets[i] for i in train_idx])\n",
        "    class_weights = torch.tensor(class_weights, dtype=torch.float)\n",
        "\n",
        "    # Load test dataset (assumed available in 'test' folder)\n",
        "    test_dataset = datasets.ImageFolder(os.path.join(data_dir, 'test'), transform=test_transform)\n",
        "\n",
        "    train_loader = DataLoader(train_dataset, batch_size=batch_size, shuffle=True, num_workers=4, pin_memory=True)\n",
        "    val_loader = DataLoader(val_dataset, batch_size=batch_size, shuffle=False, num_workers=4, pin_memory=True)\n",
        "    test_loader = DataLoader(test_dataset, batch_size=batch_size, shuffle=False, num_workers=4, pin_memory=True)\n",
        "\n",
        "    return train_loader, val_loader, test_loader, num_classes, class_weights"
      ]
    },
    {
      "cell_type": "code",
      "execution_count": null,
      "metadata": {
        "execution": {
          "iopub.execute_input": "2025-04-18T05:05:28.41198Z",
          "iopub.status.busy": "2025-04-18T05:05:28.41163Z",
          "iopub.status.idle": "2025-04-18T05:05:28.421045Z",
          "shell.execute_reply": "2025-04-18T05:05:28.419986Z",
          "shell.execute_reply.started": "2025-04-18T05:05:28.411953Z"
        },
        "id": "jkHxJmqV-Ou_",
        "trusted": true
      },
      "outputs": [],
      "source": [
        "import torch\n",
        "import torch.nn as nn\n",
        "\n",
        "class CustomCNN(nn.Module):\n",
        "    def __init__(self, num_filters, filter_size, activation, dense_neurons, batch_norm=False, dropout=0.0, num_classes=10, use_residual=False):\n",
        "        \"\"\"\n",
        "        Custom CNN with 5 conv blocks, optional residual connections, and a dense classifier.\n",
        "\n",
        "        Args:\n",
        "            num_filters (list): List of 5 integers for the number of filters in each block.\n",
        "            filter_size (int): Kernel size for each conv layer.\n",
        "            activation (class): Activation function class (e.g. nn.ReLU).\n",
        "            dense_neurons (int): Number of neurons in the dense layer.\n",
        "            batch_norm (bool): Whether to use BatchNorm.\n",
        "            dropout (float): Dropout rate.\n",
        "            num_classes (int): Number of output classes.\n",
        "            use_residual (bool): Whether to add residual (skip) connections in each block.\n",
        "        \"\"\"\n",
        "        super(CustomCNN, self).__init__()\n",
        "        self.use_residual = use_residual\n",
        "        layers = []\n",
        "        in_channels = 3  # RGB input\n",
        "\n",
        "        for i in range(5):\n",
        "            # Dynamic padding to maintain spatial dimensions\n",
        "            padding = (filter_size - 1) // 2\n",
        "            conv = nn.Conv2d(in_channels, num_filters[i], kernel_size=filter_size, padding=padding)\n",
        "            bn = nn.BatchNorm2d(num_filters[i]) if batch_norm else nn.Identity()\n",
        "            act = activation()\n",
        "            # Save block in a sequential container but optionally add residual after activation if possible.\n",
        "            # We will wrap this in a custom block that does: out = act(bn(conv(x))); if use_residual and in_channels == out_channels then out = out + x; then apply maxpool.\n",
        "            block = ResidualBlock(conv, bn, act, use_residual)\n",
        "            pool = nn.MaxPool2d(2, 2)\n",
        "            layers.append(nn.Sequential(block, pool))\n",
        "            in_channels = num_filters[i]\n",
        "\n",
        "        self.features = nn.Sequential(*layers)\n",
        "        # After 5 pooling layers, for 224 input, size becomes 224 / 32 = 7\n",
        "        self.flatten_size = num_filters[-1] * 7 * 7\n",
        "        self.classifier = nn.Sequential(\n",
        "            nn.Flatten(),\n",
        "            nn.Linear(self.flatten_size, dense_neurons),\n",
        "            activation(),\n",
        "            nn.Dropout(dropout) if dropout > 0 else nn.Identity(),\n",
        "            nn.Linear(dense_neurons, num_classes)\n",
        "        )\n",
        "\n",
        "    def forward(self, x):\n",
        "        x = self.features(x)\n",
        "        x = self.classifier(x)\n",
        "        return x\n",
        "\n",
        "class ResidualBlock(nn.Module):\n",
        "    def __init__(self, conv, bn, activation, use_residual):\n",
        "        super(ResidualBlock, self).__init__()\n",
        "        self.conv = conv\n",
        "        self.bn = bn\n",
        "        self.activation = activation\n",
        "        self.use_residual = use_residual\n",
        "\n",
        "    def forward(self, x):\n",
        "        out = self.conv(x)\n",
        "        out = self.bn(out)\n",
        "        out = self.activation(out)\n",
        "        if self.use_residual and x.shape == out.shape:\n",
        "            out = out + x\n",
        "        return out\n"
      ]
    },
    {
      "cell_type": "code",
      "execution_count": null,
      "metadata": {
        "execution": {
          "iopub.execute_input": "2025-04-18T05:06:01.808409Z",
          "iopub.status.busy": "2025-04-18T05:06:01.808031Z",
          "iopub.status.idle": "2025-04-18T11:03:10.94401Z",
          "shell.execute_reply": "2025-04-18T11:03:10.943217Z",
          "shell.execute_reply.started": "2025-04-18T05:06:01.808352Z"
        },
        "id": "0IEsdGrx-OvB",
        "outputId": "d08c46c3-2bcd-42bf-daef-be52670b5fde",
        "trusted": true
      },
      "outputs": [
        {
          "name": "stderr",
          "output_type": "stream",
          "text": [
            "\u001b[34m\u001b[1mwandb\u001b[0m: Using wandb-core as the SDK backend.  Please refer to https://wandb.me/wandb-core for more information.\n"
          ]
        },
        {
          "name": "stdout",
          "output_type": "stream",
          "text": [
            "Create sweep with ID: tz0427hh\n",
            "Sweep URL: https://wandb.ai/fgbb66579-iit-madras-foundation/inaturalist_cnn_from_scratchj/sweeps/tz0427hh\n"
          ]
        },
        {
          "name": "stderr",
          "output_type": "stream",
          "text": [
            "\u001b[34m\u001b[1mwandb\u001b[0m: Agent Starting Run: uqkhobg8 with config:\n",
            "\u001b[34m\u001b[1mwandb\u001b[0m: \tactivation: GELU\n",
            "\u001b[34m\u001b[1mwandb\u001b[0m: \tbatch_norm: True\n",
            "\u001b[34m\u001b[1mwandb\u001b[0m: \tbatch_size: 64\n",
            "\u001b[34m\u001b[1mwandb\u001b[0m: \tdata_augmentation: True\n",
            "\u001b[34m\u001b[1mwandb\u001b[0m: \tdata_dir: /kaggle/input/inaturalist/inaturalist_12K\n",
            "\u001b[34m\u001b[1mwandb\u001b[0m: \tdense_neurons: 256\n",
            "\u001b[34m\u001b[1mwandb\u001b[0m: \tdevice: cuda\n",
            "\u001b[34m\u001b[1mwandb\u001b[0m: \tdropout: 0\n",
            "\u001b[34m\u001b[1mwandb\u001b[0m: \tearly_stop_patience: 5\n",
            "\u001b[34m\u001b[1mwandb\u001b[0m: \tepochs: 20\n",
            "\u001b[34m\u001b[1mwandb\u001b[0m: \tfilter_organization: same\n",
            "\u001b[34m\u001b[1mwandb\u001b[0m: \tfilter_size: 3\n",
            "\u001b[34m\u001b[1mwandb\u001b[0m: \tlr: 0.04234037859427504\n",
            "\u001b[34m\u001b[1mwandb\u001b[0m: \tnum_filters: 32\n",
            "\u001b[34m\u001b[1mwandb\u001b[0m: \tuse_residual: False\n",
            "\u001b[34m\u001b[1mwandb\u001b[0m: Currently logged in as: \u001b[33mfgbb66579\u001b[0m (\u001b[33mfgbb66579-iit-madras-foundation\u001b[0m). Use \u001b[1m`wandb login --relogin`\u001b[0m to force relogin\n"
          ]
        },
        {
          "data": {
            "text/html": [
              "Tracking run with wandb version 0.19.1"
            ],
            "text/plain": [
              "<IPython.core.display.HTML object>"
            ]
          },
          "metadata": {},
          "output_type": "display_data"
        },
        {
          "data": {
            "text/html": [
              "Run data is saved locally in <code>/kaggle/working/wandb/run-20250418_050616-uqkhobg8</code>"
            ],
            "text/plain": [
              "<IPython.core.display.HTML object>"
            ]
          },
          "metadata": {},
          "output_type": "display_data"
        },
        {
          "data": {
            "text/html": [
              "Syncing run <strong><a href='https://wandb.ai/fgbb66579-iit-madras-foundation/inaturalist_cnn_from_scratchj/runs/uqkhobg8' target=\"_blank\">fancy-sweep-1</a></strong> to <a href='https://wandb.ai/fgbb66579-iit-madras-foundation/inaturalist_cnn_from_scratchj' target=\"_blank\">Weights & Biases</a> (<a href='https://wandb.me/developer-guide' target=\"_blank\">docs</a>)<br>Sweep page: <a href='https://wandb.ai/fgbb66579-iit-madras-foundation/inaturalist_cnn_from_scratchj/sweeps/tz0427hh' target=\"_blank\">https://wandb.ai/fgbb66579-iit-madras-foundation/inaturalist_cnn_from_scratchj/sweeps/tz0427hh</a>"
            ],
            "text/plain": [
              "<IPython.core.display.HTML object>"
            ]
          },
          "metadata": {},
          "output_type": "display_data"
        },
        {
          "data": {
            "text/html": [
              " View project at <a href='https://wandb.ai/fgbb66579-iit-madras-foundation/inaturalist_cnn_from_scratchj' target=\"_blank\">https://wandb.ai/fgbb66579-iit-madras-foundation/inaturalist_cnn_from_scratchj</a>"
            ],
            "text/plain": [
              "<IPython.core.display.HTML object>"
            ]
          },
          "metadata": {},
          "output_type": "display_data"
        },
        {
          "data": {
            "text/html": [
              " View sweep at <a href='https://wandb.ai/fgbb66579-iit-madras-foundation/inaturalist_cnn_from_scratchj/sweeps/tz0427hh' target=\"_blank\">https://wandb.ai/fgbb66579-iit-madras-foundation/inaturalist_cnn_from_scratchj/sweeps/tz0427hh</a>"
            ],
            "text/plain": [
              "<IPython.core.display.HTML object>"
            ]
          },
          "metadata": {},
          "output_type": "display_data"
        },
        {
          "data": {
            "text/html": [
              " View run at <a href='https://wandb.ai/fgbb66579-iit-madras-foundation/inaturalist_cnn_from_scratchj/runs/uqkhobg8' target=\"_blank\">https://wandb.ai/fgbb66579-iit-madras-foundation/inaturalist_cnn_from_scratchj/runs/uqkhobg8</a>"
            ],
            "text/plain": [
              "<IPython.core.display.HTML object>"
            ]
          },
          "metadata": {},
          "output_type": "display_data"
        },
        {
          "name": "stderr",
          "output_type": "stream",
          "text": [
            "<ipython-input-3-3fc379e20309>:53: FutureWarning: `torch.cuda.amp.GradScaler(args...)` is deprecated. Please use `torch.amp.GradScaler('cuda', args...)` instead.\n",
            "  scaler    = GradScaler()\n",
            "<ipython-input-3-3fc379e20309>:65: FutureWarning: `torch.cuda.amp.autocast(args...)` is deprecated. Please use `torch.amp.autocast('cuda', args...)` instead.\n",
            "  with autocast():\n",
            "<ipython-input-3-3fc379e20309>:81: FutureWarning: `torch.cuda.amp.autocast(args...)` is deprecated. Please use `torch.amp.autocast('cuda', args...)` instead.\n",
            "  with autocast():\n"
          ]
        },
        {
          "data": {
            "text/html": [],
            "text/plain": [
              "<IPython.core.display.HTML object>"
            ]
          },
          "metadata": {},
          "output_type": "display_data"
        },
        {
          "data": {
            "text/html": [
              "<br>    <style><br>        .wandb-row {<br>            display: flex;<br>            flex-direction: row;<br>            flex-wrap: wrap;<br>            justify-content: flex-start;<br>            width: 100%;<br>        }<br>        .wandb-col {<br>            display: flex;<br>            flex-direction: column;<br>            flex-basis: 100%;<br>            flex: 1;<br>            padding: 10px;<br>        }<br>    </style><br><div class=\"wandb-row\"><div class=\"wandb-col\"><h3>Run history:</h3><br/><table class=\"wandb\"><tr><td>epoch</td><td>▁▁▂▂▂▃▃▄▄▄▅▅▅▆▆▇▇▇██</td></tr><tr><td>hp/batch_size</td><td>▁▁▁▁▁▁▁▁▁▁▁▁▁▁▁▁▁▁▁▁</td></tr><tr><td>hp/dense_neurons</td><td>▁▁▁▁▁▁▁▁▁▁▁▁▁▁▁▁▁▁▁▁</td></tr><tr><td>hp/dropout</td><td>▁▁▁▁▁▁▁▁▁▁▁▁▁▁▁▁▁▁▁▁</td></tr><tr><td>hp/filter_size</td><td>▁▁▁▁▁▁▁▁▁▁▁▁▁▁▁▁▁▁▁▁</td></tr><tr><td>hp/lr</td><td>▁▁▁▁▁▁▁▁▁▁▁▁▁▁▁▁▁▁▁▁</td></tr><tr><td>hp/num_filters</td><td>▁▁▁▁▁▁▁▁▁▁▁▁▁▁▁▁▁▁▁▁</td></tr><tr><td>lr</td><td>███████████████▁▁▁▁▁</td></tr><tr><td>train_loss</td><td>█▇▆▆▆▅▅▅▄▄▄▄▄▃▃▂▂▁▁▁</td></tr><tr><td>val_accuracy</td><td>▁▃▅▅▆▆▇▆▇▇▇▆▇▇▇█████</td></tr><tr><td>val_loss</td><td>█▆▄▄▃▃▂▃▂▂▂▃▂▂▁▁▁▂▁▂</td></tr></table><br/></div><div class=\"wandb-col\"><h3>Run summary:</h3><br/><table class=\"wandb\"><tr><td>epoch</td><td>19</td></tr><tr><td>hp/activation</td><td>GELU</td></tr><tr><td>hp/batch_norm</td><td>True</td></tr><tr><td>hp/batch_size</td><td>64</td></tr><tr><td>hp/data_augmentation</td><td>True</td></tr><tr><td>hp/dense_neurons</td><td>256</td></tr><tr><td>hp/dropout</td><td>0</td></tr><tr><td>hp/filter_organization</td><td>same</td></tr><tr><td>hp/filter_size</td><td>3</td></tr><tr><td>hp/lr</td><td>0.04234</td></tr><tr><td>hp/num_filters</td><td>32</td></tr><tr><td>hp/use_residual</td><td>False</td></tr><tr><td>lr</td><td>0.02117</td></tr><tr><td>train_loss</td><td>1.31321</td></tr><tr><td>val_accuracy</td><td>40.8</td></tr><tr><td>val_loss</td><td>1.81949</td></tr></table><br/></div></div>"
            ],
            "text/plain": [
              "<IPython.core.display.HTML object>"
            ]
          },
          "metadata": {},
          "output_type": "display_data"
        },
        {
          "data": {
            "text/html": [
              " View run <strong style=\"color:#cdcd00\">fancy-sweep-1</strong> at: <a href='https://wandb.ai/fgbb66579-iit-madras-foundation/inaturalist_cnn_from_scratchj/runs/uqkhobg8' target=\"_blank\">https://wandb.ai/fgbb66579-iit-madras-foundation/inaturalist_cnn_from_scratchj/runs/uqkhobg8</a><br> View project at: <a href='https://wandb.ai/fgbb66579-iit-madras-foundation/inaturalist_cnn_from_scratchj' target=\"_blank\">https://wandb.ai/fgbb66579-iit-madras-foundation/inaturalist_cnn_from_scratchj</a><br>Synced 5 W&B file(s), 0 media file(s), 0 artifact file(s) and 0 other file(s)"
            ],
            "text/plain": [
              "<IPython.core.display.HTML object>"
            ]
          },
          "metadata": {},
          "output_type": "display_data"
        },
        {
          "data": {
            "text/html": [
              "Find logs at: <code>./wandb/run-20250418_050616-uqkhobg8/logs</code>"
            ],
            "text/plain": [
              "<IPython.core.display.HTML object>"
            ]
          },
          "metadata": {},
          "output_type": "display_data"
        },
        {
          "name": "stderr",
          "output_type": "stream",
          "text": [
            "\u001b[34m\u001b[1mwandb\u001b[0m: Agent Starting Run: 6mpco1ol with config:\n",
            "\u001b[34m\u001b[1mwandb\u001b[0m: \tactivation: Mish\n",
            "\u001b[34m\u001b[1mwandb\u001b[0m: \tbatch_norm: False\n",
            "\u001b[34m\u001b[1mwandb\u001b[0m: \tbatch_size: 32\n",
            "\u001b[34m\u001b[1mwandb\u001b[0m: \tdata_augmentation: True\n",
            "\u001b[34m\u001b[1mwandb\u001b[0m: \tdata_dir: /kaggle/input/inaturalist/inaturalist_12K\n",
            "\u001b[34m\u001b[1mwandb\u001b[0m: \tdense_neurons: 512\n",
            "\u001b[34m\u001b[1mwandb\u001b[0m: \tdevice: cuda\n",
            "\u001b[34m\u001b[1mwandb\u001b[0m: \tdropout: 0.3\n",
            "\u001b[34m\u001b[1mwandb\u001b[0m: \tearly_stop_patience: 5\n",
            "\u001b[34m\u001b[1mwandb\u001b[0m: \tepochs: 20\n",
            "\u001b[34m\u001b[1mwandb\u001b[0m: \tfilter_organization: half\n",
            "\u001b[34m\u001b[1mwandb\u001b[0m: \tfilter_size: 3\n",
            "\u001b[34m\u001b[1mwandb\u001b[0m: \tlr: 0.09949458598329218\n",
            "\u001b[34m\u001b[1mwandb\u001b[0m: \tnum_filters: 32\n",
            "\u001b[34m\u001b[1mwandb\u001b[0m: \tuse_residual: False\n"
          ]
        },
        {
          "data": {
            "text/html": [
              "Tracking run with wandb version 0.19.1"
            ],
            "text/plain": [
              "<IPython.core.display.HTML object>"
            ]
          },
          "metadata": {},
          "output_type": "display_data"
        },
        {
          "data": {
            "text/html": [
              "Run data is saved locally in <code>/kaggle/working/wandb/run-20250418_052722-6mpco1ol</code>"
            ],
            "text/plain": [
              "<IPython.core.display.HTML object>"
            ]
          },
          "metadata": {},
          "output_type": "display_data"
        },
        {
          "data": {
            "text/html": [
              "Syncing run <strong><a href='https://wandb.ai/fgbb66579-iit-madras-foundation/inaturalist_cnn_from_scratchj/runs/6mpco1ol' target=\"_blank\">bright-sweep-2</a></strong> to <a href='https://wandb.ai/fgbb66579-iit-madras-foundation/inaturalist_cnn_from_scratchj' target=\"_blank\">Weights & Biases</a> (<a href='https://wandb.me/developer-guide' target=\"_blank\">docs</a>)<br>Sweep page: <a href='https://wandb.ai/fgbb66579-iit-madras-foundation/inaturalist_cnn_from_scratchj/sweeps/tz0427hh' target=\"_blank\">https://wandb.ai/fgbb66579-iit-madras-foundation/inaturalist_cnn_from_scratchj/sweeps/tz0427hh</a>"
            ],
            "text/plain": [
              "<IPython.core.display.HTML object>"
            ]
          },
          "metadata": {},
          "output_type": "display_data"
        },
        {
          "data": {
            "text/html": [
              " View project at <a href='https://wandb.ai/fgbb66579-iit-madras-foundation/inaturalist_cnn_from_scratchj' target=\"_blank\">https://wandb.ai/fgbb66579-iit-madras-foundation/inaturalist_cnn_from_scratchj</a>"
            ],
            "text/plain": [
              "<IPython.core.display.HTML object>"
            ]
          },
          "metadata": {},
          "output_type": "display_data"
        },
        {
          "data": {
            "text/html": [
              " View sweep at <a href='https://wandb.ai/fgbb66579-iit-madras-foundation/inaturalist_cnn_from_scratchj/sweeps/tz0427hh' target=\"_blank\">https://wandb.ai/fgbb66579-iit-madras-foundation/inaturalist_cnn_from_scratchj/sweeps/tz0427hh</a>"
            ],
            "text/plain": [
              "<IPython.core.display.HTML object>"
            ]
          },
          "metadata": {},
          "output_type": "display_data"
        },
        {
          "data": {
            "text/html": [
              " View run at <a href='https://wandb.ai/fgbb66579-iit-madras-foundation/inaturalist_cnn_from_scratchj/runs/6mpco1ol' target=\"_blank\">https://wandb.ai/fgbb66579-iit-madras-foundation/inaturalist_cnn_from_scratchj/runs/6mpco1ol</a>"
            ],
            "text/plain": [
              "<IPython.core.display.HTML object>"
            ]
          },
          "metadata": {},
          "output_type": "display_data"
        },
        {
          "name": "stderr",
          "output_type": "stream",
          "text": [
            "<ipython-input-3-3fc379e20309>:53: FutureWarning: `torch.cuda.amp.GradScaler(args...)` is deprecated. Please use `torch.amp.GradScaler('cuda', args...)` instead.\n",
            "  scaler    = GradScaler()\n",
            "<ipython-input-3-3fc379e20309>:65: FutureWarning: `torch.cuda.amp.autocast(args...)` is deprecated. Please use `torch.amp.autocast('cuda', args...)` instead.\n",
            "  with autocast():\n",
            "<ipython-input-3-3fc379e20309>:81: FutureWarning: `torch.cuda.amp.autocast(args...)` is deprecated. Please use `torch.amp.autocast('cuda', args...)` instead.\n",
            "  with autocast():\n"
          ]
        },
        {
          "data": {
            "text/html": [],
            "text/plain": [
              "<IPython.core.display.HTML object>"
            ]
          },
          "metadata": {},
          "output_type": "display_data"
        },
        {
          "data": {
            "text/html": [
              "<br>    <style><br>        .wandb-row {<br>            display: flex;<br>            flex-direction: row;<br>            flex-wrap: wrap;<br>            justify-content: flex-start;<br>            width: 100%;<br>        }<br>        .wandb-col {<br>            display: flex;<br>            flex-direction: column;<br>            flex-basis: 100%;<br>            flex: 1;<br>            padding: 10px;<br>        }<br>    </style><br><div class=\"wandb-row\"><div class=\"wandb-col\"><h3>Run history:</h3><br/><table class=\"wandb\"><tr><td>epoch</td><td>▁▁▂▂▂▃▃▄▄▄▅▅▅▆▆▇▇▇██</td></tr><tr><td>hp/batch_size</td><td>▁▁▁▁▁▁▁▁▁▁▁▁▁▁▁▁▁▁▁▁</td></tr><tr><td>hp/dense_neurons</td><td>▁▁▁▁▁▁▁▁▁▁▁▁▁▁▁▁▁▁▁▁</td></tr><tr><td>hp/dropout</td><td>▁▁▁▁▁▁▁▁▁▁▁▁▁▁▁▁▁▁▁▁</td></tr><tr><td>hp/filter_size</td><td>▁▁▁▁▁▁▁▁▁▁▁▁▁▁▁▁▁▁▁▁</td></tr><tr><td>hp/lr</td><td>▁▁▁▁▁▁▁▁▁▁▁▁▁▁▁▁▁▁▁▁</td></tr><tr><td>hp/num_filters</td><td>▁▁▁▁▁▁▁▁▁▁▁▁▁▁▁▁▁▁▁▁</td></tr><tr><td>lr</td><td>████████▃▃▃▃▃▃▃▃▁▁▁▁</td></tr><tr><td>train_loss</td><td>█▇▇▇▇▇▇▇▄▄▄▃▃▃▃▃▂▂▂▁</td></tr><tr><td>val_accuracy</td><td>▁▃▄▄▃▃▃▃▅▆▅▇▆▆▇▅▇▇█▇</td></tr><tr><td>val_loss</td><td>▇▆▅▅▆▅█▆▄▃▃▂▂▃▃▃▁▂▁▂</td></tr></table><br/></div><div class=\"wandb-col\"><h3>Run summary:</h3><br/><table class=\"wandb\"><tr><td>epoch</td><td>19</td></tr><tr><td>hp/activation</td><td>Mish</td></tr><tr><td>hp/batch_norm</td><td>False</td></tr><tr><td>hp/batch_size</td><td>32</td></tr><tr><td>hp/data_augmentation</td><td>True</td></tr><tr><td>hp/dense_neurons</td><td>512</td></tr><tr><td>hp/dropout</td><td>0.3</td></tr><tr><td>hp/filter_organization</td><td>half</td></tr><tr><td>hp/filter_size</td><td>3</td></tr><tr><td>hp/lr</td><td>0.09949</td></tr><tr><td>hp/num_filters</td><td>32</td></tr><tr><td>hp/use_residual</td><td>False</td></tr><tr><td>lr</td><td>0.02487</td></tr><tr><td>train_loss</td><td>2.06564</td></tr><tr><td>val_accuracy</td><td>26.1</td></tr><tr><td>val_loss</td><td>2.05977</td></tr></table><br/></div></div>"
            ],
            "text/plain": [
              "<IPython.core.display.HTML object>"
            ]
          },
          "metadata": {},
          "output_type": "display_data"
        },
        {
          "data": {
            "text/html": [
              " View run <strong style=\"color:#cdcd00\">bright-sweep-2</strong> at: <a href='https://wandb.ai/fgbb66579-iit-madras-foundation/inaturalist_cnn_from_scratchj/runs/6mpco1ol' target=\"_blank\">https://wandb.ai/fgbb66579-iit-madras-foundation/inaturalist_cnn_from_scratchj/runs/6mpco1ol</a><br> View project at: <a href='https://wandb.ai/fgbb66579-iit-madras-foundation/inaturalist_cnn_from_scratchj' target=\"_blank\">https://wandb.ai/fgbb66579-iit-madras-foundation/inaturalist_cnn_from_scratchj</a><br>Synced 5 W&B file(s), 0 media file(s), 0 artifact file(s) and 0 other file(s)"
            ],
            "text/plain": [
              "<IPython.core.display.HTML object>"
            ]
          },
          "metadata": {},
          "output_type": "display_data"
        },
        {
          "data": {
            "text/html": [
              "Find logs at: <code>./wandb/run-20250418_052722-6mpco1ol/logs</code>"
            ],
            "text/plain": [
              "<IPython.core.display.HTML object>"
            ]
          },
          "metadata": {},
          "output_type": "display_data"
        },
        {
          "name": "stderr",
          "output_type": "stream",
          "text": [
            "\u001b[34m\u001b[1mwandb\u001b[0m: Agent Starting Run: z66xdjm6 with config:\n",
            "\u001b[34m\u001b[1mwandb\u001b[0m: \tactivation: ReLU\n",
            "\u001b[34m\u001b[1mwandb\u001b[0m: \tbatch_norm: True\n",
            "\u001b[34m\u001b[1mwandb\u001b[0m: \tbatch_size: 32\n",
            "\u001b[34m\u001b[1mwandb\u001b[0m: \tdata_augmentation: False\n",
            "\u001b[34m\u001b[1mwandb\u001b[0m: \tdata_dir: /kaggle/input/inaturalist/inaturalist_12K\n",
            "\u001b[34m\u001b[1mwandb\u001b[0m: \tdense_neurons: 256\n",
            "\u001b[34m\u001b[1mwandb\u001b[0m: \tdevice: cuda\n",
            "\u001b[34m\u001b[1mwandb\u001b[0m: \tdropout: 0.3\n",
            "\u001b[34m\u001b[1mwandb\u001b[0m: \tearly_stop_patience: 5\n",
            "\u001b[34m\u001b[1mwandb\u001b[0m: \tepochs: 20\n",
            "\u001b[34m\u001b[1mwandb\u001b[0m: \tfilter_organization: same\n",
            "\u001b[34m\u001b[1mwandb\u001b[0m: \tfilter_size: 3\n",
            "\u001b[34m\u001b[1mwandb\u001b[0m: \tlr: 0.09121751410884428\n",
            "\u001b[34m\u001b[1mwandb\u001b[0m: \tnum_filters: 64\n",
            "\u001b[34m\u001b[1mwandb\u001b[0m: \tuse_residual: False\n"
          ]
        },
        {
          "data": {
            "text/html": [
              "Tracking run with wandb version 0.19.1"
            ],
            "text/plain": [
              "<IPython.core.display.HTML object>"
            ]
          },
          "metadata": {},
          "output_type": "display_data"
        },
        {
          "data": {
            "text/html": [
              "Run data is saved locally in <code>/kaggle/working/wandb/run-20250418_054616-z66xdjm6</code>"
            ],
            "text/plain": [
              "<IPython.core.display.HTML object>"
            ]
          },
          "metadata": {},
          "output_type": "display_data"
        },
        {
          "data": {
            "text/html": [
              "Syncing run <strong><a href='https://wandb.ai/fgbb66579-iit-madras-foundation/inaturalist_cnn_from_scratchj/runs/z66xdjm6' target=\"_blank\">swift-sweep-3</a></strong> to <a href='https://wandb.ai/fgbb66579-iit-madras-foundation/inaturalist_cnn_from_scratchj' target=\"_blank\">Weights & Biases</a> (<a href='https://wandb.me/developer-guide' target=\"_blank\">docs</a>)<br>Sweep page: <a href='https://wandb.ai/fgbb66579-iit-madras-foundation/inaturalist_cnn_from_scratchj/sweeps/tz0427hh' target=\"_blank\">https://wandb.ai/fgbb66579-iit-madras-foundation/inaturalist_cnn_from_scratchj/sweeps/tz0427hh</a>"
            ],
            "text/plain": [
              "<IPython.core.display.HTML object>"
            ]
          },
          "metadata": {},
          "output_type": "display_data"
        },
        {
          "data": {
            "text/html": [
              " View project at <a href='https://wandb.ai/fgbb66579-iit-madras-foundation/inaturalist_cnn_from_scratchj' target=\"_blank\">https://wandb.ai/fgbb66579-iit-madras-foundation/inaturalist_cnn_from_scratchj</a>"
            ],
            "text/plain": [
              "<IPython.core.display.HTML object>"
            ]
          },
          "metadata": {},
          "output_type": "display_data"
        },
        {
          "data": {
            "text/html": [
              " View sweep at <a href='https://wandb.ai/fgbb66579-iit-madras-foundation/inaturalist_cnn_from_scratchj/sweeps/tz0427hh' target=\"_blank\">https://wandb.ai/fgbb66579-iit-madras-foundation/inaturalist_cnn_from_scratchj/sweeps/tz0427hh</a>"
            ],
            "text/plain": [
              "<IPython.core.display.HTML object>"
            ]
          },
          "metadata": {},
          "output_type": "display_data"
        },
        {
          "data": {
            "text/html": [
              " View run at <a href='https://wandb.ai/fgbb66579-iit-madras-foundation/inaturalist_cnn_from_scratchj/runs/z66xdjm6' target=\"_blank\">https://wandb.ai/fgbb66579-iit-madras-foundation/inaturalist_cnn_from_scratchj/runs/z66xdjm6</a>"
            ],
            "text/plain": [
              "<IPython.core.display.HTML object>"
            ]
          },
          "metadata": {},
          "output_type": "display_data"
        },
        {
          "name": "stderr",
          "output_type": "stream",
          "text": [
            "<ipython-input-3-3fc379e20309>:53: FutureWarning: `torch.cuda.amp.GradScaler(args...)` is deprecated. Please use `torch.amp.GradScaler('cuda', args...)` instead.\n",
            "  scaler    = GradScaler()\n",
            "<ipython-input-3-3fc379e20309>:65: FutureWarning: `torch.cuda.amp.autocast(args...)` is deprecated. Please use `torch.amp.autocast('cuda', args...)` instead.\n",
            "  with autocast():\n",
            "<ipython-input-3-3fc379e20309>:81: FutureWarning: `torch.cuda.amp.autocast(args...)` is deprecated. Please use `torch.amp.autocast('cuda', args...)` instead.\n",
            "  with autocast():\n"
          ]
        },
        {
          "data": {
            "text/html": [],
            "text/plain": [
              "<IPython.core.display.HTML object>"
            ]
          },
          "metadata": {},
          "output_type": "display_data"
        },
        {
          "data": {
            "text/html": [
              "<br>    <style><br>        .wandb-row {<br>            display: flex;<br>            flex-direction: row;<br>            flex-wrap: wrap;<br>            justify-content: flex-start;<br>            width: 100%;<br>        }<br>        .wandb-col {<br>            display: flex;<br>            flex-direction: column;<br>            flex-basis: 100%;<br>            flex: 1;<br>            padding: 10px;<br>        }<br>    </style><br><div class=\"wandb-row\"><div class=\"wandb-col\"><h3>Run history:</h3><br/><table class=\"wandb\"><tr><td>epoch</td><td>▁▂▃▅▆▇█</td></tr><tr><td>hp/batch_size</td><td>▁▁▁▁▁▁▁</td></tr><tr><td>hp/dense_neurons</td><td>▁▁▁▁▁▁▁</td></tr><tr><td>hp/dropout</td><td>▁▁▁▁▁▁▁</td></tr><tr><td>hp/filter_size</td><td>▁▁▁▁▁▁▁</td></tr><tr><td>hp/lr</td><td>▁▁▁▁▁▁▁</td></tr><tr><td>hp/num_filters</td><td>▁▁▁▁▁▁▁</td></tr><tr><td>lr</td><td>██████▁</td></tr><tr><td>train_loss</td><td>█▁▂▁▁▁▁</td></tr><tr><td>val_accuracy</td><td>▁██████</td></tr><tr><td>val_loss</td><td>▂▆▁▂▁█▁</td></tr></table><br/></div><div class=\"wandb-col\"><h3>Run summary:</h3><br/><table class=\"wandb\"><tr><td>epoch</td><td>6</td></tr><tr><td>hp/activation</td><td>ReLU</td></tr><tr><td>hp/batch_norm</td><td>True</td></tr><tr><td>hp/batch_size</td><td>32</td></tr><tr><td>hp/data_augmentation</td><td>False</td></tr><tr><td>hp/dense_neurons</td><td>256</td></tr><tr><td>hp/dropout</td><td>0.3</td></tr><tr><td>hp/filter_organization</td><td>same</td></tr><tr><td>hp/filter_size</td><td>3</td></tr><tr><td>hp/lr</td><td>0.09122</td></tr><tr><td>hp/num_filters</td><td>64</td></tr><tr><td>hp/use_residual</td><td>False</td></tr><tr><td>lr</td><td>0.04561</td></tr><tr><td>train_loss</td><td>2.30717</td></tr><tr><td>val_accuracy</td><td>10</td></tr><tr><td>val_loss</td><td>2.3053</td></tr></table><br/></div></div>"
            ],
            "text/plain": [
              "<IPython.core.display.HTML object>"
            ]
          },
          "metadata": {},
          "output_type": "display_data"
        },
        {
          "data": {
            "text/html": [
              " View run <strong style=\"color:#cdcd00\">swift-sweep-3</strong> at: <a href='https://wandb.ai/fgbb66579-iit-madras-foundation/inaturalist_cnn_from_scratchj/runs/z66xdjm6' target=\"_blank\">https://wandb.ai/fgbb66579-iit-madras-foundation/inaturalist_cnn_from_scratchj/runs/z66xdjm6</a><br> View project at: <a href='https://wandb.ai/fgbb66579-iit-madras-foundation/inaturalist_cnn_from_scratchj' target=\"_blank\">https://wandb.ai/fgbb66579-iit-madras-foundation/inaturalist_cnn_from_scratchj</a><br>Synced 5 W&B file(s), 0 media file(s), 0 artifact file(s) and 0 other file(s)"
            ],
            "text/plain": [
              "<IPython.core.display.HTML object>"
            ]
          },
          "metadata": {},
          "output_type": "display_data"
        },
        {
          "data": {
            "text/html": [
              "Find logs at: <code>./wandb/run-20250418_054616-z66xdjm6/logs</code>"
            ],
            "text/plain": [
              "<IPython.core.display.HTML object>"
            ]
          },
          "metadata": {},
          "output_type": "display_data"
        },
        {
          "name": "stderr",
          "output_type": "stream",
          "text": [
            "\u001b[34m\u001b[1mwandb\u001b[0m: Agent Starting Run: 7jf34xil with config:\n",
            "\u001b[34m\u001b[1mwandb\u001b[0m: \tactivation: Mish\n",
            "\u001b[34m\u001b[1mwandb\u001b[0m: \tbatch_norm: False\n",
            "\u001b[34m\u001b[1mwandb\u001b[0m: \tbatch_size: 32\n",
            "\u001b[34m\u001b[1mwandb\u001b[0m: \tdata_augmentation: False\n",
            "\u001b[34m\u001b[1mwandb\u001b[0m: \tdata_dir: /kaggle/input/inaturalist/inaturalist_12K\n",
            "\u001b[34m\u001b[1mwandb\u001b[0m: \tdense_neurons: 512\n",
            "\u001b[34m\u001b[1mwandb\u001b[0m: \tdevice: cuda\n",
            "\u001b[34m\u001b[1mwandb\u001b[0m: \tdropout: 0.2\n",
            "\u001b[34m\u001b[1mwandb\u001b[0m: \tearly_stop_patience: 5\n",
            "\u001b[34m\u001b[1mwandb\u001b[0m: \tepochs: 20\n",
            "\u001b[34m\u001b[1mwandb\u001b[0m: \tfilter_organization: double\n",
            "\u001b[34m\u001b[1mwandb\u001b[0m: \tfilter_size: 5\n",
            "\u001b[34m\u001b[1mwandb\u001b[0m: \tlr: 0.007506549152565881\n",
            "\u001b[34m\u001b[1mwandb\u001b[0m: \tnum_filters: 128\n",
            "\u001b[34m\u001b[1mwandb\u001b[0m: \tuse_residual: False\n"
          ]
        },
        {
          "data": {
            "text/html": [
              "Tracking run with wandb version 0.19.1"
            ],
            "text/plain": [
              "<IPython.core.display.HTML object>"
            ]
          },
          "metadata": {},
          "output_type": "display_data"
        },
        {
          "data": {
            "text/html": [
              "Run data is saved locally in <code>/kaggle/working/wandb/run-20250418_055214-7jf34xil</code>"
            ],
            "text/plain": [
              "<IPython.core.display.HTML object>"
            ]
          },
          "metadata": {},
          "output_type": "display_data"
        },
        {
          "data": {
            "text/html": [
              "Syncing run <strong><a href='https://wandb.ai/fgbb66579-iit-madras-foundation/inaturalist_cnn_from_scratchj/runs/7jf34xil' target=\"_blank\">bumbling-sweep-4</a></strong> to <a href='https://wandb.ai/fgbb66579-iit-madras-foundation/inaturalist_cnn_from_scratchj' target=\"_blank\">Weights & Biases</a> (<a href='https://wandb.me/developer-guide' target=\"_blank\">docs</a>)<br>Sweep page: <a href='https://wandb.ai/fgbb66579-iit-madras-foundation/inaturalist_cnn_from_scratchj/sweeps/tz0427hh' target=\"_blank\">https://wandb.ai/fgbb66579-iit-madras-foundation/inaturalist_cnn_from_scratchj/sweeps/tz0427hh</a>"
            ],
            "text/plain": [
              "<IPython.core.display.HTML object>"
            ]
          },
          "metadata": {},
          "output_type": "display_data"
        },
        {
          "data": {
            "text/html": [
              " View project at <a href='https://wandb.ai/fgbb66579-iit-madras-foundation/inaturalist_cnn_from_scratchj' target=\"_blank\">https://wandb.ai/fgbb66579-iit-madras-foundation/inaturalist_cnn_from_scratchj</a>"
            ],
            "text/plain": [
              "<IPython.core.display.HTML object>"
            ]
          },
          "metadata": {},
          "output_type": "display_data"
        },
        {
          "data": {
            "text/html": [
              " View sweep at <a href='https://wandb.ai/fgbb66579-iit-madras-foundation/inaturalist_cnn_from_scratchj/sweeps/tz0427hh' target=\"_blank\">https://wandb.ai/fgbb66579-iit-madras-foundation/inaturalist_cnn_from_scratchj/sweeps/tz0427hh</a>"
            ],
            "text/plain": [
              "<IPython.core.display.HTML object>"
            ]
          },
          "metadata": {},
          "output_type": "display_data"
        },
        {
          "data": {
            "text/html": [
              " View run at <a href='https://wandb.ai/fgbb66579-iit-madras-foundation/inaturalist_cnn_from_scratchj/runs/7jf34xil' target=\"_blank\">https://wandb.ai/fgbb66579-iit-madras-foundation/inaturalist_cnn_from_scratchj/runs/7jf34xil</a>"
            ],
            "text/plain": [
              "<IPython.core.display.HTML object>"
            ]
          },
          "metadata": {},
          "output_type": "display_data"
        },
        {
          "name": "stderr",
          "output_type": "stream",
          "text": [
            "<ipython-input-3-3fc379e20309>:53: FutureWarning: `torch.cuda.amp.GradScaler(args...)` is deprecated. Please use `torch.amp.GradScaler('cuda', args...)` instead.\n",
            "  scaler    = GradScaler()\n",
            "<ipython-input-3-3fc379e20309>:65: FutureWarning: `torch.cuda.amp.autocast(args...)` is deprecated. Please use `torch.amp.autocast('cuda', args...)` instead.\n",
            "  with autocast():\n",
            "<ipython-input-3-3fc379e20309>:81: FutureWarning: `torch.cuda.amp.autocast(args...)` is deprecated. Please use `torch.amp.autocast('cuda', args...)` instead.\n",
            "  with autocast():\n"
          ]
        },
        {
          "data": {
            "text/html": [],
            "text/plain": [
              "<IPython.core.display.HTML object>"
            ]
          },
          "metadata": {},
          "output_type": "display_data"
        },
        {
          "data": {
            "text/html": [
              "<br>    <style><br>        .wandb-row {<br>            display: flex;<br>            flex-direction: row;<br>            flex-wrap: wrap;<br>            justify-content: flex-start;<br>            width: 100%;<br>        }<br>        .wandb-col {<br>            display: flex;<br>            flex-direction: column;<br>            flex-basis: 100%;<br>            flex: 1;<br>            padding: 10px;<br>        }<br>    </style><br><div class=\"wandb-row\"><div class=\"wandb-col\"><h3>Run history:</h3><br/><table class=\"wandb\"><tr><td>epoch</td><td>▁▂▂▃▃▄▅▅▆▆▇▇█</td></tr><tr><td>hp/batch_size</td><td>▁▁▁▁▁▁▁▁▁▁▁▁▁</td></tr><tr><td>hp/dense_neurons</td><td>▁▁▁▁▁▁▁▁▁▁▁▁▁</td></tr><tr><td>hp/dropout</td><td>▁▁▁▁▁▁▁▁▁▁▁▁▁</td></tr><tr><td>hp/filter_size</td><td>▁▁▁▁▁▁▁▁▁▁▁▁▁</td></tr><tr><td>hp/lr</td><td>▁▁▁▁▁▁▁▁▁▁▁▁▁</td></tr><tr><td>hp/num_filters</td><td>▁▁▁▁▁▁▁▁▁▁▁▁▁</td></tr><tr><td>lr</td><td>████████████▁</td></tr><tr><td>train_loss</td><td>█▇▇▇▇▇▆▆▅▄▃▂▁</td></tr><tr><td>val_accuracy</td><td>▁▄▆▇▇▇▇██▇▆▅▇</td></tr><tr><td>val_loss</td><td>▂▂▁▁▁▁▁▁▂▃▄▇█</td></tr></table><br/></div><div class=\"wandb-col\"><h3>Run summary:</h3><br/><table class=\"wandb\"><tr><td>epoch</td><td>12</td></tr><tr><td>hp/activation</td><td>Mish</td></tr><tr><td>hp/batch_norm</td><td>False</td></tr><tr><td>hp/batch_size</td><td>32</td></tr><tr><td>hp/data_augmentation</td><td>False</td></tr><tr><td>hp/dense_neurons</td><td>512</td></tr><tr><td>hp/dropout</td><td>0.2</td></tr><tr><td>hp/filter_organization</td><td>double</td></tr><tr><td>hp/filter_size</td><td>5</td></tr><tr><td>hp/lr</td><td>0.00751</td></tr><tr><td>hp/num_filters</td><td>128</td></tr><tr><td>hp/use_residual</td><td>False</td></tr><tr><td>lr</td><td>0.00375</td></tr><tr><td>train_loss</td><td>0.14256</td></tr><tr><td>val_accuracy</td><td>34</td></tr><tr><td>val_loss</td><td>3.28543</td></tr></table><br/></div></div>"
            ],
            "text/plain": [
              "<IPython.core.display.HTML object>"
            ]
          },
          "metadata": {},
          "output_type": "display_data"
        },
        {
          "data": {
            "text/html": [
              " View run <strong style=\"color:#cdcd00\">bumbling-sweep-4</strong> at: <a href='https://wandb.ai/fgbb66579-iit-madras-foundation/inaturalist_cnn_from_scratchj/runs/7jf34xil' target=\"_blank\">https://wandb.ai/fgbb66579-iit-madras-foundation/inaturalist_cnn_from_scratchj/runs/7jf34xil</a><br> View project at: <a href='https://wandb.ai/fgbb66579-iit-madras-foundation/inaturalist_cnn_from_scratchj' target=\"_blank\">https://wandb.ai/fgbb66579-iit-madras-foundation/inaturalist_cnn_from_scratchj</a><br>Synced 5 W&B file(s), 0 media file(s), 0 artifact file(s) and 0 other file(s)"
            ],
            "text/plain": [
              "<IPython.core.display.HTML object>"
            ]
          },
          "metadata": {},
          "output_type": "display_data"
        },
        {
          "data": {
            "text/html": [
              "Find logs at: <code>./wandb/run-20250418_055214-7jf34xil/logs</code>"
            ],
            "text/plain": [
              "<IPython.core.display.HTML object>"
            ]
          },
          "metadata": {},
          "output_type": "display_data"
        },
        {
          "name": "stderr",
          "output_type": "stream",
          "text": [
            "\u001b[34m\u001b[1mwandb\u001b[0m: Agent Starting Run: bdmqa529 with config:\n",
            "\u001b[34m\u001b[1mwandb\u001b[0m: \tactivation: SiLU\n",
            "\u001b[34m\u001b[1mwandb\u001b[0m: \tbatch_norm: False\n",
            "\u001b[34m\u001b[1mwandb\u001b[0m: \tbatch_size: 64\n",
            "\u001b[34m\u001b[1mwandb\u001b[0m: \tdata_augmentation: False\n",
            "\u001b[34m\u001b[1mwandb\u001b[0m: \tdata_dir: /kaggle/input/inaturalist/inaturalist_12K\n",
            "\u001b[34m\u001b[1mwandb\u001b[0m: \tdense_neurons: 256\n",
            "\u001b[34m\u001b[1mwandb\u001b[0m: \tdevice: cuda\n",
            "\u001b[34m\u001b[1mwandb\u001b[0m: \tdropout: 0\n",
            "\u001b[34m\u001b[1mwandb\u001b[0m: \tearly_stop_patience: 5\n",
            "\u001b[34m\u001b[1mwandb\u001b[0m: \tepochs: 20\n",
            "\u001b[34m\u001b[1mwandb\u001b[0m: \tfilter_organization: half\n",
            "\u001b[34m\u001b[1mwandb\u001b[0m: \tfilter_size: 5\n",
            "\u001b[34m\u001b[1mwandb\u001b[0m: \tlr: 0.05672087444122528\n",
            "\u001b[34m\u001b[1mwandb\u001b[0m: \tnum_filters: 32\n",
            "\u001b[34m\u001b[1mwandb\u001b[0m: \tuse_residual: False\n"
          ]
        },
        {
          "data": {
            "text/html": [
              "Tracking run with wandb version 0.19.1"
            ],
            "text/plain": [
              "<IPython.core.display.HTML object>"
            ]
          },
          "metadata": {},
          "output_type": "display_data"
        },
        {
          "data": {
            "text/html": [
              "Run data is saved locally in <code>/kaggle/working/wandb/run-20250418_062642-bdmqa529</code>"
            ],
            "text/plain": [
              "<IPython.core.display.HTML object>"
            ]
          },
          "metadata": {},
          "output_type": "display_data"
        },
        {
          "data": {
            "text/html": [
              "Syncing run <strong><a href='https://wandb.ai/fgbb66579-iit-madras-foundation/inaturalist_cnn_from_scratchj/runs/bdmqa529' target=\"_blank\">stoic-sweep-5</a></strong> to <a href='https://wandb.ai/fgbb66579-iit-madras-foundation/inaturalist_cnn_from_scratchj' target=\"_blank\">Weights & Biases</a> (<a href='https://wandb.me/developer-guide' target=\"_blank\">docs</a>)<br>Sweep page: <a href='https://wandb.ai/fgbb66579-iit-madras-foundation/inaturalist_cnn_from_scratchj/sweeps/tz0427hh' target=\"_blank\">https://wandb.ai/fgbb66579-iit-madras-foundation/inaturalist_cnn_from_scratchj/sweeps/tz0427hh</a>"
            ],
            "text/plain": [
              "<IPython.core.display.HTML object>"
            ]
          },
          "metadata": {},
          "output_type": "display_data"
        },
        {
          "data": {
            "text/html": [
              " View project at <a href='https://wandb.ai/fgbb66579-iit-madras-foundation/inaturalist_cnn_from_scratchj' target=\"_blank\">https://wandb.ai/fgbb66579-iit-madras-foundation/inaturalist_cnn_from_scratchj</a>"
            ],
            "text/plain": [
              "<IPython.core.display.HTML object>"
            ]
          },
          "metadata": {},
          "output_type": "display_data"
        },
        {
          "data": {
            "text/html": [
              " View sweep at <a href='https://wandb.ai/fgbb66579-iit-madras-foundation/inaturalist_cnn_from_scratchj/sweeps/tz0427hh' target=\"_blank\">https://wandb.ai/fgbb66579-iit-madras-foundation/inaturalist_cnn_from_scratchj/sweeps/tz0427hh</a>"
            ],
            "text/plain": [
              "<IPython.core.display.HTML object>"
            ]
          },
          "metadata": {},
          "output_type": "display_data"
        },
        {
          "data": {
            "text/html": [
              " View run at <a href='https://wandb.ai/fgbb66579-iit-madras-foundation/inaturalist_cnn_from_scratchj/runs/bdmqa529' target=\"_blank\">https://wandb.ai/fgbb66579-iit-madras-foundation/inaturalist_cnn_from_scratchj/runs/bdmqa529</a>"
            ],
            "text/plain": [
              "<IPython.core.display.HTML object>"
            ]
          },
          "metadata": {},
          "output_type": "display_data"
        },
        {
          "name": "stderr",
          "output_type": "stream",
          "text": [
            "<ipython-input-3-3fc379e20309>:53: FutureWarning: `torch.cuda.amp.GradScaler(args...)` is deprecated. Please use `torch.amp.GradScaler('cuda', args...)` instead.\n",
            "  scaler    = GradScaler()\n",
            "<ipython-input-3-3fc379e20309>:65: FutureWarning: `torch.cuda.amp.autocast(args...)` is deprecated. Please use `torch.amp.autocast('cuda', args...)` instead.\n",
            "  with autocast():\n",
            "<ipython-input-3-3fc379e20309>:81: FutureWarning: `torch.cuda.amp.autocast(args...)` is deprecated. Please use `torch.amp.autocast('cuda', args...)` instead.\n",
            "  with autocast():\n"
          ]
        },
        {
          "data": {
            "text/html": [],
            "text/plain": [
              "<IPython.core.display.HTML object>"
            ]
          },
          "metadata": {},
          "output_type": "display_data"
        },
        {
          "data": {
            "text/html": [
              "<br>    <style><br>        .wandb-row {<br>            display: flex;<br>            flex-direction: row;<br>            flex-wrap: wrap;<br>            justify-content: flex-start;<br>            width: 100%;<br>        }<br>        .wandb-col {<br>            display: flex;<br>            flex-direction: column;<br>            flex-basis: 100%;<br>            flex: 1;<br>            padding: 10px;<br>        }<br>    </style><br><div class=\"wandb-row\"><div class=\"wandb-col\"><h3>Run history:</h3><br/><table class=\"wandb\"><tr><td>epoch</td><td>▁▂▂▃▃▄▅▅▆▆▇▇█</td></tr><tr><td>hp/batch_size</td><td>▁▁▁▁▁▁▁▁▁▁▁▁▁</td></tr><tr><td>hp/dense_neurons</td><td>▁▁▁▁▁▁▁▁▁▁▁▁▁</td></tr><tr><td>hp/dropout</td><td>▁▁▁▁▁▁▁▁▁▁▁▁▁</td></tr><tr><td>hp/filter_size</td><td>▁▁▁▁▁▁▁▁▁▁▁▁▁</td></tr><tr><td>hp/lr</td><td>▁▁▁▁▁▁▁▁▁▁▁▁▁</td></tr><tr><td>hp/num_filters</td><td>▁▁▁▁▁▁▁▁▁▁▁▁▁</td></tr><tr><td>lr</td><td>████████████▁</td></tr><tr><td>train_loss</td><td>████▇▆▆▅▅▅▄▄▁</td></tr><tr><td>val_accuracy</td><td>▁▁▁▃▆▆▇██▇▇▆█</td></tr><tr><td>val_loss</td><td>███▇▄▃▃▁▁▂▄▃▅</td></tr></table><br/></div><div class=\"wandb-col\"><h3>Run summary:</h3><br/><table class=\"wandb\"><tr><td>epoch</td><td>12</td></tr><tr><td>hp/activation</td><td>SiLU</td></tr><tr><td>hp/batch_norm</td><td>False</td></tr><tr><td>hp/batch_size</td><td>64</td></tr><tr><td>hp/data_augmentation</td><td>False</td></tr><tr><td>hp/dense_neurons</td><td>256</td></tr><tr><td>hp/dropout</td><td>0</td></tr><tr><td>hp/filter_organization</td><td>half</td></tr><tr><td>hp/filter_size</td><td>5</td></tr><tr><td>hp/lr</td><td>0.05672</td></tr><tr><td>hp/num_filters</td><td>32</td></tr><tr><td>hp/use_residual</td><td>False</td></tr><tr><td>lr</td><td>0.02836</td></tr><tr><td>train_loss</td><td>1.72177</td></tr><tr><td>val_accuracy</td><td>25.05</td></tr><tr><td>val_loss</td><td>2.19121</td></tr></table><br/></div></div>"
            ],
            "text/plain": [
              "<IPython.core.display.HTML object>"
            ]
          },
          "metadata": {},
          "output_type": "display_data"
        },
        {
          "data": {
            "text/html": [
              " View run <strong style=\"color:#cdcd00\">stoic-sweep-5</strong> at: <a href='https://wandb.ai/fgbb66579-iit-madras-foundation/inaturalist_cnn_from_scratchj/runs/bdmqa529' target=\"_blank\">https://wandb.ai/fgbb66579-iit-madras-foundation/inaturalist_cnn_from_scratchj/runs/bdmqa529</a><br> View project at: <a href='https://wandb.ai/fgbb66579-iit-madras-foundation/inaturalist_cnn_from_scratchj' target=\"_blank\">https://wandb.ai/fgbb66579-iit-madras-foundation/inaturalist_cnn_from_scratchj</a><br>Synced 5 W&B file(s), 0 media file(s), 0 artifact file(s) and 0 other file(s)"
            ],
            "text/plain": [
              "<IPython.core.display.HTML object>"
            ]
          },
          "metadata": {},
          "output_type": "display_data"
        },
        {
          "data": {
            "text/html": [
              "Find logs at: <code>./wandb/run-20250418_062642-bdmqa529/logs</code>"
            ],
            "text/plain": [
              "<IPython.core.display.HTML object>"
            ]
          },
          "metadata": {},
          "output_type": "display_data"
        },
        {
          "name": "stderr",
          "output_type": "stream",
          "text": [
            "\u001b[34m\u001b[1mwandb\u001b[0m: Agent Starting Run: 178e5mu1 with config:\n",
            "\u001b[34m\u001b[1mwandb\u001b[0m: \tactivation: ReLU\n",
            "\u001b[34m\u001b[1mwandb\u001b[0m: \tbatch_norm: True\n",
            "\u001b[34m\u001b[1mwandb\u001b[0m: \tbatch_size: 64\n",
            "\u001b[34m\u001b[1mwandb\u001b[0m: \tdata_augmentation: False\n",
            "\u001b[34m\u001b[1mwandb\u001b[0m: \tdata_dir: /kaggle/input/inaturalist/inaturalist_12K\n",
            "\u001b[34m\u001b[1mwandb\u001b[0m: \tdense_neurons: 512\n",
            "\u001b[34m\u001b[1mwandb\u001b[0m: \tdevice: cuda\n",
            "\u001b[34m\u001b[1mwandb\u001b[0m: \tdropout: 0.2\n",
            "\u001b[34m\u001b[1mwandb\u001b[0m: \tearly_stop_patience: 5\n",
            "\u001b[34m\u001b[1mwandb\u001b[0m: \tepochs: 20\n",
            "\u001b[34m\u001b[1mwandb\u001b[0m: \tfilter_organization: double\n",
            "\u001b[34m\u001b[1mwandb\u001b[0m: \tfilter_size: 5\n",
            "\u001b[34m\u001b[1mwandb\u001b[0m: \tlr: 0.06423022012320995\n",
            "\u001b[34m\u001b[1mwandb\u001b[0m: \tnum_filters: 32\n",
            "\u001b[34m\u001b[1mwandb\u001b[0m: \tuse_residual: False\n"
          ]
        },
        {
          "data": {
            "text/html": [
              "Tracking run with wandb version 0.19.1"
            ],
            "text/plain": [
              "<IPython.core.display.HTML object>"
            ]
          },
          "metadata": {},
          "output_type": "display_data"
        },
        {
          "data": {
            "text/html": [
              "Run data is saved locally in <code>/kaggle/working/wandb/run-20250418_063712-178e5mu1</code>"
            ],
            "text/plain": [
              "<IPython.core.display.HTML object>"
            ]
          },
          "metadata": {},
          "output_type": "display_data"
        },
        {
          "data": {
            "text/html": [
              "Syncing run <strong><a href='https://wandb.ai/fgbb66579-iit-madras-foundation/inaturalist_cnn_from_scratchj/runs/178e5mu1' target=\"_blank\">dulcet-sweep-6</a></strong> to <a href='https://wandb.ai/fgbb66579-iit-madras-foundation/inaturalist_cnn_from_scratchj' target=\"_blank\">Weights & Biases</a> (<a href='https://wandb.me/developer-guide' target=\"_blank\">docs</a>)<br>Sweep page: <a href='https://wandb.ai/fgbb66579-iit-madras-foundation/inaturalist_cnn_from_scratchj/sweeps/tz0427hh' target=\"_blank\">https://wandb.ai/fgbb66579-iit-madras-foundation/inaturalist_cnn_from_scratchj/sweeps/tz0427hh</a>"
            ],
            "text/plain": [
              "<IPython.core.display.HTML object>"
            ]
          },
          "metadata": {},
          "output_type": "display_data"
        },
        {
          "data": {
            "text/html": [
              " View project at <a href='https://wandb.ai/fgbb66579-iit-madras-foundation/inaturalist_cnn_from_scratchj' target=\"_blank\">https://wandb.ai/fgbb66579-iit-madras-foundation/inaturalist_cnn_from_scratchj</a>"
            ],
            "text/plain": [
              "<IPython.core.display.HTML object>"
            ]
          },
          "metadata": {},
          "output_type": "display_data"
        },
        {
          "data": {
            "text/html": [
              " View sweep at <a href='https://wandb.ai/fgbb66579-iit-madras-foundation/inaturalist_cnn_from_scratchj/sweeps/tz0427hh' target=\"_blank\">https://wandb.ai/fgbb66579-iit-madras-foundation/inaturalist_cnn_from_scratchj/sweeps/tz0427hh</a>"
            ],
            "text/plain": [
              "<IPython.core.display.HTML object>"
            ]
          },
          "metadata": {},
          "output_type": "display_data"
        },
        {
          "data": {
            "text/html": [
              " View run at <a href='https://wandb.ai/fgbb66579-iit-madras-foundation/inaturalist_cnn_from_scratchj/runs/178e5mu1' target=\"_blank\">https://wandb.ai/fgbb66579-iit-madras-foundation/inaturalist_cnn_from_scratchj/runs/178e5mu1</a>"
            ],
            "text/plain": [
              "<IPython.core.display.HTML object>"
            ]
          },
          "metadata": {},
          "output_type": "display_data"
        },
        {
          "name": "stderr",
          "output_type": "stream",
          "text": [
            "<ipython-input-3-3fc379e20309>:53: FutureWarning: `torch.cuda.amp.GradScaler(args...)` is deprecated. Please use `torch.amp.GradScaler('cuda', args...)` instead.\n",
            "  scaler    = GradScaler()\n",
            "<ipython-input-3-3fc379e20309>:65: FutureWarning: `torch.cuda.amp.autocast(args...)` is deprecated. Please use `torch.amp.autocast('cuda', args...)` instead.\n",
            "  with autocast():\n",
            "<ipython-input-3-3fc379e20309>:81: FutureWarning: `torch.cuda.amp.autocast(args...)` is deprecated. Please use `torch.amp.autocast('cuda', args...)` instead.\n",
            "  with autocast():\n"
          ]
        },
        {
          "data": {
            "text/html": [],
            "text/plain": [
              "<IPython.core.display.HTML object>"
            ]
          },
          "metadata": {},
          "output_type": "display_data"
        },
        {
          "data": {
            "text/html": [
              "<br>    <style><br>        .wandb-row {<br>            display: flex;<br>            flex-direction: row;<br>            flex-wrap: wrap;<br>            justify-content: flex-start;<br>            width: 100%;<br>        }<br>        .wandb-col {<br>            display: flex;<br>            flex-direction: column;<br>            flex-basis: 100%;<br>            flex: 1;<br>            padding: 10px;<br>        }<br>    </style><br><div class=\"wandb-row\"><div class=\"wandb-col\"><h3>Run history:</h3><br/><table class=\"wandb\"><tr><td>epoch</td><td>▁▁▂▂▂▃▃▄▄▄▅▅▅▆▆▇▇▇██</td></tr><tr><td>hp/batch_size</td><td>▁▁▁▁▁▁▁▁▁▁▁▁▁▁▁▁▁▁▁▁</td></tr><tr><td>hp/dense_neurons</td><td>▁▁▁▁▁▁▁▁▁▁▁▁▁▁▁▁▁▁▁▁</td></tr><tr><td>hp/dropout</td><td>▁▁▁▁▁▁▁▁▁▁▁▁▁▁▁▁▁▁▁▁</td></tr><tr><td>hp/filter_size</td><td>▁▁▁▁▁▁▁▁▁▁▁▁▁▁▁▁▁▁▁▁</td></tr><tr><td>hp/lr</td><td>▁▁▁▁▁▁▁▁▁▁▁▁▁▁▁▁▁▁▁▁</td></tr><tr><td>hp/num_filters</td><td>▁▁▁▁▁▁▁▁▁▁▁▁▁▁▁▁▁▁▁▁</td></tr><tr><td>lr</td><td>▁▁▁▁▁▁▁▁▁▁▁▁▁▁▁▁▁▁▁▁</td></tr><tr><td>train_loss</td><td>█▂▂▂▂▂▂▂▂▂▂▁▁▁▁▁▁▁▁▁</td></tr><tr><td>val_accuracy</td><td>▂▁▃▄▄▄▄▆▆▆▆▇▇▇▇▇█▇█▇</td></tr><tr><td>val_loss</td><td>██▇▇▆▅▅▄▄▃▂▂▃▂▂▂▁▁▁▁</td></tr></table><br/></div><div class=\"wandb-col\"><h3>Run summary:</h3><br/><table class=\"wandb\"><tr><td>epoch</td><td>19</td></tr><tr><td>hp/activation</td><td>ReLU</td></tr><tr><td>hp/batch_norm</td><td>True</td></tr><tr><td>hp/batch_size</td><td>64</td></tr><tr><td>hp/data_augmentation</td><td>False</td></tr><tr><td>hp/dense_neurons</td><td>512</td></tr><tr><td>hp/dropout</td><td>0.2</td></tr><tr><td>hp/filter_organization</td><td>double</td></tr><tr><td>hp/filter_size</td><td>5</td></tr><tr><td>hp/lr</td><td>0.06423</td></tr><tr><td>hp/num_filters</td><td>32</td></tr><tr><td>hp/use_residual</td><td>False</td></tr><tr><td>lr</td><td>0.06423</td></tr><tr><td>train_loss</td><td>1.927</td></tr><tr><td>val_accuracy</td><td>26.55</td></tr><tr><td>val_loss</td><td>2.02947</td></tr></table><br/></div></div>"
            ],
            "text/plain": [
              "<IPython.core.display.HTML object>"
            ]
          },
          "metadata": {},
          "output_type": "display_data"
        },
        {
          "data": {
            "text/html": [
              " View run <strong style=\"color:#cdcd00\">dulcet-sweep-6</strong> at: <a href='https://wandb.ai/fgbb66579-iit-madras-foundation/inaturalist_cnn_from_scratchj/runs/178e5mu1' target=\"_blank\">https://wandb.ai/fgbb66579-iit-madras-foundation/inaturalist_cnn_from_scratchj/runs/178e5mu1</a><br> View project at: <a href='https://wandb.ai/fgbb66579-iit-madras-foundation/inaturalist_cnn_from_scratchj' target=\"_blank\">https://wandb.ai/fgbb66579-iit-madras-foundation/inaturalist_cnn_from_scratchj</a><br>Synced 5 W&B file(s), 0 media file(s), 0 artifact file(s) and 0 other file(s)"
            ],
            "text/plain": [
              "<IPython.core.display.HTML object>"
            ]
          },
          "metadata": {},
          "output_type": "display_data"
        },
        {
          "data": {
            "text/html": [
              "Find logs at: <code>./wandb/run-20250418_063712-178e5mu1/logs</code>"
            ],
            "text/plain": [
              "<IPython.core.display.HTML object>"
            ]
          },
          "metadata": {},
          "output_type": "display_data"
        },
        {
          "name": "stderr",
          "output_type": "stream",
          "text": [
            "\u001b[34m\u001b[1mwandb\u001b[0m: Sweep Agent: Waiting for job.\n",
            "\u001b[34m\u001b[1mwandb\u001b[0m: Job received.\n",
            "\u001b[34m\u001b[1mwandb\u001b[0m: Agent Starting Run: jbawg5qy with config:\n",
            "\u001b[34m\u001b[1mwandb\u001b[0m: \tactivation: SiLU\n",
            "\u001b[34m\u001b[1mwandb\u001b[0m: \tbatch_norm: True\n",
            "\u001b[34m\u001b[1mwandb\u001b[0m: \tbatch_size: 32\n",
            "\u001b[34m\u001b[1mwandb\u001b[0m: \tdata_augmentation: False\n",
            "\u001b[34m\u001b[1mwandb\u001b[0m: \tdata_dir: /kaggle/input/inaturalist/inaturalist_12K\n",
            "\u001b[34m\u001b[1mwandb\u001b[0m: \tdense_neurons: 512\n",
            "\u001b[34m\u001b[1mwandb\u001b[0m: \tdevice: cuda\n",
            "\u001b[34m\u001b[1mwandb\u001b[0m: \tdropout: 0.2\n",
            "\u001b[34m\u001b[1mwandb\u001b[0m: \tearly_stop_patience: 5\n",
            "\u001b[34m\u001b[1mwandb\u001b[0m: \tepochs: 20\n",
            "\u001b[34m\u001b[1mwandb\u001b[0m: \tfilter_organization: same\n",
            "\u001b[34m\u001b[1mwandb\u001b[0m: \tfilter_size: 3\n",
            "\u001b[34m\u001b[1mwandb\u001b[0m: \tlr: 0.08967481847601547\n",
            "\u001b[34m\u001b[1mwandb\u001b[0m: \tnum_filters: 128\n",
            "\u001b[34m\u001b[1mwandb\u001b[0m: \tuse_residual: False\n"
          ]
        },
        {
          "data": {
            "text/html": [
              "Tracking run with wandb version 0.19.1"
            ],
            "text/plain": [
              "<IPython.core.display.HTML object>"
            ]
          },
          "metadata": {},
          "output_type": "display_data"
        },
        {
          "data": {
            "text/html": [
              "Run data is saved locally in <code>/kaggle/working/wandb/run-20250418_065425-jbawg5qy</code>"
            ],
            "text/plain": [
              "<IPython.core.display.HTML object>"
            ]
          },
          "metadata": {},
          "output_type": "display_data"
        },
        {
          "data": {
            "text/html": [
              "Syncing run <strong><a href='https://wandb.ai/fgbb66579-iit-madras-foundation/inaturalist_cnn_from_scratchj/runs/jbawg5qy' target=\"_blank\">quiet-sweep-7</a></strong> to <a href='https://wandb.ai/fgbb66579-iit-madras-foundation/inaturalist_cnn_from_scratchj' target=\"_blank\">Weights & Biases</a> (<a href='https://wandb.me/developer-guide' target=\"_blank\">docs</a>)<br>Sweep page: <a href='https://wandb.ai/fgbb66579-iit-madras-foundation/inaturalist_cnn_from_scratchj/sweeps/tz0427hh' target=\"_blank\">https://wandb.ai/fgbb66579-iit-madras-foundation/inaturalist_cnn_from_scratchj/sweeps/tz0427hh</a>"
            ],
            "text/plain": [
              "<IPython.core.display.HTML object>"
            ]
          },
          "metadata": {},
          "output_type": "display_data"
        },
        {
          "data": {
            "text/html": [
              " View project at <a href='https://wandb.ai/fgbb66579-iit-madras-foundation/inaturalist_cnn_from_scratchj' target=\"_blank\">https://wandb.ai/fgbb66579-iit-madras-foundation/inaturalist_cnn_from_scratchj</a>"
            ],
            "text/plain": [
              "<IPython.core.display.HTML object>"
            ]
          },
          "metadata": {},
          "output_type": "display_data"
        },
        {
          "data": {
            "text/html": [
              " View sweep at <a href='https://wandb.ai/fgbb66579-iit-madras-foundation/inaturalist_cnn_from_scratchj/sweeps/tz0427hh' target=\"_blank\">https://wandb.ai/fgbb66579-iit-madras-foundation/inaturalist_cnn_from_scratchj/sweeps/tz0427hh</a>"
            ],
            "text/plain": [
              "<IPython.core.display.HTML object>"
            ]
          },
          "metadata": {},
          "output_type": "display_data"
        },
        {
          "data": {
            "text/html": [
              " View run at <a href='https://wandb.ai/fgbb66579-iit-madras-foundation/inaturalist_cnn_from_scratchj/runs/jbawg5qy' target=\"_blank\">https://wandb.ai/fgbb66579-iit-madras-foundation/inaturalist_cnn_from_scratchj/runs/jbawg5qy</a>"
            ],
            "text/plain": [
              "<IPython.core.display.HTML object>"
            ]
          },
          "metadata": {},
          "output_type": "display_data"
        },
        {
          "name": "stderr",
          "output_type": "stream",
          "text": [
            "<ipython-input-3-3fc379e20309>:53: FutureWarning: `torch.cuda.amp.GradScaler(args...)` is deprecated. Please use `torch.amp.GradScaler('cuda', args...)` instead.\n",
            "  scaler    = GradScaler()\n",
            "<ipython-input-3-3fc379e20309>:65: FutureWarning: `torch.cuda.amp.autocast(args...)` is deprecated. Please use `torch.amp.autocast('cuda', args...)` instead.\n",
            "  with autocast():\n",
            "<ipython-input-3-3fc379e20309>:81: FutureWarning: `torch.cuda.amp.autocast(args...)` is deprecated. Please use `torch.amp.autocast('cuda', args...)` instead.\n",
            "  with autocast():\n"
          ]
        },
        {
          "data": {
            "text/html": [],
            "text/plain": [
              "<IPython.core.display.HTML object>"
            ]
          },
          "metadata": {},
          "output_type": "display_data"
        },
        {
          "data": {
            "text/html": [
              "<br>    <style><br>        .wandb-row {<br>            display: flex;<br>            flex-direction: row;<br>            flex-wrap: wrap;<br>            justify-content: flex-start;<br>            width: 100%;<br>        }<br>        .wandb-col {<br>            display: flex;<br>            flex-direction: column;<br>            flex-basis: 100%;<br>            flex: 1;<br>            padding: 10px;<br>        }<br>    </style><br><div class=\"wandb-row\"><div class=\"wandb-col\"><h3>Run history:</h3><br/><table class=\"wandb\"><tr><td>epoch</td><td>▁▁▂▂▂▃▃▄▄▄▅▅▅▆▆▇▇▇██</td></tr><tr><td>hp/batch_size</td><td>▁▁▁▁▁▁▁▁▁▁▁▁▁▁▁▁▁▁▁▁</td></tr><tr><td>hp/dense_neurons</td><td>▁▁▁▁▁▁▁▁▁▁▁▁▁▁▁▁▁▁▁▁</td></tr><tr><td>hp/dropout</td><td>▁▁▁▁▁▁▁▁▁▁▁▁▁▁▁▁▁▁▁▁</td></tr><tr><td>hp/filter_size</td><td>▁▁▁▁▁▁▁▁▁▁▁▁▁▁▁▁▁▁▁▁</td></tr><tr><td>hp/lr</td><td>▁▁▁▁▁▁▁▁▁▁▁▁▁▁▁▁▁▁▁▁</td></tr><tr><td>hp/num_filters</td><td>▁▁▁▁▁▁▁▁▁▁▁▁▁▁▁▁▁▁▁▁</td></tr><tr><td>lr</td><td>▁▁▁▁▁▁▁▁▁▁▁▁▁▁▁▁▁▁▁▁</td></tr><tr><td>train_loss</td><td>█▇▇▇▇▆▆▆▆▆▅▅▅▄▄▃▃▂▂▁</td></tr><tr><td>val_accuracy</td><td>▁▃▃▃▅▆▆▄▆▆▇▆▅▇▇▇█▇▇█</td></tr><tr><td>val_loss</td><td>█▆▇▅▄▃▂▄▃▂▁▃▄▂▁▂▁▅▆▃</td></tr></table><br/></div><div class=\"wandb-col\"><h3>Run summary:</h3><br/><table class=\"wandb\"><tr><td>epoch</td><td>19</td></tr><tr><td>hp/activation</td><td>SiLU</td></tr><tr><td>hp/batch_norm</td><td>True</td></tr><tr><td>hp/batch_size</td><td>32</td></tr><tr><td>hp/data_augmentation</td><td>False</td></tr><tr><td>hp/dense_neurons</td><td>512</td></tr><tr><td>hp/dropout</td><td>0.2</td></tr><tr><td>hp/filter_organization</td><td>same</td></tr><tr><td>hp/filter_size</td><td>3</td></tr><tr><td>hp/lr</td><td>0.08967</td></tr><tr><td>hp/num_filters</td><td>128</td></tr><tr><td>hp/use_residual</td><td>False</td></tr><tr><td>lr</td><td>0.08967</td></tr><tr><td>train_loss</td><td>0.80604</td></tr><tr><td>val_accuracy</td><td>38.05</td></tr><tr><td>val_loss</td><td>1.89323</td></tr></table><br/></div></div>"
            ],
            "text/plain": [
              "<IPython.core.display.HTML object>"
            ]
          },
          "metadata": {},
          "output_type": "display_data"
        },
        {
          "data": {
            "text/html": [
              " View run <strong style=\"color:#cdcd00\">quiet-sweep-7</strong> at: <a href='https://wandb.ai/fgbb66579-iit-madras-foundation/inaturalist_cnn_from_scratchj/runs/jbawg5qy' target=\"_blank\">https://wandb.ai/fgbb66579-iit-madras-foundation/inaturalist_cnn_from_scratchj/runs/jbawg5qy</a><br> View project at: <a href='https://wandb.ai/fgbb66579-iit-madras-foundation/inaturalist_cnn_from_scratchj' target=\"_blank\">https://wandb.ai/fgbb66579-iit-madras-foundation/inaturalist_cnn_from_scratchj</a><br>Synced 5 W&B file(s), 0 media file(s), 0 artifact file(s) and 0 other file(s)"
            ],
            "text/plain": [
              "<IPython.core.display.HTML object>"
            ]
          },
          "metadata": {},
          "output_type": "display_data"
        },
        {
          "data": {
            "text/html": [
              "Find logs at: <code>./wandb/run-20250418_065425-jbawg5qy/logs</code>"
            ],
            "text/plain": [
              "<IPython.core.display.HTML object>"
            ]
          },
          "metadata": {},
          "output_type": "display_data"
        },
        {
          "name": "stderr",
          "output_type": "stream",
          "text": [
            "\u001b[34m\u001b[1mwandb\u001b[0m: Agent Starting Run: iununyoa with config:\n",
            "\u001b[34m\u001b[1mwandb\u001b[0m: \tactivation: ReLU\n",
            "\u001b[34m\u001b[1mwandb\u001b[0m: \tbatch_norm: False\n",
            "\u001b[34m\u001b[1mwandb\u001b[0m: \tbatch_size: 64\n",
            "\u001b[34m\u001b[1mwandb\u001b[0m: \tdata_augmentation: True\n",
            "\u001b[34m\u001b[1mwandb\u001b[0m: \tdata_dir: /kaggle/input/inaturalist/inaturalist_12K\n",
            "\u001b[34m\u001b[1mwandb\u001b[0m: \tdense_neurons: 256\n",
            "\u001b[34m\u001b[1mwandb\u001b[0m: \tdevice: cuda\n",
            "\u001b[34m\u001b[1mwandb\u001b[0m: \tdropout: 0.3\n",
            "\u001b[34m\u001b[1mwandb\u001b[0m: \tearly_stop_patience: 5\n",
            "\u001b[34m\u001b[1mwandb\u001b[0m: \tepochs: 20\n",
            "\u001b[34m\u001b[1mwandb\u001b[0m: \tfilter_organization: half\n",
            "\u001b[34m\u001b[1mwandb\u001b[0m: \tfilter_size: 3\n",
            "\u001b[34m\u001b[1mwandb\u001b[0m: \tlr: 0.07004630622194292\n",
            "\u001b[34m\u001b[1mwandb\u001b[0m: \tnum_filters: 128\n",
            "\u001b[34m\u001b[1mwandb\u001b[0m: \tuse_residual: False\n"
          ]
        },
        {
          "data": {
            "text/html": [
              "Tracking run with wandb version 0.19.1"
            ],
            "text/plain": [
              "<IPython.core.display.HTML object>"
            ]
          },
          "metadata": {},
          "output_type": "display_data"
        },
        {
          "data": {
            "text/html": [
              "Run data is saved locally in <code>/kaggle/working/wandb/run-20250418_071234-iununyoa</code>"
            ],
            "text/plain": [
              "<IPython.core.display.HTML object>"
            ]
          },
          "metadata": {},
          "output_type": "display_data"
        },
        {
          "data": {
            "text/html": [
              "Syncing run <strong><a href='https://wandb.ai/fgbb66579-iit-madras-foundation/inaturalist_cnn_from_scratchj/runs/iununyoa' target=\"_blank\">jolly-sweep-8</a></strong> to <a href='https://wandb.ai/fgbb66579-iit-madras-foundation/inaturalist_cnn_from_scratchj' target=\"_blank\">Weights & Biases</a> (<a href='https://wandb.me/developer-guide' target=\"_blank\">docs</a>)<br>Sweep page: <a href='https://wandb.ai/fgbb66579-iit-madras-foundation/inaturalist_cnn_from_scratchj/sweeps/tz0427hh' target=\"_blank\">https://wandb.ai/fgbb66579-iit-madras-foundation/inaturalist_cnn_from_scratchj/sweeps/tz0427hh</a>"
            ],
            "text/plain": [
              "<IPython.core.display.HTML object>"
            ]
          },
          "metadata": {},
          "output_type": "display_data"
        },
        {
          "data": {
            "text/html": [
              " View project at <a href='https://wandb.ai/fgbb66579-iit-madras-foundation/inaturalist_cnn_from_scratchj' target=\"_blank\">https://wandb.ai/fgbb66579-iit-madras-foundation/inaturalist_cnn_from_scratchj</a>"
            ],
            "text/plain": [
              "<IPython.core.display.HTML object>"
            ]
          },
          "metadata": {},
          "output_type": "display_data"
        },
        {
          "data": {
            "text/html": [
              " View sweep at <a href='https://wandb.ai/fgbb66579-iit-madras-foundation/inaturalist_cnn_from_scratchj/sweeps/tz0427hh' target=\"_blank\">https://wandb.ai/fgbb66579-iit-madras-foundation/inaturalist_cnn_from_scratchj/sweeps/tz0427hh</a>"
            ],
            "text/plain": [
              "<IPython.core.display.HTML object>"
            ]
          },
          "metadata": {},
          "output_type": "display_data"
        },
        {
          "data": {
            "text/html": [
              " View run at <a href='https://wandb.ai/fgbb66579-iit-madras-foundation/inaturalist_cnn_from_scratchj/runs/iununyoa' target=\"_blank\">https://wandb.ai/fgbb66579-iit-madras-foundation/inaturalist_cnn_from_scratchj/runs/iununyoa</a>"
            ],
            "text/plain": [
              "<IPython.core.display.HTML object>"
            ]
          },
          "metadata": {},
          "output_type": "display_data"
        },
        {
          "name": "stderr",
          "output_type": "stream",
          "text": [
            "<ipython-input-3-3fc379e20309>:53: FutureWarning: `torch.cuda.amp.GradScaler(args...)` is deprecated. Please use `torch.amp.GradScaler('cuda', args...)` instead.\n",
            "  scaler    = GradScaler()\n",
            "<ipython-input-3-3fc379e20309>:65: FutureWarning: `torch.cuda.amp.autocast(args...)` is deprecated. Please use `torch.amp.autocast('cuda', args...)` instead.\n",
            "  with autocast():\n",
            "<ipython-input-3-3fc379e20309>:81: FutureWarning: `torch.cuda.amp.autocast(args...)` is deprecated. Please use `torch.amp.autocast('cuda', args...)` instead.\n",
            "  with autocast():\n"
          ]
        },
        {
          "data": {
            "text/html": [],
            "text/plain": [
              "<IPython.core.display.HTML object>"
            ]
          },
          "metadata": {},
          "output_type": "display_data"
        },
        {
          "data": {
            "text/html": [
              "<br>    <style><br>        .wandb-row {<br>            display: flex;<br>            flex-direction: row;<br>            flex-wrap: wrap;<br>            justify-content: flex-start;<br>            width: 100%;<br>        }<br>        .wandb-col {<br>            display: flex;<br>            flex-direction: column;<br>            flex-basis: 100%;<br>            flex: 1;<br>            padding: 10px;<br>        }<br>    </style><br><div class=\"wandb-row\"><div class=\"wandb-col\"><h3>Run history:</h3><br/><table class=\"wandb\"><tr><td>epoch</td><td>▁▂▃▃▄▅▆▆▇█</td></tr><tr><td>hp/batch_size</td><td>▁▁▁▁▁▁▁▁▁▁</td></tr><tr><td>hp/dense_neurons</td><td>▁▁▁▁▁▁▁▁▁▁</td></tr><tr><td>hp/dropout</td><td>▁▁▁▁▁▁▁▁▁▁</td></tr><tr><td>hp/filter_size</td><td>▁▁▁▁▁▁▁▁▁▁</td></tr><tr><td>hp/lr</td><td>▁▁▁▁▁▁▁▁▁▁</td></tr><tr><td>hp/num_filters</td><td>▁▁▁▁▁▁▁▁▁▁</td></tr><tr><td>lr</td><td>█████████▁</td></tr><tr><td>train_loss</td><td>█▇▅▄▃▂▃▃▃▁</td></tr><tr><td>val_accuracy</td><td>▃▁▆▆█▇▇▄▅▇</td></tr><tr><td>val_loss</td><td>▇█▃▃▃▃▁▆▃▃</td></tr></table><br/></div><div class=\"wandb-col\"><h3>Run summary:</h3><br/><table class=\"wandb\"><tr><td>epoch</td><td>9</td></tr><tr><td>hp/activation</td><td>ReLU</td></tr><tr><td>hp/batch_norm</td><td>False</td></tr><tr><td>hp/batch_size</td><td>64</td></tr><tr><td>hp/data_augmentation</td><td>True</td></tr><tr><td>hp/dense_neurons</td><td>256</td></tr><tr><td>hp/dropout</td><td>0.3</td></tr><tr><td>hp/filter_organization</td><td>half</td></tr><tr><td>hp/filter_size</td><td>3</td></tr><tr><td>hp/lr</td><td>0.07005</td></tr><tr><td>hp/num_filters</td><td>128</td></tr><tr><td>hp/use_residual</td><td>False</td></tr><tr><td>lr</td><td>0.03502</td></tr><tr><td>train_loss</td><td>2.1549</td></tr><tr><td>val_accuracy</td><td>21.7</td></tr><tr><td>val_loss</td><td>2.17157</td></tr></table><br/></div></div>"
            ],
            "text/plain": [
              "<IPython.core.display.HTML object>"
            ]
          },
          "metadata": {},
          "output_type": "display_data"
        },
        {
          "data": {
            "text/html": [
              " View run <strong style=\"color:#cdcd00\">jolly-sweep-8</strong> at: <a href='https://wandb.ai/fgbb66579-iit-madras-foundation/inaturalist_cnn_from_scratchj/runs/iununyoa' target=\"_blank\">https://wandb.ai/fgbb66579-iit-madras-foundation/inaturalist_cnn_from_scratchj/runs/iununyoa</a><br> View project at: <a href='https://wandb.ai/fgbb66579-iit-madras-foundation/inaturalist_cnn_from_scratchj' target=\"_blank\">https://wandb.ai/fgbb66579-iit-madras-foundation/inaturalist_cnn_from_scratchj</a><br>Synced 5 W&B file(s), 0 media file(s), 0 artifact file(s) and 0 other file(s)"
            ],
            "text/plain": [
              "<IPython.core.display.HTML object>"
            ]
          },
          "metadata": {},
          "output_type": "display_data"
        },
        {
          "data": {
            "text/html": [
              "Find logs at: <code>./wandb/run-20250418_071234-iununyoa/logs</code>"
            ],
            "text/plain": [
              "<IPython.core.display.HTML object>"
            ]
          },
          "metadata": {},
          "output_type": "display_data"
        },
        {
          "name": "stderr",
          "output_type": "stream",
          "text": [
            "\u001b[34m\u001b[1mwandb\u001b[0m: Agent Starting Run: ba3mcsgv with config:\n",
            "\u001b[34m\u001b[1mwandb\u001b[0m: \tactivation: ReLU\n",
            "\u001b[34m\u001b[1mwandb\u001b[0m: \tbatch_norm: False\n",
            "\u001b[34m\u001b[1mwandb\u001b[0m: \tbatch_size: 32\n",
            "\u001b[34m\u001b[1mwandb\u001b[0m: \tdata_augmentation: False\n",
            "\u001b[34m\u001b[1mwandb\u001b[0m: \tdata_dir: /kaggle/input/inaturalist/inaturalist_12K\n",
            "\u001b[34m\u001b[1mwandb\u001b[0m: \tdense_neurons: 512\n",
            "\u001b[34m\u001b[1mwandb\u001b[0m: \tdevice: cuda\n",
            "\u001b[34m\u001b[1mwandb\u001b[0m: \tdropout: 0.3\n",
            "\u001b[34m\u001b[1mwandb\u001b[0m: \tearly_stop_patience: 5\n",
            "\u001b[34m\u001b[1mwandb\u001b[0m: \tepochs: 20\n",
            "\u001b[34m\u001b[1mwandb\u001b[0m: \tfilter_organization: half\n",
            "\u001b[34m\u001b[1mwandb\u001b[0m: \tfilter_size: 3\n",
            "\u001b[34m\u001b[1mwandb\u001b[0m: \tlr: 0.008915665271506452\n",
            "\u001b[34m\u001b[1mwandb\u001b[0m: \tnum_filters: 128\n",
            "\u001b[34m\u001b[1mwandb\u001b[0m: \tuse_residual: False\n"
          ]
        },
        {
          "data": {
            "text/html": [
              "Tracking run with wandb version 0.19.1"
            ],
            "text/plain": [
              "<IPython.core.display.HTML object>"
            ]
          },
          "metadata": {},
          "output_type": "display_data"
        },
        {
          "data": {
            "text/html": [
              "Run data is saved locally in <code>/kaggle/working/wandb/run-20250418_072159-ba3mcsgv</code>"
            ],
            "text/plain": [
              "<IPython.core.display.HTML object>"
            ]
          },
          "metadata": {},
          "output_type": "display_data"
        },
        {
          "data": {
            "text/html": [
              "Syncing run <strong><a href='https://wandb.ai/fgbb66579-iit-madras-foundation/inaturalist_cnn_from_scratchj/runs/ba3mcsgv' target=\"_blank\">lively-sweep-9</a></strong> to <a href='https://wandb.ai/fgbb66579-iit-madras-foundation/inaturalist_cnn_from_scratchj' target=\"_blank\">Weights & Biases</a> (<a href='https://wandb.me/developer-guide' target=\"_blank\">docs</a>)<br>Sweep page: <a href='https://wandb.ai/fgbb66579-iit-madras-foundation/inaturalist_cnn_from_scratchj/sweeps/tz0427hh' target=\"_blank\">https://wandb.ai/fgbb66579-iit-madras-foundation/inaturalist_cnn_from_scratchj/sweeps/tz0427hh</a>"
            ],
            "text/plain": [
              "<IPython.core.display.HTML object>"
            ]
          },
          "metadata": {},
          "output_type": "display_data"
        },
        {
          "data": {
            "text/html": [
              " View project at <a href='https://wandb.ai/fgbb66579-iit-madras-foundation/inaturalist_cnn_from_scratchj' target=\"_blank\">https://wandb.ai/fgbb66579-iit-madras-foundation/inaturalist_cnn_from_scratchj</a>"
            ],
            "text/plain": [
              "<IPython.core.display.HTML object>"
            ]
          },
          "metadata": {},
          "output_type": "display_data"
        },
        {
          "data": {
            "text/html": [
              " View sweep at <a href='https://wandb.ai/fgbb66579-iit-madras-foundation/inaturalist_cnn_from_scratchj/sweeps/tz0427hh' target=\"_blank\">https://wandb.ai/fgbb66579-iit-madras-foundation/inaturalist_cnn_from_scratchj/sweeps/tz0427hh</a>"
            ],
            "text/plain": [
              "<IPython.core.display.HTML object>"
            ]
          },
          "metadata": {},
          "output_type": "display_data"
        },
        {
          "data": {
            "text/html": [
              " View run at <a href='https://wandb.ai/fgbb66579-iit-madras-foundation/inaturalist_cnn_from_scratchj/runs/ba3mcsgv' target=\"_blank\">https://wandb.ai/fgbb66579-iit-madras-foundation/inaturalist_cnn_from_scratchj/runs/ba3mcsgv</a>"
            ],
            "text/plain": [
              "<IPython.core.display.HTML object>"
            ]
          },
          "metadata": {},
          "output_type": "display_data"
        },
        {
          "name": "stderr",
          "output_type": "stream",
          "text": [
            "<ipython-input-3-3fc379e20309>:53: FutureWarning: `torch.cuda.amp.GradScaler(args...)` is deprecated. Please use `torch.amp.GradScaler('cuda', args...)` instead.\n",
            "  scaler    = GradScaler()\n",
            "<ipython-input-3-3fc379e20309>:65: FutureWarning: `torch.cuda.amp.autocast(args...)` is deprecated. Please use `torch.amp.autocast('cuda', args...)` instead.\n",
            "  with autocast():\n",
            "<ipython-input-3-3fc379e20309>:81: FutureWarning: `torch.cuda.amp.autocast(args...)` is deprecated. Please use `torch.amp.autocast('cuda', args...)` instead.\n",
            "  with autocast():\n"
          ]
        },
        {
          "data": {
            "text/html": [],
            "text/plain": [
              "<IPython.core.display.HTML object>"
            ]
          },
          "metadata": {},
          "output_type": "display_data"
        },
        {
          "data": {
            "text/html": [
              "<br>    <style><br>        .wandb-row {<br>            display: flex;<br>            flex-direction: row;<br>            flex-wrap: wrap;<br>            justify-content: flex-start;<br>            width: 100%;<br>        }<br>        .wandb-col {<br>            display: flex;<br>            flex-direction: column;<br>            flex-basis: 100%;<br>            flex: 1;<br>            padding: 10px;<br>        }<br>    </style><br><div class=\"wandb-row\"><div class=\"wandb-col\"><h3>Run history:</h3><br/><table class=\"wandb\"><tr><td>epoch</td><td>▁▂▂▃▃▄▄▅▅▆▆▇▇█</td></tr><tr><td>hp/batch_size</td><td>▁▁▁▁▁▁▁▁▁▁▁▁▁▁</td></tr><tr><td>hp/dense_neurons</td><td>▁▁▁▁▁▁▁▁▁▁▁▁▁▁</td></tr><tr><td>hp/dropout</td><td>▁▁▁▁▁▁▁▁▁▁▁▁▁▁</td></tr><tr><td>hp/filter_size</td><td>▁▁▁▁▁▁▁▁▁▁▁▁▁▁</td></tr><tr><td>hp/lr</td><td>▁▁▁▁▁▁▁▁▁▁▁▁▁▁</td></tr><tr><td>hp/num_filters</td><td>▁▁▁▁▁▁▁▁▁▁▁▁▁▁</td></tr><tr><td>lr</td><td>█████████████▁</td></tr><tr><td>train_loss</td><td>██▇▇▇▆▆▆▅▅▅▄▃▁</td></tr><tr><td>val_accuracy</td><td>▁▃▄▅▆▇▇████▇▆▇</td></tr><tr><td>val_loss</td><td>▆▅▄▃▃▂▂▁▁▁▂▂▄█</td></tr></table><br/></div><div class=\"wandb-col\"><h3>Run summary:</h3><br/><table class=\"wandb\"><tr><td>epoch</td><td>13</td></tr><tr><td>hp/activation</td><td>ReLU</td></tr><tr><td>hp/batch_norm</td><td>False</td></tr><tr><td>hp/batch_size</td><td>32</td></tr><tr><td>hp/data_augmentation</td><td>False</td></tr><tr><td>hp/dense_neurons</td><td>512</td></tr><tr><td>hp/dropout</td><td>0.3</td></tr><tr><td>hp/filter_organization</td><td>half</td></tr><tr><td>hp/filter_size</td><td>3</td></tr><tr><td>hp/lr</td><td>0.00892</td></tr><tr><td>hp/num_filters</td><td>128</td></tr><tr><td>hp/use_residual</td><td>False</td></tr><tr><td>lr</td><td>0.00446</td></tr><tr><td>train_loss</td><td>0.93083</td></tr><tr><td>val_accuracy</td><td>32.2</td></tr><tr><td>val_loss</td><td>2.43945</td></tr></table><br/></div></div>"
            ],
            "text/plain": [
              "<IPython.core.display.HTML object>"
            ]
          },
          "metadata": {},
          "output_type": "display_data"
        },
        {
          "data": {
            "text/html": [
              " View run <strong style=\"color:#cdcd00\">lively-sweep-9</strong> at: <a href='https://wandb.ai/fgbb66579-iit-madras-foundation/inaturalist_cnn_from_scratchj/runs/ba3mcsgv' target=\"_blank\">https://wandb.ai/fgbb66579-iit-madras-foundation/inaturalist_cnn_from_scratchj/runs/ba3mcsgv</a><br> View project at: <a href='https://wandb.ai/fgbb66579-iit-madras-foundation/inaturalist_cnn_from_scratchj' target=\"_blank\">https://wandb.ai/fgbb66579-iit-madras-foundation/inaturalist_cnn_from_scratchj</a><br>Synced 5 W&B file(s), 0 media file(s), 0 artifact file(s) and 0 other file(s)"
            ],
            "text/plain": [
              "<IPython.core.display.HTML object>"
            ]
          },
          "metadata": {},
          "output_type": "display_data"
        },
        {
          "data": {
            "text/html": [
              "Find logs at: <code>./wandb/run-20250418_072159-ba3mcsgv/logs</code>"
            ],
            "text/plain": [
              "<IPython.core.display.HTML object>"
            ]
          },
          "metadata": {},
          "output_type": "display_data"
        },
        {
          "name": "stderr",
          "output_type": "stream",
          "text": [
            "\u001b[34m\u001b[1mwandb\u001b[0m: Agent Starting Run: 6h9mrzr1 with config:\n",
            "\u001b[34m\u001b[1mwandb\u001b[0m: \tactivation: Mish\n",
            "\u001b[34m\u001b[1mwandb\u001b[0m: \tbatch_norm: True\n",
            "\u001b[34m\u001b[1mwandb\u001b[0m: \tbatch_size: 64\n",
            "\u001b[34m\u001b[1mwandb\u001b[0m: \tdata_augmentation: True\n",
            "\u001b[34m\u001b[1mwandb\u001b[0m: \tdata_dir: /kaggle/input/inaturalist/inaturalist_12K\n",
            "\u001b[34m\u001b[1mwandb\u001b[0m: \tdense_neurons: 512\n",
            "\u001b[34m\u001b[1mwandb\u001b[0m: \tdevice: cuda\n",
            "\u001b[34m\u001b[1mwandb\u001b[0m: \tdropout: 0.2\n",
            "\u001b[34m\u001b[1mwandb\u001b[0m: \tearly_stop_patience: 5\n",
            "\u001b[34m\u001b[1mwandb\u001b[0m: \tepochs: 20\n",
            "\u001b[34m\u001b[1mwandb\u001b[0m: \tfilter_organization: double\n",
            "\u001b[34m\u001b[1mwandb\u001b[0m: \tfilter_size: 3\n",
            "\u001b[34m\u001b[1mwandb\u001b[0m: \tlr: 0.07101342042330809\n",
            "\u001b[34m\u001b[1mwandb\u001b[0m: \tnum_filters: 128\n",
            "\u001b[34m\u001b[1mwandb\u001b[0m: \tuse_residual: False\n"
          ]
        },
        {
          "data": {
            "text/html": [
              "Tracking run with wandb version 0.19.1"
            ],
            "text/plain": [
              "<IPython.core.display.HTML object>"
            ]
          },
          "metadata": {},
          "output_type": "display_data"
        },
        {
          "data": {
            "text/html": [
              "Run data is saved locally in <code>/kaggle/working/wandb/run-20250418_073301-6h9mrzr1</code>"
            ],
            "text/plain": [
              "<IPython.core.display.HTML object>"
            ]
          },
          "metadata": {},
          "output_type": "display_data"
        },
        {
          "data": {
            "text/html": [
              "Syncing run <strong><a href='https://wandb.ai/fgbb66579-iit-madras-foundation/inaturalist_cnn_from_scratchj/runs/6h9mrzr1' target=\"_blank\">fearless-sweep-10</a></strong> to <a href='https://wandb.ai/fgbb66579-iit-madras-foundation/inaturalist_cnn_from_scratchj' target=\"_blank\">Weights & Biases</a> (<a href='https://wandb.me/developer-guide' target=\"_blank\">docs</a>)<br>Sweep page: <a href='https://wandb.ai/fgbb66579-iit-madras-foundation/inaturalist_cnn_from_scratchj/sweeps/tz0427hh' target=\"_blank\">https://wandb.ai/fgbb66579-iit-madras-foundation/inaturalist_cnn_from_scratchj/sweeps/tz0427hh</a>"
            ],
            "text/plain": [
              "<IPython.core.display.HTML object>"
            ]
          },
          "metadata": {},
          "output_type": "display_data"
        },
        {
          "data": {
            "text/html": [
              " View project at <a href='https://wandb.ai/fgbb66579-iit-madras-foundation/inaturalist_cnn_from_scratchj' target=\"_blank\">https://wandb.ai/fgbb66579-iit-madras-foundation/inaturalist_cnn_from_scratchj</a>"
            ],
            "text/plain": [
              "<IPython.core.display.HTML object>"
            ]
          },
          "metadata": {},
          "output_type": "display_data"
        },
        {
          "data": {
            "text/html": [
              " View sweep at <a href='https://wandb.ai/fgbb66579-iit-madras-foundation/inaturalist_cnn_from_scratchj/sweeps/tz0427hh' target=\"_blank\">https://wandb.ai/fgbb66579-iit-madras-foundation/inaturalist_cnn_from_scratchj/sweeps/tz0427hh</a>"
            ],
            "text/plain": [
              "<IPython.core.display.HTML object>"
            ]
          },
          "metadata": {},
          "output_type": "display_data"
        },
        {
          "data": {
            "text/html": [
              " View run at <a href='https://wandb.ai/fgbb66579-iit-madras-foundation/inaturalist_cnn_from_scratchj/runs/6h9mrzr1' target=\"_blank\">https://wandb.ai/fgbb66579-iit-madras-foundation/inaturalist_cnn_from_scratchj/runs/6h9mrzr1</a>"
            ],
            "text/plain": [
              "<IPython.core.display.HTML object>"
            ]
          },
          "metadata": {},
          "output_type": "display_data"
        },
        {
          "name": "stderr",
          "output_type": "stream",
          "text": [
            "<ipython-input-3-3fc379e20309>:53: FutureWarning: `torch.cuda.amp.GradScaler(args...)` is deprecated. Please use `torch.amp.GradScaler('cuda', args...)` instead.\n",
            "  scaler    = GradScaler()\n",
            "<ipython-input-3-3fc379e20309>:65: FutureWarning: `torch.cuda.amp.autocast(args...)` is deprecated. Please use `torch.amp.autocast('cuda', args...)` instead.\n",
            "  with autocast():\n",
            "<ipython-input-3-3fc379e20309>:81: FutureWarning: `torch.cuda.amp.autocast(args...)` is deprecated. Please use `torch.amp.autocast('cuda', args...)` instead.\n",
            "  with autocast():\n"
          ]
        },
        {
          "data": {
            "text/html": [],
            "text/plain": [
              "<IPython.core.display.HTML object>"
            ]
          },
          "metadata": {},
          "output_type": "display_data"
        },
        {
          "data": {
            "text/html": [
              "<br>    <style><br>        .wandb-row {<br>            display: flex;<br>            flex-direction: row;<br>            flex-wrap: wrap;<br>            justify-content: flex-start;<br>            width: 100%;<br>        }<br>        .wandb-col {<br>            display: flex;<br>            flex-direction: column;<br>            flex-basis: 100%;<br>            flex: 1;<br>            padding: 10px;<br>        }<br>    </style><br><div class=\"wandb-row\"><div class=\"wandb-col\"><h3>Run history:</h3><br/><table class=\"wandb\"><tr><td>epoch</td><td>▁▂▄▅▇█</td></tr><tr><td>hp/batch_size</td><td>▁▁▁▁▁▁</td></tr><tr><td>hp/dense_neurons</td><td>▁▁▁▁▁▁</td></tr><tr><td>hp/dropout</td><td>▁▁▁▁▁▁</td></tr><tr><td>hp/filter_size</td><td>▁▁▁▁▁▁</td></tr><tr><td>hp/lr</td><td>▁▁▁▁▁▁</td></tr><tr><td>hp/num_filters</td><td>▁▁▁▁▁▁</td></tr><tr><td>lr</td><td>█████▁</td></tr><tr><td>val_accuracy</td><td>▁▁▁▁▁▁</td></tr></table><br/></div><div class=\"wandb-col\"><h3>Run summary:</h3><br/><table class=\"wandb\"><tr><td>epoch</td><td>5</td></tr><tr><td>hp/activation</td><td>Mish</td></tr><tr><td>hp/batch_norm</td><td>True</td></tr><tr><td>hp/batch_size</td><td>64</td></tr><tr><td>hp/data_augmentation</td><td>True</td></tr><tr><td>hp/dense_neurons</td><td>512</td></tr><tr><td>hp/dropout</td><td>0.2</td></tr><tr><td>hp/filter_organization</td><td>double</td></tr><tr><td>hp/filter_size</td><td>3</td></tr><tr><td>hp/lr</td><td>0.07101</td></tr><tr><td>hp/num_filters</td><td>128</td></tr><tr><td>hp/use_residual</td><td>False</td></tr><tr><td>lr</td><td>0.03551</td></tr><tr><td>train_loss</td><td>nan</td></tr><tr><td>val_accuracy</td><td>10</td></tr><tr><td>val_loss</td><td>nan</td></tr></table><br/></div></div>"
            ],
            "text/plain": [
              "<IPython.core.display.HTML object>"
            ]
          },
          "metadata": {},
          "output_type": "display_data"
        },
        {
          "data": {
            "text/html": [
              " View run <strong style=\"color:#cdcd00\">fearless-sweep-10</strong> at: <a href='https://wandb.ai/fgbb66579-iit-madras-foundation/inaturalist_cnn_from_scratchj/runs/6h9mrzr1' target=\"_blank\">https://wandb.ai/fgbb66579-iit-madras-foundation/inaturalist_cnn_from_scratchj/runs/6h9mrzr1</a><br> View project at: <a href='https://wandb.ai/fgbb66579-iit-madras-foundation/inaturalist_cnn_from_scratchj' target=\"_blank\">https://wandb.ai/fgbb66579-iit-madras-foundation/inaturalist_cnn_from_scratchj</a><br>Synced 5 W&B file(s), 0 media file(s), 0 artifact file(s) and 0 other file(s)"
            ],
            "text/plain": [
              "<IPython.core.display.HTML object>"
            ]
          },
          "metadata": {},
          "output_type": "display_data"
        },
        {
          "data": {
            "text/html": [
              "Find logs at: <code>./wandb/run-20250418_073301-6h9mrzr1/logs</code>"
            ],
            "text/plain": [
              "<IPython.core.display.HTML object>"
            ]
          },
          "metadata": {},
          "output_type": "display_data"
        },
        {
          "name": "stderr",
          "output_type": "stream",
          "text": [
            "\u001b[34m\u001b[1mwandb\u001b[0m: Agent Starting Run: 7rijx8cj with config:\n",
            "\u001b[34m\u001b[1mwandb\u001b[0m: \tactivation: SiLU\n",
            "\u001b[34m\u001b[1mwandb\u001b[0m: \tbatch_norm: False\n",
            "\u001b[34m\u001b[1mwandb\u001b[0m: \tbatch_size: 32\n",
            "\u001b[34m\u001b[1mwandb\u001b[0m: \tdata_augmentation: True\n",
            "\u001b[34m\u001b[1mwandb\u001b[0m: \tdata_dir: /kaggle/input/inaturalist/inaturalist_12K\n",
            "\u001b[34m\u001b[1mwandb\u001b[0m: \tdense_neurons: 512\n",
            "\u001b[34m\u001b[1mwandb\u001b[0m: \tdevice: cuda\n",
            "\u001b[34m\u001b[1mwandb\u001b[0m: \tdropout: 0\n",
            "\u001b[34m\u001b[1mwandb\u001b[0m: \tearly_stop_patience: 5\n",
            "\u001b[34m\u001b[1mwandb\u001b[0m: \tepochs: 20\n",
            "\u001b[34m\u001b[1mwandb\u001b[0m: \tfilter_organization: double\n",
            "\u001b[34m\u001b[1mwandb\u001b[0m: \tfilter_size: 5\n",
            "\u001b[34m\u001b[1mwandb\u001b[0m: \tlr: 0.05120537583761722\n",
            "\u001b[34m\u001b[1mwandb\u001b[0m: \tnum_filters: 64\n",
            "\u001b[34m\u001b[1mwandb\u001b[0m: \tuse_residual: False\n"
          ]
        },
        {
          "data": {
            "text/html": [
              "Tracking run with wandb version 0.19.1"
            ],
            "text/plain": [
              "<IPython.core.display.HTML object>"
            ]
          },
          "metadata": {},
          "output_type": "display_data"
        },
        {
          "data": {
            "text/html": [
              "Run data is saved locally in <code>/kaggle/working/wandb/run-20250418_074216-7rijx8cj</code>"
            ],
            "text/plain": [
              "<IPython.core.display.HTML object>"
            ]
          },
          "metadata": {},
          "output_type": "display_data"
        },
        {
          "data": {
            "text/html": [
              "Syncing run <strong><a href='https://wandb.ai/fgbb66579-iit-madras-foundation/inaturalist_cnn_from_scratchj/runs/7rijx8cj' target=\"_blank\">restful-sweep-11</a></strong> to <a href='https://wandb.ai/fgbb66579-iit-madras-foundation/inaturalist_cnn_from_scratchj' target=\"_blank\">Weights & Biases</a> (<a href='https://wandb.me/developer-guide' target=\"_blank\">docs</a>)<br>Sweep page: <a href='https://wandb.ai/fgbb66579-iit-madras-foundation/inaturalist_cnn_from_scratchj/sweeps/tz0427hh' target=\"_blank\">https://wandb.ai/fgbb66579-iit-madras-foundation/inaturalist_cnn_from_scratchj/sweeps/tz0427hh</a>"
            ],
            "text/plain": [
              "<IPython.core.display.HTML object>"
            ]
          },
          "metadata": {},
          "output_type": "display_data"
        },
        {
          "data": {
            "text/html": [
              " View project at <a href='https://wandb.ai/fgbb66579-iit-madras-foundation/inaturalist_cnn_from_scratchj' target=\"_blank\">https://wandb.ai/fgbb66579-iit-madras-foundation/inaturalist_cnn_from_scratchj</a>"
            ],
            "text/plain": [
              "<IPython.core.display.HTML object>"
            ]
          },
          "metadata": {},
          "output_type": "display_data"
        },
        {
          "data": {
            "text/html": [
              " View sweep at <a href='https://wandb.ai/fgbb66579-iit-madras-foundation/inaturalist_cnn_from_scratchj/sweeps/tz0427hh' target=\"_blank\">https://wandb.ai/fgbb66579-iit-madras-foundation/inaturalist_cnn_from_scratchj/sweeps/tz0427hh</a>"
            ],
            "text/plain": [
              "<IPython.core.display.HTML object>"
            ]
          },
          "metadata": {},
          "output_type": "display_data"
        },
        {
          "data": {
            "text/html": [
              " View run at <a href='https://wandb.ai/fgbb66579-iit-madras-foundation/inaturalist_cnn_from_scratchj/runs/7rijx8cj' target=\"_blank\">https://wandb.ai/fgbb66579-iit-madras-foundation/inaturalist_cnn_from_scratchj/runs/7rijx8cj</a>"
            ],
            "text/plain": [
              "<IPython.core.display.HTML object>"
            ]
          },
          "metadata": {},
          "output_type": "display_data"
        },
        {
          "name": "stderr",
          "output_type": "stream",
          "text": [
            "<ipython-input-3-3fc379e20309>:53: FutureWarning: `torch.cuda.amp.GradScaler(args...)` is deprecated. Please use `torch.amp.GradScaler('cuda', args...)` instead.\n",
            "  scaler    = GradScaler()\n",
            "<ipython-input-3-3fc379e20309>:65: FutureWarning: `torch.cuda.amp.autocast(args...)` is deprecated. Please use `torch.amp.autocast('cuda', args...)` instead.\n",
            "  with autocast():\n",
            "<ipython-input-3-3fc379e20309>:81: FutureWarning: `torch.cuda.amp.autocast(args...)` is deprecated. Please use `torch.amp.autocast('cuda', args...)` instead.\n",
            "  with autocast():\n"
          ]
        },
        {
          "data": {
            "text/html": [],
            "text/plain": [
              "<IPython.core.display.HTML object>"
            ]
          },
          "metadata": {},
          "output_type": "display_data"
        },
        {
          "data": {
            "text/html": [
              "<br>    <style><br>        .wandb-row {<br>            display: flex;<br>            flex-direction: row;<br>            flex-wrap: wrap;<br>            justify-content: flex-start;<br>            width: 100%;<br>        }<br>        .wandb-col {<br>            display: flex;<br>            flex-direction: column;<br>            flex-basis: 100%;<br>            flex: 1;<br>            padding: 10px;<br>        }<br>    </style><br><div class=\"wandb-row\"><div class=\"wandb-col\"><h3>Run history:</h3><br/><table class=\"wandb\"><tr><td>epoch</td><td>▁▂▄▅▇█</td></tr><tr><td>hp/batch_size</td><td>▁▁▁▁▁▁</td></tr><tr><td>hp/dense_neurons</td><td>▁▁▁▁▁▁</td></tr><tr><td>hp/dropout</td><td>▁▁▁▁▁▁</td></tr><tr><td>hp/filter_size</td><td>▁▁▁▁▁▁</td></tr><tr><td>hp/lr</td><td>▁▁▁▁▁▁</td></tr><tr><td>hp/num_filters</td><td>▁▁▁▁▁▁</td></tr><tr><td>lr</td><td>█████▁</td></tr><tr><td>train_loss</td><td>▁     </td></tr><tr><td>val_accuracy</td><td>█▁▁▁▁▁</td></tr><tr><td>val_loss</td><td>▁     </td></tr></table><br/></div><div class=\"wandb-col\"><h3>Run summary:</h3><br/><table class=\"wandb\"><tr><td>epoch</td><td>5</td></tr><tr><td>hp/activation</td><td>SiLU</td></tr><tr><td>hp/batch_norm</td><td>False</td></tr><tr><td>hp/batch_size</td><td>32</td></tr><tr><td>hp/data_augmentation</td><td>True</td></tr><tr><td>hp/dense_neurons</td><td>512</td></tr><tr><td>hp/dropout</td><td>0</td></tr><tr><td>hp/filter_organization</td><td>double</td></tr><tr><td>hp/filter_size</td><td>5</td></tr><tr><td>hp/lr</td><td>0.05121</td></tr><tr><td>hp/num_filters</td><td>64</td></tr><tr><td>hp/use_residual</td><td>False</td></tr><tr><td>lr</td><td>0.0256</td></tr><tr><td>train_loss</td><td>nan</td></tr><tr><td>val_accuracy</td><td>10</td></tr><tr><td>val_loss</td><td>nan</td></tr></table><br/></div></div>"
            ],
            "text/plain": [
              "<IPython.core.display.HTML object>"
            ]
          },
          "metadata": {},
          "output_type": "display_data"
        },
        {
          "data": {
            "text/html": [
              " View run <strong style=\"color:#cdcd00\">restful-sweep-11</strong> at: <a href='https://wandb.ai/fgbb66579-iit-madras-foundation/inaturalist_cnn_from_scratchj/runs/7rijx8cj' target=\"_blank\">https://wandb.ai/fgbb66579-iit-madras-foundation/inaturalist_cnn_from_scratchj/runs/7rijx8cj</a><br> View project at: <a href='https://wandb.ai/fgbb66579-iit-madras-foundation/inaturalist_cnn_from_scratchj' target=\"_blank\">https://wandb.ai/fgbb66579-iit-madras-foundation/inaturalist_cnn_from_scratchj</a><br>Synced 5 W&B file(s), 0 media file(s), 0 artifact file(s) and 0 other file(s)"
            ],
            "text/plain": [
              "<IPython.core.display.HTML object>"
            ]
          },
          "metadata": {},
          "output_type": "display_data"
        },
        {
          "data": {
            "text/html": [
              "Find logs at: <code>./wandb/run-20250418_074216-7rijx8cj/logs</code>"
            ],
            "text/plain": [
              "<IPython.core.display.HTML object>"
            ]
          },
          "metadata": {},
          "output_type": "display_data"
        },
        {
          "name": "stderr",
          "output_type": "stream",
          "text": [
            "\u001b[34m\u001b[1mwandb\u001b[0m: Agent Starting Run: uw42e0rt with config:\n",
            "\u001b[34m\u001b[1mwandb\u001b[0m: \tactivation: GELU\n",
            "\u001b[34m\u001b[1mwandb\u001b[0m: \tbatch_norm: False\n",
            "\u001b[34m\u001b[1mwandb\u001b[0m: \tbatch_size: 64\n",
            "\u001b[34m\u001b[1mwandb\u001b[0m: \tdata_augmentation: True\n",
            "\u001b[34m\u001b[1mwandb\u001b[0m: \tdata_dir: /kaggle/input/inaturalist/inaturalist_12K\n",
            "\u001b[34m\u001b[1mwandb\u001b[0m: \tdense_neurons: 512\n",
            "\u001b[34m\u001b[1mwandb\u001b[0m: \tdevice: cuda\n",
            "\u001b[34m\u001b[1mwandb\u001b[0m: \tdropout: 0.2\n",
            "\u001b[34m\u001b[1mwandb\u001b[0m: \tearly_stop_patience: 5\n",
            "\u001b[34m\u001b[1mwandb\u001b[0m: \tepochs: 20\n",
            "\u001b[34m\u001b[1mwandb\u001b[0m: \tfilter_organization: half\n",
            "\u001b[34m\u001b[1mwandb\u001b[0m: \tfilter_size: 5\n",
            "\u001b[34m\u001b[1mwandb\u001b[0m: \tlr: 0.0013445675100836891\n",
            "\u001b[34m\u001b[1mwandb\u001b[0m: \tnum_filters: 128\n",
            "\u001b[34m\u001b[1mwandb\u001b[0m: \tuse_residual: False\n"
          ]
        },
        {
          "data": {
            "text/html": [
              "Tracking run with wandb version 0.19.1"
            ],
            "text/plain": [
              "<IPython.core.display.HTML object>"
            ]
          },
          "metadata": {},
          "output_type": "display_data"
        },
        {
          "data": {
            "text/html": [
              "Run data is saved locally in <code>/kaggle/working/wandb/run-20250418_074850-uw42e0rt</code>"
            ],
            "text/plain": [
              "<IPython.core.display.HTML object>"
            ]
          },
          "metadata": {},
          "output_type": "display_data"
        },
        {
          "data": {
            "text/html": [
              "Syncing run <strong><a href='https://wandb.ai/fgbb66579-iit-madras-foundation/inaturalist_cnn_from_scratchj/runs/uw42e0rt' target=\"_blank\">earthy-sweep-12</a></strong> to <a href='https://wandb.ai/fgbb66579-iit-madras-foundation/inaturalist_cnn_from_scratchj' target=\"_blank\">Weights & Biases</a> (<a href='https://wandb.me/developer-guide' target=\"_blank\">docs</a>)<br>Sweep page: <a href='https://wandb.ai/fgbb66579-iit-madras-foundation/inaturalist_cnn_from_scratchj/sweeps/tz0427hh' target=\"_blank\">https://wandb.ai/fgbb66579-iit-madras-foundation/inaturalist_cnn_from_scratchj/sweeps/tz0427hh</a>"
            ],
            "text/plain": [
              "<IPython.core.display.HTML object>"
            ]
          },
          "metadata": {},
          "output_type": "display_data"
        },
        {
          "data": {
            "text/html": [
              " View project at <a href='https://wandb.ai/fgbb66579-iit-madras-foundation/inaturalist_cnn_from_scratchj' target=\"_blank\">https://wandb.ai/fgbb66579-iit-madras-foundation/inaturalist_cnn_from_scratchj</a>"
            ],
            "text/plain": [
              "<IPython.core.display.HTML object>"
            ]
          },
          "metadata": {},
          "output_type": "display_data"
        },
        {
          "data": {
            "text/html": [
              " View sweep at <a href='https://wandb.ai/fgbb66579-iit-madras-foundation/inaturalist_cnn_from_scratchj/sweeps/tz0427hh' target=\"_blank\">https://wandb.ai/fgbb66579-iit-madras-foundation/inaturalist_cnn_from_scratchj/sweeps/tz0427hh</a>"
            ],
            "text/plain": [
              "<IPython.core.display.HTML object>"
            ]
          },
          "metadata": {},
          "output_type": "display_data"
        },
        {
          "data": {
            "text/html": [
              " View run at <a href='https://wandb.ai/fgbb66579-iit-madras-foundation/inaturalist_cnn_from_scratchj/runs/uw42e0rt' target=\"_blank\">https://wandb.ai/fgbb66579-iit-madras-foundation/inaturalist_cnn_from_scratchj/runs/uw42e0rt</a>"
            ],
            "text/plain": [
              "<IPython.core.display.HTML object>"
            ]
          },
          "metadata": {},
          "output_type": "display_data"
        },
        {
          "name": "stderr",
          "output_type": "stream",
          "text": [
            "<ipython-input-3-3fc379e20309>:53: FutureWarning: `torch.cuda.amp.GradScaler(args...)` is deprecated. Please use `torch.amp.GradScaler('cuda', args...)` instead.\n",
            "  scaler    = GradScaler()\n",
            "<ipython-input-3-3fc379e20309>:65: FutureWarning: `torch.cuda.amp.autocast(args...)` is deprecated. Please use `torch.amp.autocast('cuda', args...)` instead.\n",
            "  with autocast():\n",
            "<ipython-input-3-3fc379e20309>:81: FutureWarning: `torch.cuda.amp.autocast(args...)` is deprecated. Please use `torch.amp.autocast('cuda', args...)` instead.\n",
            "  with autocast():\n"
          ]
        },
        {
          "data": {
            "text/html": [],
            "text/plain": [
              "<IPython.core.display.HTML object>"
            ]
          },
          "metadata": {},
          "output_type": "display_data"
        },
        {
          "data": {
            "text/html": [
              "<br>    <style><br>        .wandb-row {<br>            display: flex;<br>            flex-direction: row;<br>            flex-wrap: wrap;<br>            justify-content: flex-start;<br>            width: 100%;<br>        }<br>        .wandb-col {<br>            display: flex;<br>            flex-direction: column;<br>            flex-basis: 100%;<br>            flex: 1;<br>            padding: 10px;<br>        }<br>    </style><br><div class=\"wandb-row\"><div class=\"wandb-col\"><h3>Run history:</h3><br/><table class=\"wandb\"><tr><td>epoch</td><td>▁▂▃▅▆▇█</td></tr><tr><td>hp/batch_size</td><td>▁▁▁▁▁▁▁</td></tr><tr><td>hp/dense_neurons</td><td>▁▁▁▁▁▁▁</td></tr><tr><td>hp/dropout</td><td>▁▁▁▁▁▁▁</td></tr><tr><td>hp/filter_size</td><td>▁▁▁▁▁▁▁</td></tr><tr><td>hp/lr</td><td>▁▁▁▁▁▁▁</td></tr><tr><td>hp/num_filters</td><td>▁▁▁▁▁▁▁</td></tr><tr><td>lr</td><td>██████▁</td></tr><tr><td>train_loss</td><td>█▇▆▅▄▃▁</td></tr><tr><td>val_accuracy</td><td>▁█▁██▁▁</td></tr><tr><td>val_loss</td><td>█▇█▄▃▃▁</td></tr></table><br/></div><div class=\"wandb-col\"><h3>Run summary:</h3><br/><table class=\"wandb\"><tr><td>epoch</td><td>6</td></tr><tr><td>hp/activation</td><td>GELU</td></tr><tr><td>hp/batch_norm</td><td>False</td></tr><tr><td>hp/batch_size</td><td>64</td></tr><tr><td>hp/data_augmentation</td><td>True</td></tr><tr><td>hp/dense_neurons</td><td>512</td></tr><tr><td>hp/dropout</td><td>0.2</td></tr><tr><td>hp/filter_organization</td><td>half</td></tr><tr><td>hp/filter_size</td><td>5</td></tr><tr><td>hp/lr</td><td>0.00134</td></tr><tr><td>hp/num_filters</td><td>128</td></tr><tr><td>hp/use_residual</td><td>False</td></tr><tr><td>lr</td><td>0.00067</td></tr><tr><td>train_loss</td><td>2.30233</td></tr><tr><td>val_accuracy</td><td>10</td></tr><tr><td>val_loss</td><td>2.30218</td></tr></table><br/></div></div>"
            ],
            "text/plain": [
              "<IPython.core.display.HTML object>"
            ]
          },
          "metadata": {},
          "output_type": "display_data"
        },
        {
          "data": {
            "text/html": [
              " View run <strong style=\"color:#cdcd00\">earthy-sweep-12</strong> at: <a href='https://wandb.ai/fgbb66579-iit-madras-foundation/inaturalist_cnn_from_scratchj/runs/uw42e0rt' target=\"_blank\">https://wandb.ai/fgbb66579-iit-madras-foundation/inaturalist_cnn_from_scratchj/runs/uw42e0rt</a><br> View project at: <a href='https://wandb.ai/fgbb66579-iit-madras-foundation/inaturalist_cnn_from_scratchj' target=\"_blank\">https://wandb.ai/fgbb66579-iit-madras-foundation/inaturalist_cnn_from_scratchj</a><br>Synced 5 W&B file(s), 0 media file(s), 0 artifact file(s) and 0 other file(s)"
            ],
            "text/plain": [
              "<IPython.core.display.HTML object>"
            ]
          },
          "metadata": {},
          "output_type": "display_data"
        },
        {
          "data": {
            "text/html": [
              "Find logs at: <code>./wandb/run-20250418_074850-uw42e0rt/logs</code>"
            ],
            "text/plain": [
              "<IPython.core.display.HTML object>"
            ]
          },
          "metadata": {},
          "output_type": "display_data"
        },
        {
          "name": "stderr",
          "output_type": "stream",
          "text": [
            "\u001b[34m\u001b[1mwandb\u001b[0m: Agent Starting Run: g8xr6789 with config:\n",
            "\u001b[34m\u001b[1mwandb\u001b[0m: \tactivation: GELU\n",
            "\u001b[34m\u001b[1mwandb\u001b[0m: \tbatch_norm: False\n",
            "\u001b[34m\u001b[1mwandb\u001b[0m: \tbatch_size: 32\n",
            "\u001b[34m\u001b[1mwandb\u001b[0m: \tdata_augmentation: True\n",
            "\u001b[34m\u001b[1mwandb\u001b[0m: \tdata_dir: /kaggle/input/inaturalist/inaturalist_12K\n",
            "\u001b[34m\u001b[1mwandb\u001b[0m: \tdense_neurons: 512\n",
            "\u001b[34m\u001b[1mwandb\u001b[0m: \tdevice: cuda\n",
            "\u001b[34m\u001b[1mwandb\u001b[0m: \tdropout: 0.2\n",
            "\u001b[34m\u001b[1mwandb\u001b[0m: \tearly_stop_patience: 5\n",
            "\u001b[34m\u001b[1mwandb\u001b[0m: \tepochs: 20\n",
            "\u001b[34m\u001b[1mwandb\u001b[0m: \tfilter_organization: half\n",
            "\u001b[34m\u001b[1mwandb\u001b[0m: \tfilter_size: 5\n",
            "\u001b[34m\u001b[1mwandb\u001b[0m: \tlr: 0.09631725728918218\n",
            "\u001b[34m\u001b[1mwandb\u001b[0m: \tnum_filters: 64\n",
            "\u001b[34m\u001b[1mwandb\u001b[0m: \tuse_residual: False\n"
          ]
        },
        {
          "data": {
            "text/html": [
              "Tracking run with wandb version 0.19.1"
            ],
            "text/plain": [
              "<IPython.core.display.HTML object>"
            ]
          },
          "metadata": {},
          "output_type": "display_data"
        },
        {
          "data": {
            "text/html": [
              "Run data is saved locally in <code>/kaggle/working/wandb/run-20250418_075530-g8xr6789</code>"
            ],
            "text/plain": [
              "<IPython.core.display.HTML object>"
            ]
          },
          "metadata": {},
          "output_type": "display_data"
        },
        {
          "data": {
            "text/html": [
              "Syncing run <strong><a href='https://wandb.ai/fgbb66579-iit-madras-foundation/inaturalist_cnn_from_scratchj/runs/g8xr6789' target=\"_blank\">magic-sweep-13</a></strong> to <a href='https://wandb.ai/fgbb66579-iit-madras-foundation/inaturalist_cnn_from_scratchj' target=\"_blank\">Weights & Biases</a> (<a href='https://wandb.me/developer-guide' target=\"_blank\">docs</a>)<br>Sweep page: <a href='https://wandb.ai/fgbb66579-iit-madras-foundation/inaturalist_cnn_from_scratchj/sweeps/tz0427hh' target=\"_blank\">https://wandb.ai/fgbb66579-iit-madras-foundation/inaturalist_cnn_from_scratchj/sweeps/tz0427hh</a>"
            ],
            "text/plain": [
              "<IPython.core.display.HTML object>"
            ]
          },
          "metadata": {},
          "output_type": "display_data"
        },
        {
          "data": {
            "text/html": [
              " View project at <a href='https://wandb.ai/fgbb66579-iit-madras-foundation/inaturalist_cnn_from_scratchj' target=\"_blank\">https://wandb.ai/fgbb66579-iit-madras-foundation/inaturalist_cnn_from_scratchj</a>"
            ],
            "text/plain": [
              "<IPython.core.display.HTML object>"
            ]
          },
          "metadata": {},
          "output_type": "display_data"
        },
        {
          "data": {
            "text/html": [
              " View sweep at <a href='https://wandb.ai/fgbb66579-iit-madras-foundation/inaturalist_cnn_from_scratchj/sweeps/tz0427hh' target=\"_blank\">https://wandb.ai/fgbb66579-iit-madras-foundation/inaturalist_cnn_from_scratchj/sweeps/tz0427hh</a>"
            ],
            "text/plain": [
              "<IPython.core.display.HTML object>"
            ]
          },
          "metadata": {},
          "output_type": "display_data"
        },
        {
          "data": {
            "text/html": [
              " View run at <a href='https://wandb.ai/fgbb66579-iit-madras-foundation/inaturalist_cnn_from_scratchj/runs/g8xr6789' target=\"_blank\">https://wandb.ai/fgbb66579-iit-madras-foundation/inaturalist_cnn_from_scratchj/runs/g8xr6789</a>"
            ],
            "text/plain": [
              "<IPython.core.display.HTML object>"
            ]
          },
          "metadata": {},
          "output_type": "display_data"
        },
        {
          "name": "stderr",
          "output_type": "stream",
          "text": [
            "<ipython-input-3-3fc379e20309>:53: FutureWarning: `torch.cuda.amp.GradScaler(args...)` is deprecated. Please use `torch.amp.GradScaler('cuda', args...)` instead.\n",
            "  scaler    = GradScaler()\n",
            "<ipython-input-3-3fc379e20309>:65: FutureWarning: `torch.cuda.amp.autocast(args...)` is deprecated. Please use `torch.amp.autocast('cuda', args...)` instead.\n",
            "  with autocast():\n",
            "<ipython-input-3-3fc379e20309>:81: FutureWarning: `torch.cuda.amp.autocast(args...)` is deprecated. Please use `torch.amp.autocast('cuda', args...)` instead.\n",
            "  with autocast():\n"
          ]
        },
        {
          "data": {
            "text/html": [],
            "text/plain": [
              "<IPython.core.display.HTML object>"
            ]
          },
          "metadata": {},
          "output_type": "display_data"
        },
        {
          "data": {
            "text/html": [
              "<br>    <style><br>        .wandb-row {<br>            display: flex;<br>            flex-direction: row;<br>            flex-wrap: wrap;<br>            justify-content: flex-start;<br>            width: 100%;<br>        }<br>        .wandb-col {<br>            display: flex;<br>            flex-direction: column;<br>            flex-basis: 100%;<br>            flex: 1;<br>            padding: 10px;<br>        }<br>    </style><br><div class=\"wandb-row\"><div class=\"wandb-col\"><h3>Run history:</h3><br/><table class=\"wandb\"><tr><td>epoch</td><td>▁▂▄▅▇█</td></tr><tr><td>hp/batch_size</td><td>▁▁▁▁▁▁</td></tr><tr><td>hp/dense_neurons</td><td>▁▁▁▁▁▁</td></tr><tr><td>hp/dropout</td><td>▁▁▁▁▁▁</td></tr><tr><td>hp/filter_size</td><td>▁▁▁▁▁▁</td></tr><tr><td>hp/lr</td><td>▁▁▁▁▁▁</td></tr><tr><td>hp/num_filters</td><td>▁▁▁▁▁▁</td></tr><tr><td>lr</td><td>█████▁</td></tr><tr><td>val_accuracy</td><td>▁▁▁▁▁▁</td></tr></table><br/></div><div class=\"wandb-col\"><h3>Run summary:</h3><br/><table class=\"wandb\"><tr><td>epoch</td><td>5</td></tr><tr><td>hp/activation</td><td>GELU</td></tr><tr><td>hp/batch_norm</td><td>False</td></tr><tr><td>hp/batch_size</td><td>32</td></tr><tr><td>hp/data_augmentation</td><td>True</td></tr><tr><td>hp/dense_neurons</td><td>512</td></tr><tr><td>hp/dropout</td><td>0.2</td></tr><tr><td>hp/filter_organization</td><td>half</td></tr><tr><td>hp/filter_size</td><td>5</td></tr><tr><td>hp/lr</td><td>0.09632</td></tr><tr><td>hp/num_filters</td><td>64</td></tr><tr><td>hp/use_residual</td><td>False</td></tr><tr><td>lr</td><td>0.04816</td></tr><tr><td>train_loss</td><td>nan</td></tr><tr><td>val_accuracy</td><td>10.5</td></tr><tr><td>val_loss</td><td>nan</td></tr></table><br/></div></div>"
            ],
            "text/plain": [
              "<IPython.core.display.HTML object>"
            ]
          },
          "metadata": {},
          "output_type": "display_data"
        },
        {
          "data": {
            "text/html": [
              " View run <strong style=\"color:#cdcd00\">magic-sweep-13</strong> at: <a href='https://wandb.ai/fgbb66579-iit-madras-foundation/inaturalist_cnn_from_scratchj/runs/g8xr6789' target=\"_blank\">https://wandb.ai/fgbb66579-iit-madras-foundation/inaturalist_cnn_from_scratchj/runs/g8xr6789</a><br> View project at: <a href='https://wandb.ai/fgbb66579-iit-madras-foundation/inaturalist_cnn_from_scratchj' target=\"_blank\">https://wandb.ai/fgbb66579-iit-madras-foundation/inaturalist_cnn_from_scratchj</a><br>Synced 5 W&B file(s), 0 media file(s), 0 artifact file(s) and 0 other file(s)"
            ],
            "text/plain": [
              "<IPython.core.display.HTML object>"
            ]
          },
          "metadata": {},
          "output_type": "display_data"
        },
        {
          "data": {
            "text/html": [
              "Find logs at: <code>./wandb/run-20250418_075530-g8xr6789/logs</code>"
            ],
            "text/plain": [
              "<IPython.core.display.HTML object>"
            ]
          },
          "metadata": {},
          "output_type": "display_data"
        },
        {
          "name": "stderr",
          "output_type": "stream",
          "text": [
            "\u001b[34m\u001b[1mwandb\u001b[0m: Sweep Agent: Waiting for job.\n",
            "\u001b[34m\u001b[1mwandb\u001b[0m: Job received.\n",
            "\u001b[34m\u001b[1mwandb\u001b[0m: Agent Starting Run: jenz31lf with config:\n",
            "\u001b[34m\u001b[1mwandb\u001b[0m: \tactivation: GELU\n",
            "\u001b[34m\u001b[1mwandb\u001b[0m: \tbatch_norm: True\n",
            "\u001b[34m\u001b[1mwandb\u001b[0m: \tbatch_size: 32\n",
            "\u001b[34m\u001b[1mwandb\u001b[0m: \tdata_augmentation: False\n",
            "\u001b[34m\u001b[1mwandb\u001b[0m: \tdata_dir: /kaggle/input/inaturalist/inaturalist_12K\n",
            "\u001b[34m\u001b[1mwandb\u001b[0m: \tdense_neurons: 256\n",
            "\u001b[34m\u001b[1mwandb\u001b[0m: \tdevice: cuda\n",
            "\u001b[34m\u001b[1mwandb\u001b[0m: \tdropout: 0.2\n",
            "\u001b[34m\u001b[1mwandb\u001b[0m: \tearly_stop_patience: 5\n",
            "\u001b[34m\u001b[1mwandb\u001b[0m: \tepochs: 20\n",
            "\u001b[34m\u001b[1mwandb\u001b[0m: \tfilter_organization: same\n",
            "\u001b[34m\u001b[1mwandb\u001b[0m: \tfilter_size: 5\n",
            "\u001b[34m\u001b[1mwandb\u001b[0m: \tlr: 0.007154994697524877\n",
            "\u001b[34m\u001b[1mwandb\u001b[0m: \tnum_filters: 32\n",
            "\u001b[34m\u001b[1mwandb\u001b[0m: \tuse_residual: False\n"
          ]
        },
        {
          "data": {
            "text/html": [
              "Tracking run with wandb version 0.19.1"
            ],
            "text/plain": [
              "<IPython.core.display.HTML object>"
            ]
          },
          "metadata": {},
          "output_type": "display_data"
        },
        {
          "data": {
            "text/html": [
              "Run data is saved locally in <code>/kaggle/working/wandb/run-20250418_080124-jenz31lf</code>"
            ],
            "text/plain": [
              "<IPython.core.display.HTML object>"
            ]
          },
          "metadata": {},
          "output_type": "display_data"
        },
        {
          "data": {
            "text/html": [
              "Syncing run <strong><a href='https://wandb.ai/fgbb66579-iit-madras-foundation/inaturalist_cnn_from_scratchj/runs/jenz31lf' target=\"_blank\">glowing-sweep-14</a></strong> to <a href='https://wandb.ai/fgbb66579-iit-madras-foundation/inaturalist_cnn_from_scratchj' target=\"_blank\">Weights & Biases</a> (<a href='https://wandb.me/developer-guide' target=\"_blank\">docs</a>)<br>Sweep page: <a href='https://wandb.ai/fgbb66579-iit-madras-foundation/inaturalist_cnn_from_scratchj/sweeps/tz0427hh' target=\"_blank\">https://wandb.ai/fgbb66579-iit-madras-foundation/inaturalist_cnn_from_scratchj/sweeps/tz0427hh</a>"
            ],
            "text/plain": [
              "<IPython.core.display.HTML object>"
            ]
          },
          "metadata": {},
          "output_type": "display_data"
        },
        {
          "data": {
            "text/html": [
              " View project at <a href='https://wandb.ai/fgbb66579-iit-madras-foundation/inaturalist_cnn_from_scratchj' target=\"_blank\">https://wandb.ai/fgbb66579-iit-madras-foundation/inaturalist_cnn_from_scratchj</a>"
            ],
            "text/plain": [
              "<IPython.core.display.HTML object>"
            ]
          },
          "metadata": {},
          "output_type": "display_data"
        },
        {
          "data": {
            "text/html": [
              " View sweep at <a href='https://wandb.ai/fgbb66579-iit-madras-foundation/inaturalist_cnn_from_scratchj/sweeps/tz0427hh' target=\"_blank\">https://wandb.ai/fgbb66579-iit-madras-foundation/inaturalist_cnn_from_scratchj/sweeps/tz0427hh</a>"
            ],
            "text/plain": [
              "<IPython.core.display.HTML object>"
            ]
          },
          "metadata": {},
          "output_type": "display_data"
        },
        {
          "data": {
            "text/html": [
              " View run at <a href='https://wandb.ai/fgbb66579-iit-madras-foundation/inaturalist_cnn_from_scratchj/runs/jenz31lf' target=\"_blank\">https://wandb.ai/fgbb66579-iit-madras-foundation/inaturalist_cnn_from_scratchj/runs/jenz31lf</a>"
            ],
            "text/plain": [
              "<IPython.core.display.HTML object>"
            ]
          },
          "metadata": {},
          "output_type": "display_data"
        },
        {
          "name": "stderr",
          "output_type": "stream",
          "text": [
            "<ipython-input-3-3fc379e20309>:53: FutureWarning: `torch.cuda.amp.GradScaler(args...)` is deprecated. Please use `torch.amp.GradScaler('cuda', args...)` instead.\n",
            "  scaler    = GradScaler()\n",
            "<ipython-input-3-3fc379e20309>:65: FutureWarning: `torch.cuda.amp.autocast(args...)` is deprecated. Please use `torch.amp.autocast('cuda', args...)` instead.\n",
            "  with autocast():\n",
            "<ipython-input-3-3fc379e20309>:81: FutureWarning: `torch.cuda.amp.autocast(args...)` is deprecated. Please use `torch.amp.autocast('cuda', args...)` instead.\n",
            "  with autocast():\n"
          ]
        },
        {
          "data": {
            "text/html": [],
            "text/plain": [
              "<IPython.core.display.HTML object>"
            ]
          },
          "metadata": {},
          "output_type": "display_data"
        },
        {
          "data": {
            "text/html": [
              "<br>    <style><br>        .wandb-row {<br>            display: flex;<br>            flex-direction: row;<br>            flex-wrap: wrap;<br>            justify-content: flex-start;<br>            width: 100%;<br>        }<br>        .wandb-col {<br>            display: flex;<br>            flex-direction: column;<br>            flex-basis: 100%;<br>            flex: 1;<br>            padding: 10px;<br>        }<br>    </style><br><div class=\"wandb-row\"><div class=\"wandb-col\"><h3>Run history:</h3><br/><table class=\"wandb\"><tr><td>epoch</td><td>▁▁▂▂▂▃▃▄▄▄▅▅▅▆▆▇▇▇██</td></tr><tr><td>hp/batch_size</td><td>▁▁▁▁▁▁▁▁▁▁▁▁▁▁▁▁▁▁▁▁</td></tr><tr><td>hp/dense_neurons</td><td>▁▁▁▁▁▁▁▁▁▁▁▁▁▁▁▁▁▁▁▁</td></tr><tr><td>hp/dropout</td><td>▁▁▁▁▁▁▁▁▁▁▁▁▁▁▁▁▁▁▁▁</td></tr><tr><td>hp/filter_size</td><td>▁▁▁▁▁▁▁▁▁▁▁▁▁▁▁▁▁▁▁▁</td></tr><tr><td>hp/lr</td><td>▁▁▁▁▁▁▁▁▁▁▁▁▁▁▁▁▁▁▁▁</td></tr><tr><td>hp/num_filters</td><td>▁▁▁▁▁▁▁▁▁▁▁▁▁▁▁▁▁▁▁▁</td></tr><tr><td>lr</td><td>█████████████████▁▁▁</td></tr><tr><td>train_loss</td><td>██▇▇▇▆▆▆▅▅▄▄▃▃▃▂▂▁▁▁</td></tr><tr><td>val_accuracy</td><td>▁▁▃▄▆▆▆▆▇▇▇▇█▆▆▆▇███</td></tr><tr><td>val_loss</td><td>▂▂▂▁▁▁▁▁▁▂▂▂▃▄▄▆▆▇▇█</td></tr></table><br/></div><div class=\"wandb-col\"><h3>Run summary:</h3><br/><table class=\"wandb\"><tr><td>epoch</td><td>19</td></tr><tr><td>hp/activation</td><td>GELU</td></tr><tr><td>hp/batch_norm</td><td>True</td></tr><tr><td>hp/batch_size</td><td>32</td></tr><tr><td>hp/data_augmentation</td><td>False</td></tr><tr><td>hp/dense_neurons</td><td>256</td></tr><tr><td>hp/dropout</td><td>0.2</td></tr><tr><td>hp/filter_organization</td><td>same</td></tr><tr><td>hp/filter_size</td><td>5</td></tr><tr><td>hp/lr</td><td>0.00715</td></tr><tr><td>hp/num_filters</td><td>32</td></tr><tr><td>hp/use_residual</td><td>False</td></tr><tr><td>lr</td><td>0.00358</td></tr><tr><td>train_loss</td><td>0.11246</td></tr><tr><td>val_accuracy</td><td>38.05</td></tr><tr><td>val_loss</td><td>2.90407</td></tr></table><br/></div></div>"
            ],
            "text/plain": [
              "<IPython.core.display.HTML object>"
            ]
          },
          "metadata": {},
          "output_type": "display_data"
        },
        {
          "data": {
            "text/html": [
              " View run <strong style=\"color:#cdcd00\">glowing-sweep-14</strong> at: <a href='https://wandb.ai/fgbb66579-iit-madras-foundation/inaturalist_cnn_from_scratchj/runs/jenz31lf' target=\"_blank\">https://wandb.ai/fgbb66579-iit-madras-foundation/inaturalist_cnn_from_scratchj/runs/jenz31lf</a><br> View project at: <a href='https://wandb.ai/fgbb66579-iit-madras-foundation/inaturalist_cnn_from_scratchj' target=\"_blank\">https://wandb.ai/fgbb66579-iit-madras-foundation/inaturalist_cnn_from_scratchj</a><br>Synced 5 W&B file(s), 0 media file(s), 0 artifact file(s) and 0 other file(s)"
            ],
            "text/plain": [
              "<IPython.core.display.HTML object>"
            ]
          },
          "metadata": {},
          "output_type": "display_data"
        },
        {
          "data": {
            "text/html": [
              "Find logs at: <code>./wandb/run-20250418_080124-jenz31lf/logs</code>"
            ],
            "text/plain": [
              "<IPython.core.display.HTML object>"
            ]
          },
          "metadata": {},
          "output_type": "display_data"
        },
        {
          "name": "stderr",
          "output_type": "stream",
          "text": [
            "\u001b[34m\u001b[1mwandb\u001b[0m: Agent Starting Run: fi1a09l7 with config:\n",
            "\u001b[34m\u001b[1mwandb\u001b[0m: \tactivation: Mish\n",
            "\u001b[34m\u001b[1mwandb\u001b[0m: \tbatch_norm: False\n",
            "\u001b[34m\u001b[1mwandb\u001b[0m: \tbatch_size: 32\n",
            "\u001b[34m\u001b[1mwandb\u001b[0m: \tdata_augmentation: True\n",
            "\u001b[34m\u001b[1mwandb\u001b[0m: \tdata_dir: /kaggle/input/inaturalist/inaturalist_12K\n",
            "\u001b[34m\u001b[1mwandb\u001b[0m: \tdense_neurons: 256\n",
            "\u001b[34m\u001b[1mwandb\u001b[0m: \tdevice: cuda\n",
            "\u001b[34m\u001b[1mwandb\u001b[0m: \tdropout: 0.2\n",
            "\u001b[34m\u001b[1mwandb\u001b[0m: \tearly_stop_patience: 5\n",
            "\u001b[34m\u001b[1mwandb\u001b[0m: \tepochs: 20\n",
            "\u001b[34m\u001b[1mwandb\u001b[0m: \tfilter_organization: same\n",
            "\u001b[34m\u001b[1mwandb\u001b[0m: \tfilter_size: 3\n",
            "\u001b[34m\u001b[1mwandb\u001b[0m: \tlr: 0.09971920587001512\n",
            "\u001b[34m\u001b[1mwandb\u001b[0m: \tnum_filters: 64\n",
            "\u001b[34m\u001b[1mwandb\u001b[0m: \tuse_residual: False\n"
          ]
        },
        {
          "data": {
            "text/html": [
              "Tracking run with wandb version 0.19.1"
            ],
            "text/plain": [
              "<IPython.core.display.HTML object>"
            ]
          },
          "metadata": {},
          "output_type": "display_data"
        },
        {
          "data": {
            "text/html": [
              "Run data is saved locally in <code>/kaggle/working/wandb/run-20250418_081728-fi1a09l7</code>"
            ],
            "text/plain": [
              "<IPython.core.display.HTML object>"
            ]
          },
          "metadata": {},
          "output_type": "display_data"
        },
        {
          "data": {
            "text/html": [
              "Syncing run <strong><a href='https://wandb.ai/fgbb66579-iit-madras-foundation/inaturalist_cnn_from_scratchj/runs/fi1a09l7' target=\"_blank\">lunar-sweep-15</a></strong> to <a href='https://wandb.ai/fgbb66579-iit-madras-foundation/inaturalist_cnn_from_scratchj' target=\"_blank\">Weights & Biases</a> (<a href='https://wandb.me/developer-guide' target=\"_blank\">docs</a>)<br>Sweep page: <a href='https://wandb.ai/fgbb66579-iit-madras-foundation/inaturalist_cnn_from_scratchj/sweeps/tz0427hh' target=\"_blank\">https://wandb.ai/fgbb66579-iit-madras-foundation/inaturalist_cnn_from_scratchj/sweeps/tz0427hh</a>"
            ],
            "text/plain": [
              "<IPython.core.display.HTML object>"
            ]
          },
          "metadata": {},
          "output_type": "display_data"
        },
        {
          "data": {
            "text/html": [
              " View project at <a href='https://wandb.ai/fgbb66579-iit-madras-foundation/inaturalist_cnn_from_scratchj' target=\"_blank\">https://wandb.ai/fgbb66579-iit-madras-foundation/inaturalist_cnn_from_scratchj</a>"
            ],
            "text/plain": [
              "<IPython.core.display.HTML object>"
            ]
          },
          "metadata": {},
          "output_type": "display_data"
        },
        {
          "data": {
            "text/html": [
              " View sweep at <a href='https://wandb.ai/fgbb66579-iit-madras-foundation/inaturalist_cnn_from_scratchj/sweeps/tz0427hh' target=\"_blank\">https://wandb.ai/fgbb66579-iit-madras-foundation/inaturalist_cnn_from_scratchj/sweeps/tz0427hh</a>"
            ],
            "text/plain": [
              "<IPython.core.display.HTML object>"
            ]
          },
          "metadata": {},
          "output_type": "display_data"
        },
        {
          "data": {
            "text/html": [
              " View run at <a href='https://wandb.ai/fgbb66579-iit-madras-foundation/inaturalist_cnn_from_scratchj/runs/fi1a09l7' target=\"_blank\">https://wandb.ai/fgbb66579-iit-madras-foundation/inaturalist_cnn_from_scratchj/runs/fi1a09l7</a>"
            ],
            "text/plain": [
              "<IPython.core.display.HTML object>"
            ]
          },
          "metadata": {},
          "output_type": "display_data"
        },
        {
          "name": "stderr",
          "output_type": "stream",
          "text": [
            "<ipython-input-3-3fc379e20309>:53: FutureWarning: `torch.cuda.amp.GradScaler(args...)` is deprecated. Please use `torch.amp.GradScaler('cuda', args...)` instead.\n",
            "  scaler    = GradScaler()\n",
            "<ipython-input-3-3fc379e20309>:65: FutureWarning: `torch.cuda.amp.autocast(args...)` is deprecated. Please use `torch.amp.autocast('cuda', args...)` instead.\n",
            "  with autocast():\n",
            "<ipython-input-3-3fc379e20309>:81: FutureWarning: `torch.cuda.amp.autocast(args...)` is deprecated. Please use `torch.amp.autocast('cuda', args...)` instead.\n",
            "  with autocast():\n"
          ]
        },
        {
          "data": {
            "text/html": [],
            "text/plain": [
              "<IPython.core.display.HTML object>"
            ]
          },
          "metadata": {},
          "output_type": "display_data"
        },
        {
          "data": {
            "text/html": [
              "<br>    <style><br>        .wandb-row {<br>            display: flex;<br>            flex-direction: row;<br>            flex-wrap: wrap;<br>            justify-content: flex-start;<br>            width: 100%;<br>        }<br>        .wandb-col {<br>            display: flex;<br>            flex-direction: column;<br>            flex-basis: 100%;<br>            flex: 1;<br>            padding: 10px;<br>        }<br>    </style><br><div class=\"wandb-row\"><div class=\"wandb-col\"><h3>Run history:</h3><br/><table class=\"wandb\"><tr><td>epoch</td><td>▁▂▄▅▇█</td></tr><tr><td>hp/batch_size</td><td>▁▁▁▁▁▁</td></tr><tr><td>hp/dense_neurons</td><td>▁▁▁▁▁▁</td></tr><tr><td>hp/dropout</td><td>▁▁▁▁▁▁</td></tr><tr><td>hp/filter_size</td><td>▁▁▁▁▁▁</td></tr><tr><td>hp/lr</td><td>▁▁▁▁▁▁</td></tr><tr><td>hp/num_filters</td><td>▁▁▁▁▁▁</td></tr><tr><td>lr</td><td>█████▁</td></tr><tr><td>val_accuracy</td><td>▁▁▁▁▁▁</td></tr></table><br/></div><div class=\"wandb-col\"><h3>Run summary:</h3><br/><table class=\"wandb\"><tr><td>epoch</td><td>5</td></tr><tr><td>hp/activation</td><td>Mish</td></tr><tr><td>hp/batch_norm</td><td>False</td></tr><tr><td>hp/batch_size</td><td>32</td></tr><tr><td>hp/data_augmentation</td><td>True</td></tr><tr><td>hp/dense_neurons</td><td>256</td></tr><tr><td>hp/dropout</td><td>0.2</td></tr><tr><td>hp/filter_organization</td><td>same</td></tr><tr><td>hp/filter_size</td><td>3</td></tr><tr><td>hp/lr</td><td>0.09972</td></tr><tr><td>hp/num_filters</td><td>64</td></tr><tr><td>hp/use_residual</td><td>False</td></tr><tr><td>lr</td><td>0.04986</td></tr><tr><td>train_loss</td><td>nan</td></tr><tr><td>val_accuracy</td><td>10</td></tr><tr><td>val_loss</td><td>nan</td></tr></table><br/></div></div>"
            ],
            "text/plain": [
              "<IPython.core.display.HTML object>"
            ]
          },
          "metadata": {},
          "output_type": "display_data"
        },
        {
          "data": {
            "text/html": [
              " View run <strong style=\"color:#cdcd00\">lunar-sweep-15</strong> at: <a href='https://wandb.ai/fgbb66579-iit-madras-foundation/inaturalist_cnn_from_scratchj/runs/fi1a09l7' target=\"_blank\">https://wandb.ai/fgbb66579-iit-madras-foundation/inaturalist_cnn_from_scratchj/runs/fi1a09l7</a><br> View project at: <a href='https://wandb.ai/fgbb66579-iit-madras-foundation/inaturalist_cnn_from_scratchj' target=\"_blank\">https://wandb.ai/fgbb66579-iit-madras-foundation/inaturalist_cnn_from_scratchj</a><br>Synced 5 W&B file(s), 0 media file(s), 0 artifact file(s) and 0 other file(s)"
            ],
            "text/plain": [
              "<IPython.core.display.HTML object>"
            ]
          },
          "metadata": {},
          "output_type": "display_data"
        },
        {
          "data": {
            "text/html": [
              "Find logs at: <code>./wandb/run-20250418_081728-fi1a09l7/logs</code>"
            ],
            "text/plain": [
              "<IPython.core.display.HTML object>"
            ]
          },
          "metadata": {},
          "output_type": "display_data"
        },
        {
          "name": "stderr",
          "output_type": "stream",
          "text": [
            "\u001b[34m\u001b[1mwandb\u001b[0m: Agent Starting Run: udiz7mck with config:\n",
            "\u001b[34m\u001b[1mwandb\u001b[0m: \tactivation: SiLU\n",
            "\u001b[34m\u001b[1mwandb\u001b[0m: \tbatch_norm: False\n",
            "\u001b[34m\u001b[1mwandb\u001b[0m: \tbatch_size: 32\n",
            "\u001b[34m\u001b[1mwandb\u001b[0m: \tdata_augmentation: False\n",
            "\u001b[34m\u001b[1mwandb\u001b[0m: \tdata_dir: /kaggle/input/inaturalist/inaturalist_12K\n",
            "\u001b[34m\u001b[1mwandb\u001b[0m: \tdense_neurons: 256\n",
            "\u001b[34m\u001b[1mwandb\u001b[0m: \tdevice: cuda\n",
            "\u001b[34m\u001b[1mwandb\u001b[0m: \tdropout: 0.3\n",
            "\u001b[34m\u001b[1mwandb\u001b[0m: \tearly_stop_patience: 5\n",
            "\u001b[34m\u001b[1mwandb\u001b[0m: \tepochs: 20\n",
            "\u001b[34m\u001b[1mwandb\u001b[0m: \tfilter_organization: same\n",
            "\u001b[34m\u001b[1mwandb\u001b[0m: \tfilter_size: 5\n",
            "\u001b[34m\u001b[1mwandb\u001b[0m: \tlr: 0.0680958740344733\n",
            "\u001b[34m\u001b[1mwandb\u001b[0m: \tnum_filters: 32\n",
            "\u001b[34m\u001b[1mwandb\u001b[0m: \tuse_residual: False\n"
          ]
        },
        {
          "data": {
            "text/html": [
              "Tracking run with wandb version 0.19.1"
            ],
            "text/plain": [
              "<IPython.core.display.HTML object>"
            ]
          },
          "metadata": {},
          "output_type": "display_data"
        },
        {
          "data": {
            "text/html": [
              "Run data is saved locally in <code>/kaggle/working/wandb/run-20250418_082320-udiz7mck</code>"
            ],
            "text/plain": [
              "<IPython.core.display.HTML object>"
            ]
          },
          "metadata": {},
          "output_type": "display_data"
        },
        {
          "data": {
            "text/html": [
              "Syncing run <strong><a href='https://wandb.ai/fgbb66579-iit-madras-foundation/inaturalist_cnn_from_scratchj/runs/udiz7mck' target=\"_blank\">stellar-sweep-16</a></strong> to <a href='https://wandb.ai/fgbb66579-iit-madras-foundation/inaturalist_cnn_from_scratchj' target=\"_blank\">Weights & Biases</a> (<a href='https://wandb.me/developer-guide' target=\"_blank\">docs</a>)<br>Sweep page: <a href='https://wandb.ai/fgbb66579-iit-madras-foundation/inaturalist_cnn_from_scratchj/sweeps/tz0427hh' target=\"_blank\">https://wandb.ai/fgbb66579-iit-madras-foundation/inaturalist_cnn_from_scratchj/sweeps/tz0427hh</a>"
            ],
            "text/plain": [
              "<IPython.core.display.HTML object>"
            ]
          },
          "metadata": {},
          "output_type": "display_data"
        },
        {
          "data": {
            "text/html": [
              " View project at <a href='https://wandb.ai/fgbb66579-iit-madras-foundation/inaturalist_cnn_from_scratchj' target=\"_blank\">https://wandb.ai/fgbb66579-iit-madras-foundation/inaturalist_cnn_from_scratchj</a>"
            ],
            "text/plain": [
              "<IPython.core.display.HTML object>"
            ]
          },
          "metadata": {},
          "output_type": "display_data"
        },
        {
          "data": {
            "text/html": [
              " View sweep at <a href='https://wandb.ai/fgbb66579-iit-madras-foundation/inaturalist_cnn_from_scratchj/sweeps/tz0427hh' target=\"_blank\">https://wandb.ai/fgbb66579-iit-madras-foundation/inaturalist_cnn_from_scratchj/sweeps/tz0427hh</a>"
            ],
            "text/plain": [
              "<IPython.core.display.HTML object>"
            ]
          },
          "metadata": {},
          "output_type": "display_data"
        },
        {
          "data": {
            "text/html": [
              " View run at <a href='https://wandb.ai/fgbb66579-iit-madras-foundation/inaturalist_cnn_from_scratchj/runs/udiz7mck' target=\"_blank\">https://wandb.ai/fgbb66579-iit-madras-foundation/inaturalist_cnn_from_scratchj/runs/udiz7mck</a>"
            ],
            "text/plain": [
              "<IPython.core.display.HTML object>"
            ]
          },
          "metadata": {},
          "output_type": "display_data"
        },
        {
          "name": "stderr",
          "output_type": "stream",
          "text": [
            "<ipython-input-3-3fc379e20309>:53: FutureWarning: `torch.cuda.amp.GradScaler(args...)` is deprecated. Please use `torch.amp.GradScaler('cuda', args...)` instead.\n",
            "  scaler    = GradScaler()\n",
            "<ipython-input-3-3fc379e20309>:65: FutureWarning: `torch.cuda.amp.autocast(args...)` is deprecated. Please use `torch.amp.autocast('cuda', args...)` instead.\n",
            "  with autocast():\n",
            "<ipython-input-3-3fc379e20309>:81: FutureWarning: `torch.cuda.amp.autocast(args...)` is deprecated. Please use `torch.amp.autocast('cuda', args...)` instead.\n",
            "  with autocast():\n"
          ]
        },
        {
          "data": {
            "text/html": [],
            "text/plain": [
              "<IPython.core.display.HTML object>"
            ]
          },
          "metadata": {},
          "output_type": "display_data"
        },
        {
          "data": {
            "text/html": [
              "<br>    <style><br>        .wandb-row {<br>            display: flex;<br>            flex-direction: row;<br>            flex-wrap: wrap;<br>            justify-content: flex-start;<br>            width: 100%;<br>        }<br>        .wandb-col {<br>            display: flex;<br>            flex-direction: column;<br>            flex-basis: 100%;<br>            flex: 1;<br>            padding: 10px;<br>        }<br>    </style><br><div class=\"wandb-row\"><div class=\"wandb-col\"><h3>Run history:</h3><br/><table class=\"wandb\"><tr><td>epoch</td><td>▁▂▄▅▇█</td></tr><tr><td>hp/batch_size</td><td>▁▁▁▁▁▁</td></tr><tr><td>hp/dense_neurons</td><td>▁▁▁▁▁▁</td></tr><tr><td>hp/dropout</td><td>▁▁▁▁▁▁</td></tr><tr><td>hp/filter_size</td><td>▁▁▁▁▁▁</td></tr><tr><td>hp/lr</td><td>▁▁▁▁▁▁</td></tr><tr><td>hp/num_filters</td><td>▁▁▁▁▁▁</td></tr><tr><td>lr</td><td>█████▁</td></tr><tr><td>train_loss</td><td>▁     </td></tr><tr><td>val_accuracy</td><td>█▁▁▁▁▁</td></tr><tr><td>val_loss</td><td>▁     </td></tr></table><br/></div><div class=\"wandb-col\"><h3>Run summary:</h3><br/><table class=\"wandb\"><tr><td>epoch</td><td>5</td></tr><tr><td>hp/activation</td><td>SiLU</td></tr><tr><td>hp/batch_norm</td><td>False</td></tr><tr><td>hp/batch_size</td><td>32</td></tr><tr><td>hp/data_augmentation</td><td>False</td></tr><tr><td>hp/dense_neurons</td><td>256</td></tr><tr><td>hp/dropout</td><td>0.3</td></tr><tr><td>hp/filter_organization</td><td>same</td></tr><tr><td>hp/filter_size</td><td>5</td></tr><tr><td>hp/lr</td><td>0.0681</td></tr><tr><td>hp/num_filters</td><td>32</td></tr><tr><td>hp/use_residual</td><td>False</td></tr><tr><td>lr</td><td>0.03405</td></tr><tr><td>train_loss</td><td>nan</td></tr><tr><td>val_accuracy</td><td>10</td></tr><tr><td>val_loss</td><td>nan</td></tr></table><br/></div></div>"
            ],
            "text/plain": [
              "<IPython.core.display.HTML object>"
            ]
          },
          "metadata": {},
          "output_type": "display_data"
        },
        {
          "data": {
            "text/html": [
              " View run <strong style=\"color:#cdcd00\">stellar-sweep-16</strong> at: <a href='https://wandb.ai/fgbb66579-iit-madras-foundation/inaturalist_cnn_from_scratchj/runs/udiz7mck' target=\"_blank\">https://wandb.ai/fgbb66579-iit-madras-foundation/inaturalist_cnn_from_scratchj/runs/udiz7mck</a><br> View project at: <a href='https://wandb.ai/fgbb66579-iit-madras-foundation/inaturalist_cnn_from_scratchj' target=\"_blank\">https://wandb.ai/fgbb66579-iit-madras-foundation/inaturalist_cnn_from_scratchj</a><br>Synced 5 W&B file(s), 0 media file(s), 0 artifact file(s) and 0 other file(s)"
            ],
            "text/plain": [
              "<IPython.core.display.HTML object>"
            ]
          },
          "metadata": {},
          "output_type": "display_data"
        },
        {
          "data": {
            "text/html": [
              "Find logs at: <code>./wandb/run-20250418_082320-udiz7mck/logs</code>"
            ],
            "text/plain": [
              "<IPython.core.display.HTML object>"
            ]
          },
          "metadata": {},
          "output_type": "display_data"
        },
        {
          "name": "stderr",
          "output_type": "stream",
          "text": [
            "\u001b[34m\u001b[1mwandb\u001b[0m: Agent Starting Run: er3bp6a5 with config:\n",
            "\u001b[34m\u001b[1mwandb\u001b[0m: \tactivation: GELU\n",
            "\u001b[34m\u001b[1mwandb\u001b[0m: \tbatch_norm: False\n",
            "\u001b[34m\u001b[1mwandb\u001b[0m: \tbatch_size: 64\n",
            "\u001b[34m\u001b[1mwandb\u001b[0m: \tdata_augmentation: False\n",
            "\u001b[34m\u001b[1mwandb\u001b[0m: \tdata_dir: /kaggle/input/inaturalist/inaturalist_12K\n",
            "\u001b[34m\u001b[1mwandb\u001b[0m: \tdense_neurons: 256\n",
            "\u001b[34m\u001b[1mwandb\u001b[0m: \tdevice: cuda\n",
            "\u001b[34m\u001b[1mwandb\u001b[0m: \tdropout: 0.3\n",
            "\u001b[34m\u001b[1mwandb\u001b[0m: \tearly_stop_patience: 5\n",
            "\u001b[34m\u001b[1mwandb\u001b[0m: \tepochs: 20\n",
            "\u001b[34m\u001b[1mwandb\u001b[0m: \tfilter_organization: same\n",
            "\u001b[34m\u001b[1mwandb\u001b[0m: \tfilter_size: 3\n",
            "\u001b[34m\u001b[1mwandb\u001b[0m: \tlr: 0.07315101748496584\n",
            "\u001b[34m\u001b[1mwandb\u001b[0m: \tnum_filters: 64\n",
            "\u001b[34m\u001b[1mwandb\u001b[0m: \tuse_residual: False\n"
          ]
        },
        {
          "data": {
            "text/html": [
              "Tracking run with wandb version 0.19.1"
            ],
            "text/plain": [
              "<IPython.core.display.HTML object>"
            ]
          },
          "metadata": {},
          "output_type": "display_data"
        },
        {
          "data": {
            "text/html": [
              "Run data is saved locally in <code>/kaggle/working/wandb/run-20250418_082823-er3bp6a5</code>"
            ],
            "text/plain": [
              "<IPython.core.display.HTML object>"
            ]
          },
          "metadata": {},
          "output_type": "display_data"
        },
        {
          "data": {
            "text/html": [
              "Syncing run <strong><a href='https://wandb.ai/fgbb66579-iit-madras-foundation/inaturalist_cnn_from_scratchj/runs/er3bp6a5' target=\"_blank\">fresh-sweep-17</a></strong> to <a href='https://wandb.ai/fgbb66579-iit-madras-foundation/inaturalist_cnn_from_scratchj' target=\"_blank\">Weights & Biases</a> (<a href='https://wandb.me/developer-guide' target=\"_blank\">docs</a>)<br>Sweep page: <a href='https://wandb.ai/fgbb66579-iit-madras-foundation/inaturalist_cnn_from_scratchj/sweeps/tz0427hh' target=\"_blank\">https://wandb.ai/fgbb66579-iit-madras-foundation/inaturalist_cnn_from_scratchj/sweeps/tz0427hh</a>"
            ],
            "text/plain": [
              "<IPython.core.display.HTML object>"
            ]
          },
          "metadata": {},
          "output_type": "display_data"
        },
        {
          "data": {
            "text/html": [
              " View project at <a href='https://wandb.ai/fgbb66579-iit-madras-foundation/inaturalist_cnn_from_scratchj' target=\"_blank\">https://wandb.ai/fgbb66579-iit-madras-foundation/inaturalist_cnn_from_scratchj</a>"
            ],
            "text/plain": [
              "<IPython.core.display.HTML object>"
            ]
          },
          "metadata": {},
          "output_type": "display_data"
        },
        {
          "data": {
            "text/html": [
              " View sweep at <a href='https://wandb.ai/fgbb66579-iit-madras-foundation/inaturalist_cnn_from_scratchj/sweeps/tz0427hh' target=\"_blank\">https://wandb.ai/fgbb66579-iit-madras-foundation/inaturalist_cnn_from_scratchj/sweeps/tz0427hh</a>"
            ],
            "text/plain": [
              "<IPython.core.display.HTML object>"
            ]
          },
          "metadata": {},
          "output_type": "display_data"
        },
        {
          "data": {
            "text/html": [
              " View run at <a href='https://wandb.ai/fgbb66579-iit-madras-foundation/inaturalist_cnn_from_scratchj/runs/er3bp6a5' target=\"_blank\">https://wandb.ai/fgbb66579-iit-madras-foundation/inaturalist_cnn_from_scratchj/runs/er3bp6a5</a>"
            ],
            "text/plain": [
              "<IPython.core.display.HTML object>"
            ]
          },
          "metadata": {},
          "output_type": "display_data"
        },
        {
          "name": "stderr",
          "output_type": "stream",
          "text": [
            "<ipython-input-3-3fc379e20309>:53: FutureWarning: `torch.cuda.amp.GradScaler(args...)` is deprecated. Please use `torch.amp.GradScaler('cuda', args...)` instead.\n",
            "  scaler    = GradScaler()\n",
            "<ipython-input-3-3fc379e20309>:65: FutureWarning: `torch.cuda.amp.autocast(args...)` is deprecated. Please use `torch.amp.autocast('cuda', args...)` instead.\n",
            "  with autocast():\n",
            "<ipython-input-3-3fc379e20309>:81: FutureWarning: `torch.cuda.amp.autocast(args...)` is deprecated. Please use `torch.amp.autocast('cuda', args...)` instead.\n",
            "  with autocast():\n"
          ]
        },
        {
          "data": {
            "text/html": [],
            "text/plain": [
              "<IPython.core.display.HTML object>"
            ]
          },
          "metadata": {},
          "output_type": "display_data"
        },
        {
          "data": {
            "text/html": [
              "<br>    <style><br>        .wandb-row {<br>            display: flex;<br>            flex-direction: row;<br>            flex-wrap: wrap;<br>            justify-content: flex-start;<br>            width: 100%;<br>        }<br>        .wandb-col {<br>            display: flex;<br>            flex-direction: column;<br>            flex-basis: 100%;<br>            flex: 1;<br>            padding: 10px;<br>        }<br>    </style><br><div class=\"wandb-row\"><div class=\"wandb-col\"><h3>Run history:</h3><br/><table class=\"wandb\"><tr><td>epoch</td><td>▁▁▂▂▃▃▄▄▅▅▆▆▇▇██</td></tr><tr><td>hp/batch_size</td><td>▁▁▁▁▁▁▁▁▁▁▁▁▁▁▁▁</td></tr><tr><td>hp/dense_neurons</td><td>▁▁▁▁▁▁▁▁▁▁▁▁▁▁▁▁</td></tr><tr><td>hp/dropout</td><td>▁▁▁▁▁▁▁▁▁▁▁▁▁▁▁▁</td></tr><tr><td>hp/filter_size</td><td>▁▁▁▁▁▁▁▁▁▁▁▁▁▁▁▁</td></tr><tr><td>hp/lr</td><td>▁▁▁▁▁▁▁▁▁▁▁▁▁▁▁▁</td></tr><tr><td>hp/num_filters</td><td>▁▁▁▁▁▁▁▁▁▁▁▁▁▁▁▁</td></tr><tr><td>lr</td><td>█████████▃▃▃▃▃▃▁</td></tr><tr><td>train_loss</td><td>██▇▇▇▇▇▇▇▇▆▅▄▄▃▁</td></tr><tr><td>val_accuracy</td><td>▁▅▅▅▇▆▆▆▄▇█▇▇▇▇█</td></tr><tr><td>val_loss</td><td>▅▃▂▃▂▂▂▂▄▂▁▂▃▃▅█</td></tr></table><br/></div><div class=\"wandb-col\"><h3>Run summary:</h3><br/><table class=\"wandb\"><tr><td>epoch</td><td>15</td></tr><tr><td>hp/activation</td><td>GELU</td></tr><tr><td>hp/batch_norm</td><td>False</td></tr><tr><td>hp/batch_size</td><td>64</td></tr><tr><td>hp/data_augmentation</td><td>False</td></tr><tr><td>hp/dense_neurons</td><td>256</td></tr><tr><td>hp/dropout</td><td>0.3</td></tr><tr><td>hp/filter_organization</td><td>same</td></tr><tr><td>hp/filter_size</td><td>3</td></tr><tr><td>hp/lr</td><td>0.07315</td></tr><tr><td>hp/num_filters</td><td>64</td></tr><tr><td>hp/use_residual</td><td>False</td></tr><tr><td>lr</td><td>0.01829</td></tr><tr><td>train_loss</td><td>0.72244</td></tr><tr><td>val_accuracy</td><td>31.15</td></tr><tr><td>val_loss</td><td>2.61516</td></tr></table><br/></div></div>"
            ],
            "text/plain": [
              "<IPython.core.display.HTML object>"
            ]
          },
          "metadata": {},
          "output_type": "display_data"
        },
        {
          "data": {
            "text/html": [
              " View run <strong style=\"color:#cdcd00\">fresh-sweep-17</strong> at: <a href='https://wandb.ai/fgbb66579-iit-madras-foundation/inaturalist_cnn_from_scratchj/runs/er3bp6a5' target=\"_blank\">https://wandb.ai/fgbb66579-iit-madras-foundation/inaturalist_cnn_from_scratchj/runs/er3bp6a5</a><br> View project at: <a href='https://wandb.ai/fgbb66579-iit-madras-foundation/inaturalist_cnn_from_scratchj' target=\"_blank\">https://wandb.ai/fgbb66579-iit-madras-foundation/inaturalist_cnn_from_scratchj</a><br>Synced 5 W&B file(s), 0 media file(s), 0 artifact file(s) and 0 other file(s)"
            ],
            "text/plain": [
              "<IPython.core.display.HTML object>"
            ]
          },
          "metadata": {},
          "output_type": "display_data"
        },
        {
          "data": {
            "text/html": [
              "Find logs at: <code>./wandb/run-20250418_082823-er3bp6a5/logs</code>"
            ],
            "text/plain": [
              "<IPython.core.display.HTML object>"
            ]
          },
          "metadata": {},
          "output_type": "display_data"
        },
        {
          "name": "stderr",
          "output_type": "stream",
          "text": [
            "\u001b[34m\u001b[1mwandb\u001b[0m: Agent Starting Run: 2ta2eqe8 with config:\n",
            "\u001b[34m\u001b[1mwandb\u001b[0m: \tactivation: GELU\n",
            "\u001b[34m\u001b[1mwandb\u001b[0m: \tbatch_norm: False\n",
            "\u001b[34m\u001b[1mwandb\u001b[0m: \tbatch_size: 32\n",
            "\u001b[34m\u001b[1mwandb\u001b[0m: \tdata_augmentation: True\n",
            "\u001b[34m\u001b[1mwandb\u001b[0m: \tdata_dir: /kaggle/input/inaturalist/inaturalist_12K\n",
            "\u001b[34m\u001b[1mwandb\u001b[0m: \tdense_neurons: 512\n",
            "\u001b[34m\u001b[1mwandb\u001b[0m: \tdevice: cuda\n",
            "\u001b[34m\u001b[1mwandb\u001b[0m: \tdropout: 0.2\n",
            "\u001b[34m\u001b[1mwandb\u001b[0m: \tearly_stop_patience: 5\n",
            "\u001b[34m\u001b[1mwandb\u001b[0m: \tepochs: 20\n",
            "\u001b[34m\u001b[1mwandb\u001b[0m: \tfilter_organization: same\n",
            "\u001b[34m\u001b[1mwandb\u001b[0m: \tfilter_size: 3\n",
            "\u001b[34m\u001b[1mwandb\u001b[0m: \tlr: 0.026991514377150905\n",
            "\u001b[34m\u001b[1mwandb\u001b[0m: \tnum_filters: 128\n",
            "\u001b[34m\u001b[1mwandb\u001b[0m: \tuse_residual: False\n"
          ]
        },
        {
          "data": {
            "text/html": [
              "Tracking run with wandb version 0.19.1"
            ],
            "text/plain": [
              "<IPython.core.display.HTML object>"
            ]
          },
          "metadata": {},
          "output_type": "display_data"
        },
        {
          "data": {
            "text/html": [
              "Run data is saved locally in <code>/kaggle/working/wandb/run-20250418_084145-2ta2eqe8</code>"
            ],
            "text/plain": [
              "<IPython.core.display.HTML object>"
            ]
          },
          "metadata": {},
          "output_type": "display_data"
        },
        {
          "data": {
            "text/html": [
              "Syncing run <strong><a href='https://wandb.ai/fgbb66579-iit-madras-foundation/inaturalist_cnn_from_scratchj/runs/2ta2eqe8' target=\"_blank\">jumping-sweep-18</a></strong> to <a href='https://wandb.ai/fgbb66579-iit-madras-foundation/inaturalist_cnn_from_scratchj' target=\"_blank\">Weights & Biases</a> (<a href='https://wandb.me/developer-guide' target=\"_blank\">docs</a>)<br>Sweep page: <a href='https://wandb.ai/fgbb66579-iit-madras-foundation/inaturalist_cnn_from_scratchj/sweeps/tz0427hh' target=\"_blank\">https://wandb.ai/fgbb66579-iit-madras-foundation/inaturalist_cnn_from_scratchj/sweeps/tz0427hh</a>"
            ],
            "text/plain": [
              "<IPython.core.display.HTML object>"
            ]
          },
          "metadata": {},
          "output_type": "display_data"
        },
        {
          "data": {
            "text/html": [
              " View project at <a href='https://wandb.ai/fgbb66579-iit-madras-foundation/inaturalist_cnn_from_scratchj' target=\"_blank\">https://wandb.ai/fgbb66579-iit-madras-foundation/inaturalist_cnn_from_scratchj</a>"
            ],
            "text/plain": [
              "<IPython.core.display.HTML object>"
            ]
          },
          "metadata": {},
          "output_type": "display_data"
        },
        {
          "data": {
            "text/html": [
              " View sweep at <a href='https://wandb.ai/fgbb66579-iit-madras-foundation/inaturalist_cnn_from_scratchj/sweeps/tz0427hh' target=\"_blank\">https://wandb.ai/fgbb66579-iit-madras-foundation/inaturalist_cnn_from_scratchj/sweeps/tz0427hh</a>"
            ],
            "text/plain": [
              "<IPython.core.display.HTML object>"
            ]
          },
          "metadata": {},
          "output_type": "display_data"
        },
        {
          "data": {
            "text/html": [
              " View run at <a href='https://wandb.ai/fgbb66579-iit-madras-foundation/inaturalist_cnn_from_scratchj/runs/2ta2eqe8' target=\"_blank\">https://wandb.ai/fgbb66579-iit-madras-foundation/inaturalist_cnn_from_scratchj/runs/2ta2eqe8</a>"
            ],
            "text/plain": [
              "<IPython.core.display.HTML object>"
            ]
          },
          "metadata": {},
          "output_type": "display_data"
        },
        {
          "name": "stderr",
          "output_type": "stream",
          "text": [
            "<ipython-input-3-3fc379e20309>:53: FutureWarning: `torch.cuda.amp.GradScaler(args...)` is deprecated. Please use `torch.amp.GradScaler('cuda', args...)` instead.\n",
            "  scaler    = GradScaler()\n",
            "<ipython-input-3-3fc379e20309>:65: FutureWarning: `torch.cuda.amp.autocast(args...)` is deprecated. Please use `torch.amp.autocast('cuda', args...)` instead.\n",
            "  with autocast():\n",
            "<ipython-input-3-3fc379e20309>:81: FutureWarning: `torch.cuda.amp.autocast(args...)` is deprecated. Please use `torch.amp.autocast('cuda', args...)` instead.\n",
            "  with autocast():\n"
          ]
        },
        {
          "data": {
            "text/html": [],
            "text/plain": [
              "<IPython.core.display.HTML object>"
            ]
          },
          "metadata": {},
          "output_type": "display_data"
        },
        {
          "data": {
            "text/html": [
              "<br>    <style><br>        .wandb-row {<br>            display: flex;<br>            flex-direction: row;<br>            flex-wrap: wrap;<br>            justify-content: flex-start;<br>            width: 100%;<br>        }<br>        .wandb-col {<br>            display: flex;<br>            flex-direction: column;<br>            flex-basis: 100%;<br>            flex: 1;<br>            padding: 10px;<br>        }<br>    </style><br><div class=\"wandb-row\"><div class=\"wandb-col\"><h3>Run history:</h3><br/><table class=\"wandb\"><tr><td>epoch</td><td>▁▁▂▂▂▃▃▄▄▄▅▅▅▆▆▇▇▇██</td></tr><tr><td>hp/batch_size</td><td>▁▁▁▁▁▁▁▁▁▁▁▁▁▁▁▁▁▁▁▁</td></tr><tr><td>hp/dense_neurons</td><td>▁▁▁▁▁▁▁▁▁▁▁▁▁▁▁▁▁▁▁▁</td></tr><tr><td>hp/dropout</td><td>▁▁▁▁▁▁▁▁▁▁▁▁▁▁▁▁▁▁▁▁</td></tr><tr><td>hp/filter_size</td><td>▁▁▁▁▁▁▁▁▁▁▁▁▁▁▁▁▁▁▁▁</td></tr><tr><td>hp/lr</td><td>▁▁▁▁▁▁▁▁▁▁▁▁▁▁▁▁▁▁▁▁</td></tr><tr><td>hp/num_filters</td><td>▁▁▁▁▁▁▁▁▁▁▁▁▁▁▁▁▁▁▁▁</td></tr><tr><td>lr</td><td>████████████▁▁▁▁▁▁▁▁</td></tr><tr><td>train_loss</td><td>█▇▆▆▆▅▅▅▅▅▄▄▃▃▂▂▂▁▁▁</td></tr><tr><td>val_accuracy</td><td>▁▃▃▅▅▅▅▆▆▆▆▆▇▇█▇▇███</td></tr><tr><td>val_loss</td><td>█▆▆▄▄▄▃▃▃▃▃▃▂▂▁▂▂▂▂▂</td></tr></table><br/></div><div class=\"wandb-col\"><h3>Run summary:</h3><br/><table class=\"wandb\"><tr><td>epoch</td><td>19</td></tr><tr><td>hp/activation</td><td>GELU</td></tr><tr><td>hp/batch_norm</td><td>False</td></tr><tr><td>hp/batch_size</td><td>32</td></tr><tr><td>hp/data_augmentation</td><td>True</td></tr><tr><td>hp/dense_neurons</td><td>512</td></tr><tr><td>hp/dropout</td><td>0.2</td></tr><tr><td>hp/filter_organization</td><td>same</td></tr><tr><td>hp/filter_size</td><td>3</td></tr><tr><td>hp/lr</td><td>0.02699</td></tr><tr><td>hp/num_filters</td><td>128</td></tr><tr><td>hp/use_residual</td><td>False</td></tr><tr><td>lr</td><td>0.0135</td></tr><tr><td>train_loss</td><td>1.37578</td></tr><tr><td>val_accuracy</td><td>43.05</td></tr><tr><td>val_loss</td><td>1.72072</td></tr></table><br/></div></div>"
            ],
            "text/plain": [
              "<IPython.core.display.HTML object>"
            ]
          },
          "metadata": {},
          "output_type": "display_data"
        },
        {
          "data": {
            "text/html": [
              " View run <strong style=\"color:#cdcd00\">jumping-sweep-18</strong> at: <a href='https://wandb.ai/fgbb66579-iit-madras-foundation/inaturalist_cnn_from_scratchj/runs/2ta2eqe8' target=\"_blank\">https://wandb.ai/fgbb66579-iit-madras-foundation/inaturalist_cnn_from_scratchj/runs/2ta2eqe8</a><br> View project at: <a href='https://wandb.ai/fgbb66579-iit-madras-foundation/inaturalist_cnn_from_scratchj' target=\"_blank\">https://wandb.ai/fgbb66579-iit-madras-foundation/inaturalist_cnn_from_scratchj</a><br>Synced 5 W&B file(s), 0 media file(s), 0 artifact file(s) and 0 other file(s)"
            ],
            "text/plain": [
              "<IPython.core.display.HTML object>"
            ]
          },
          "metadata": {},
          "output_type": "display_data"
        },
        {
          "data": {
            "text/html": [
              "Find logs at: <code>./wandb/run-20250418_084145-2ta2eqe8/logs</code>"
            ],
            "text/plain": [
              "<IPython.core.display.HTML object>"
            ]
          },
          "metadata": {},
          "output_type": "display_data"
        },
        {
          "name": "stderr",
          "output_type": "stream",
          "text": [
            "\u001b[34m\u001b[1mwandb\u001b[0m: Agent Starting Run: b69l3gzr with config:\n",
            "\u001b[34m\u001b[1mwandb\u001b[0m: \tactivation: Mish\n",
            "\u001b[34m\u001b[1mwandb\u001b[0m: \tbatch_norm: True\n",
            "\u001b[34m\u001b[1mwandb\u001b[0m: \tbatch_size: 64\n",
            "\u001b[34m\u001b[1mwandb\u001b[0m: \tdata_augmentation: False\n",
            "\u001b[34m\u001b[1mwandb\u001b[0m: \tdata_dir: /kaggle/input/inaturalist/inaturalist_12K\n",
            "\u001b[34m\u001b[1mwandb\u001b[0m: \tdense_neurons: 256\n",
            "\u001b[34m\u001b[1mwandb\u001b[0m: \tdevice: cuda\n",
            "\u001b[34m\u001b[1mwandb\u001b[0m: \tdropout: 0.3\n",
            "\u001b[34m\u001b[1mwandb\u001b[0m: \tearly_stop_patience: 5\n",
            "\u001b[34m\u001b[1mwandb\u001b[0m: \tepochs: 20\n",
            "\u001b[34m\u001b[1mwandb\u001b[0m: \tfilter_organization: half\n",
            "\u001b[34m\u001b[1mwandb\u001b[0m: \tfilter_size: 3\n",
            "\u001b[34m\u001b[1mwandb\u001b[0m: \tlr: 0.08198551634780565\n",
            "\u001b[34m\u001b[1mwandb\u001b[0m: \tnum_filters: 64\n",
            "\u001b[34m\u001b[1mwandb\u001b[0m: \tuse_residual: False\n"
          ]
        },
        {
          "data": {
            "text/html": [
              "Tracking run with wandb version 0.19.1"
            ],
            "text/plain": [
              "<IPython.core.display.HTML object>"
            ]
          },
          "metadata": {},
          "output_type": "display_data"
        },
        {
          "data": {
            "text/html": [
              "Run data is saved locally in <code>/kaggle/working/wandb/run-20250418_090152-b69l3gzr</code>"
            ],
            "text/plain": [
              "<IPython.core.display.HTML object>"
            ]
          },
          "metadata": {},
          "output_type": "display_data"
        },
        {
          "data": {
            "text/html": [
              "Syncing run <strong><a href='https://wandb.ai/fgbb66579-iit-madras-foundation/inaturalist_cnn_from_scratchj/runs/b69l3gzr' target=\"_blank\">still-sweep-19</a></strong> to <a href='https://wandb.ai/fgbb66579-iit-madras-foundation/inaturalist_cnn_from_scratchj' target=\"_blank\">Weights & Biases</a> (<a href='https://wandb.me/developer-guide' target=\"_blank\">docs</a>)<br>Sweep page: <a href='https://wandb.ai/fgbb66579-iit-madras-foundation/inaturalist_cnn_from_scratchj/sweeps/tz0427hh' target=\"_blank\">https://wandb.ai/fgbb66579-iit-madras-foundation/inaturalist_cnn_from_scratchj/sweeps/tz0427hh</a>"
            ],
            "text/plain": [
              "<IPython.core.display.HTML object>"
            ]
          },
          "metadata": {},
          "output_type": "display_data"
        },
        {
          "data": {
            "text/html": [
              " View project at <a href='https://wandb.ai/fgbb66579-iit-madras-foundation/inaturalist_cnn_from_scratchj' target=\"_blank\">https://wandb.ai/fgbb66579-iit-madras-foundation/inaturalist_cnn_from_scratchj</a>"
            ],
            "text/plain": [
              "<IPython.core.display.HTML object>"
            ]
          },
          "metadata": {},
          "output_type": "display_data"
        },
        {
          "data": {
            "text/html": [
              " View sweep at <a href='https://wandb.ai/fgbb66579-iit-madras-foundation/inaturalist_cnn_from_scratchj/sweeps/tz0427hh' target=\"_blank\">https://wandb.ai/fgbb66579-iit-madras-foundation/inaturalist_cnn_from_scratchj/sweeps/tz0427hh</a>"
            ],
            "text/plain": [
              "<IPython.core.display.HTML object>"
            ]
          },
          "metadata": {},
          "output_type": "display_data"
        },
        {
          "data": {
            "text/html": [
              " View run at <a href='https://wandb.ai/fgbb66579-iit-madras-foundation/inaturalist_cnn_from_scratchj/runs/b69l3gzr' target=\"_blank\">https://wandb.ai/fgbb66579-iit-madras-foundation/inaturalist_cnn_from_scratchj/runs/b69l3gzr</a>"
            ],
            "text/plain": [
              "<IPython.core.display.HTML object>"
            ]
          },
          "metadata": {},
          "output_type": "display_data"
        },
        {
          "name": "stderr",
          "output_type": "stream",
          "text": [
            "<ipython-input-3-3fc379e20309>:53: FutureWarning: `torch.cuda.amp.GradScaler(args...)` is deprecated. Please use `torch.amp.GradScaler('cuda', args...)` instead.\n",
            "  scaler    = GradScaler()\n",
            "<ipython-input-3-3fc379e20309>:65: FutureWarning: `torch.cuda.amp.autocast(args...)` is deprecated. Please use `torch.amp.autocast('cuda', args...)` instead.\n",
            "  with autocast():\n",
            "<ipython-input-3-3fc379e20309>:81: FutureWarning: `torch.cuda.amp.autocast(args...)` is deprecated. Please use `torch.amp.autocast('cuda', args...)` instead.\n",
            "  with autocast():\n"
          ]
        },
        {
          "data": {
            "text/html": [],
            "text/plain": [
              "<IPython.core.display.HTML object>"
            ]
          },
          "metadata": {},
          "output_type": "display_data"
        },
        {
          "data": {
            "text/html": [
              "<br>    <style><br>        .wandb-row {<br>            display: flex;<br>            flex-direction: row;<br>            flex-wrap: wrap;<br>            justify-content: flex-start;<br>            width: 100%;<br>        }<br>        .wandb-col {<br>            display: flex;<br>            flex-direction: column;<br>            flex-basis: 100%;<br>            flex: 1;<br>            padding: 10px;<br>        }<br>    </style><br><div class=\"wandb-row\"><div class=\"wandb-col\"><h3>Run history:</h3><br/><table class=\"wandb\"><tr><td>epoch</td><td>▁▁▂▂▂▃▃▄▄▄▅▅▅▆▆▇▇▇██</td></tr><tr><td>hp/batch_size</td><td>▁▁▁▁▁▁▁▁▁▁▁▁▁▁▁▁▁▁▁▁</td></tr><tr><td>hp/dense_neurons</td><td>▁▁▁▁▁▁▁▁▁▁▁▁▁▁▁▁▁▁▁▁</td></tr><tr><td>hp/dropout</td><td>▁▁▁▁▁▁▁▁▁▁▁▁▁▁▁▁▁▁▁▁</td></tr><tr><td>hp/filter_size</td><td>▁▁▁▁▁▁▁▁▁▁▁▁▁▁▁▁▁▁▁▁</td></tr><tr><td>hp/lr</td><td>▁▁▁▁▁▁▁▁▁▁▁▁▁▁▁▁▁▁▁▁</td></tr><tr><td>hp/num_filters</td><td>▁▁▁▁▁▁▁▁▁▁▁▁▁▁▁▁▁▁▁▁</td></tr><tr><td>lr</td><td>███████████████████▁</td></tr><tr><td>train_loss</td><td>█▇▇▆▆▆▆▆▅▅▅▅▄▄▄▃▃▃▂▁</td></tr><tr><td>val_accuracy</td><td>▁▂▃▂▄▄▅▆▆▅▇▇█▇█▇▇███</td></tr><tr><td>val_loss</td><td>█▇▆▆▄▄▄▃▂▄▃▃▂▂▁▄▃▂▁▁</td></tr></table><br/></div><div class=\"wandb-col\"><h3>Run summary:</h3><br/><table class=\"wandb\"><tr><td>epoch</td><td>19</td></tr><tr><td>hp/activation</td><td>Mish</td></tr><tr><td>hp/batch_norm</td><td>True</td></tr><tr><td>hp/batch_size</td><td>64</td></tr><tr><td>hp/data_augmentation</td><td>False</td></tr><tr><td>hp/dense_neurons</td><td>256</td></tr><tr><td>hp/dropout</td><td>0.3</td></tr><tr><td>hp/filter_organization</td><td>half</td></tr><tr><td>hp/filter_size</td><td>3</td></tr><tr><td>hp/lr</td><td>0.08199</td></tr><tr><td>hp/num_filters</td><td>64</td></tr><tr><td>hp/use_residual</td><td>False</td></tr><tr><td>lr</td><td>0.04099</td></tr><tr><td>train_loss</td><td>1.21375</td></tr><tr><td>val_accuracy</td><td>36.35</td></tr><tr><td>val_loss</td><td>1.84022</td></tr></table><br/></div></div>"
            ],
            "text/plain": [
              "<IPython.core.display.HTML object>"
            ]
          },
          "metadata": {},
          "output_type": "display_data"
        },
        {
          "data": {
            "text/html": [
              " View run <strong style=\"color:#cdcd00\">still-sweep-19</strong> at: <a href='https://wandb.ai/fgbb66579-iit-madras-foundation/inaturalist_cnn_from_scratchj/runs/b69l3gzr' target=\"_blank\">https://wandb.ai/fgbb66579-iit-madras-foundation/inaturalist_cnn_from_scratchj/runs/b69l3gzr</a><br> View project at: <a href='https://wandb.ai/fgbb66579-iit-madras-foundation/inaturalist_cnn_from_scratchj' target=\"_blank\">https://wandb.ai/fgbb66579-iit-madras-foundation/inaturalist_cnn_from_scratchj</a><br>Synced 5 W&B file(s), 0 media file(s), 0 artifact file(s) and 0 other file(s)"
            ],
            "text/plain": [
              "<IPython.core.display.HTML object>"
            ]
          },
          "metadata": {},
          "output_type": "display_data"
        },
        {
          "data": {
            "text/html": [
              "Find logs at: <code>./wandb/run-20250418_090152-b69l3gzr/logs</code>"
            ],
            "text/plain": [
              "<IPython.core.display.HTML object>"
            ]
          },
          "metadata": {},
          "output_type": "display_data"
        },
        {
          "name": "stderr",
          "output_type": "stream",
          "text": [
            "\u001b[34m\u001b[1mwandb\u001b[0m: Agent Starting Run: ffckw0on with config:\n",
            "\u001b[34m\u001b[1mwandb\u001b[0m: \tactivation: ReLU\n",
            "\u001b[34m\u001b[1mwandb\u001b[0m: \tbatch_norm: True\n",
            "\u001b[34m\u001b[1mwandb\u001b[0m: \tbatch_size: 32\n",
            "\u001b[34m\u001b[1mwandb\u001b[0m: \tdata_augmentation: True\n",
            "\u001b[34m\u001b[1mwandb\u001b[0m: \tdata_dir: /kaggle/input/inaturalist/inaturalist_12K\n",
            "\u001b[34m\u001b[1mwandb\u001b[0m: \tdense_neurons: 512\n",
            "\u001b[34m\u001b[1mwandb\u001b[0m: \tdevice: cuda\n",
            "\u001b[34m\u001b[1mwandb\u001b[0m: \tdropout: 0\n",
            "\u001b[34m\u001b[1mwandb\u001b[0m: \tearly_stop_patience: 5\n",
            "\u001b[34m\u001b[1mwandb\u001b[0m: \tepochs: 20\n",
            "\u001b[34m\u001b[1mwandb\u001b[0m: \tfilter_organization: half\n",
            "\u001b[34m\u001b[1mwandb\u001b[0m: \tfilter_size: 5\n",
            "\u001b[34m\u001b[1mwandb\u001b[0m: \tlr: 0.0230426988576886\n",
            "\u001b[34m\u001b[1mwandb\u001b[0m: \tnum_filters: 32\n",
            "\u001b[34m\u001b[1mwandb\u001b[0m: \tuse_residual: False\n"
          ]
        },
        {
          "data": {
            "text/html": [
              "Tracking run with wandb version 0.19.1"
            ],
            "text/plain": [
              "<IPython.core.display.HTML object>"
            ]
          },
          "metadata": {},
          "output_type": "display_data"
        },
        {
          "data": {
            "text/html": [
              "Run data is saved locally in <code>/kaggle/working/wandb/run-20250418_091800-ffckw0on</code>"
            ],
            "text/plain": [
              "<IPython.core.display.HTML object>"
            ]
          },
          "metadata": {},
          "output_type": "display_data"
        },
        {
          "data": {
            "text/html": [
              "Syncing run <strong><a href='https://wandb.ai/fgbb66579-iit-madras-foundation/inaturalist_cnn_from_scratchj/runs/ffckw0on' target=\"_blank\">floral-sweep-20</a></strong> to <a href='https://wandb.ai/fgbb66579-iit-madras-foundation/inaturalist_cnn_from_scratchj' target=\"_blank\">Weights & Biases</a> (<a href='https://wandb.me/developer-guide' target=\"_blank\">docs</a>)<br>Sweep page: <a href='https://wandb.ai/fgbb66579-iit-madras-foundation/inaturalist_cnn_from_scratchj/sweeps/tz0427hh' target=\"_blank\">https://wandb.ai/fgbb66579-iit-madras-foundation/inaturalist_cnn_from_scratchj/sweeps/tz0427hh</a>"
            ],
            "text/plain": [
              "<IPython.core.display.HTML object>"
            ]
          },
          "metadata": {},
          "output_type": "display_data"
        },
        {
          "data": {
            "text/html": [
              " View project at <a href='https://wandb.ai/fgbb66579-iit-madras-foundation/inaturalist_cnn_from_scratchj' target=\"_blank\">https://wandb.ai/fgbb66579-iit-madras-foundation/inaturalist_cnn_from_scratchj</a>"
            ],
            "text/plain": [
              "<IPython.core.display.HTML object>"
            ]
          },
          "metadata": {},
          "output_type": "display_data"
        },
        {
          "data": {
            "text/html": [
              " View sweep at <a href='https://wandb.ai/fgbb66579-iit-madras-foundation/inaturalist_cnn_from_scratchj/sweeps/tz0427hh' target=\"_blank\">https://wandb.ai/fgbb66579-iit-madras-foundation/inaturalist_cnn_from_scratchj/sweeps/tz0427hh</a>"
            ],
            "text/plain": [
              "<IPython.core.display.HTML object>"
            ]
          },
          "metadata": {},
          "output_type": "display_data"
        },
        {
          "data": {
            "text/html": [
              " View run at <a href='https://wandb.ai/fgbb66579-iit-madras-foundation/inaturalist_cnn_from_scratchj/runs/ffckw0on' target=\"_blank\">https://wandb.ai/fgbb66579-iit-madras-foundation/inaturalist_cnn_from_scratchj/runs/ffckw0on</a>"
            ],
            "text/plain": [
              "<IPython.core.display.HTML object>"
            ]
          },
          "metadata": {},
          "output_type": "display_data"
        },
        {
          "name": "stderr",
          "output_type": "stream",
          "text": [
            "<ipython-input-3-3fc379e20309>:53: FutureWarning: `torch.cuda.amp.GradScaler(args...)` is deprecated. Please use `torch.amp.GradScaler('cuda', args...)` instead.\n",
            "  scaler    = GradScaler()\n",
            "<ipython-input-3-3fc379e20309>:65: FutureWarning: `torch.cuda.amp.autocast(args...)` is deprecated. Please use `torch.amp.autocast('cuda', args...)` instead.\n",
            "  with autocast():\n",
            "<ipython-input-3-3fc379e20309>:81: FutureWarning: `torch.cuda.amp.autocast(args...)` is deprecated. Please use `torch.amp.autocast('cuda', args...)` instead.\n",
            "  with autocast():\n"
          ]
        },
        {
          "data": {
            "text/html": [],
            "text/plain": [
              "<IPython.core.display.HTML object>"
            ]
          },
          "metadata": {},
          "output_type": "display_data"
        },
        {
          "data": {
            "text/html": [
              "<br>    <style><br>        .wandb-row {<br>            display: flex;<br>            flex-direction: row;<br>            flex-wrap: wrap;<br>            justify-content: flex-start;<br>            width: 100%;<br>        }<br>        .wandb-col {<br>            display: flex;<br>            flex-direction: column;<br>            flex-basis: 100%;<br>            flex: 1;<br>            padding: 10px;<br>        }<br>    </style><br><div class=\"wandb-row\"><div class=\"wandb-col\"><h3>Run history:</h3><br/><table class=\"wandb\"><tr><td>epoch</td><td>▁▁▂▂▂▃▃▄▄▄▅▅▅▆▆▇▇▇██</td></tr><tr><td>hp/batch_size</td><td>▁▁▁▁▁▁▁▁▁▁▁▁▁▁▁▁▁▁▁▁</td></tr><tr><td>hp/dense_neurons</td><td>▁▁▁▁▁▁▁▁▁▁▁▁▁▁▁▁▁▁▁▁</td></tr><tr><td>hp/dropout</td><td>▁▁▁▁▁▁▁▁▁▁▁▁▁▁▁▁▁▁▁▁</td></tr><tr><td>hp/filter_size</td><td>▁▁▁▁▁▁▁▁▁▁▁▁▁▁▁▁▁▁▁▁</td></tr><tr><td>hp/lr</td><td>▁▁▁▁▁▁▁▁▁▁▁▁▁▁▁▁▁▁▁▁</td></tr><tr><td>hp/num_filters</td><td>▁▁▁▁▁▁▁▁▁▁▁▁▁▁▁▁▁▁▁▁</td></tr><tr><td>lr</td><td>▁▁▁▁▁▁▁▁▁▁▁▁▁▁▁▁▁▁▁▁</td></tr><tr><td>train_loss</td><td>█▇▇▆▆▆▅▄▄▄▃▃▃▂▂▂▂▁▁▁</td></tr><tr><td>val_accuracy</td><td>▁▂▃▃▃▄▄▄▅▄▆▆▇▆▇██▇▇█</td></tr><tr><td>val_loss</td><td>██▇▆▆▅▆▅▅▆▃▄▂▄▃▂▁▂▃▁</td></tr></table><br/></div><div class=\"wandb-col\"><h3>Run summary:</h3><br/><table class=\"wandb\"><tr><td>epoch</td><td>19</td></tr><tr><td>hp/activation</td><td>ReLU</td></tr><tr><td>hp/batch_norm</td><td>True</td></tr><tr><td>hp/batch_size</td><td>32</td></tr><tr><td>hp/data_augmentation</td><td>True</td></tr><tr><td>hp/dense_neurons</td><td>512</td></tr><tr><td>hp/dropout</td><td>0</td></tr><tr><td>hp/filter_organization</td><td>half</td></tr><tr><td>hp/filter_size</td><td>5</td></tr><tr><td>hp/lr</td><td>0.02304</td></tr><tr><td>hp/num_filters</td><td>32</td></tr><tr><td>hp/use_residual</td><td>False</td></tr><tr><td>lr</td><td>0.02304</td></tr><tr><td>train_loss</td><td>1.77019</td></tr><tr><td>val_accuracy</td><td>34.9</td></tr><tr><td>val_loss</td><td>1.85897</td></tr></table><br/></div></div>"
            ],
            "text/plain": [
              "<IPython.core.display.HTML object>"
            ]
          },
          "metadata": {},
          "output_type": "display_data"
        },
        {
          "data": {
            "text/html": [
              " View run <strong style=\"color:#cdcd00\">floral-sweep-20</strong> at: <a href='https://wandb.ai/fgbb66579-iit-madras-foundation/inaturalist_cnn_from_scratchj/runs/ffckw0on' target=\"_blank\">https://wandb.ai/fgbb66579-iit-madras-foundation/inaturalist_cnn_from_scratchj/runs/ffckw0on</a><br> View project at: <a href='https://wandb.ai/fgbb66579-iit-madras-foundation/inaturalist_cnn_from_scratchj' target=\"_blank\">https://wandb.ai/fgbb66579-iit-madras-foundation/inaturalist_cnn_from_scratchj</a><br>Synced 5 W&B file(s), 0 media file(s), 0 artifact file(s) and 0 other file(s)"
            ],
            "text/plain": [
              "<IPython.core.display.HTML object>"
            ]
          },
          "metadata": {},
          "output_type": "display_data"
        },
        {
          "data": {
            "text/html": [
              "Find logs at: <code>./wandb/run-20250418_091800-ffckw0on/logs</code>"
            ],
            "text/plain": [
              "<IPython.core.display.HTML object>"
            ]
          },
          "metadata": {},
          "output_type": "display_data"
        },
        {
          "name": "stderr",
          "output_type": "stream",
          "text": [
            "\u001b[34m\u001b[1mwandb\u001b[0m: Agent Starting Run: jpblp50w with config:\n",
            "\u001b[34m\u001b[1mwandb\u001b[0m: \tactivation: GELU\n",
            "\u001b[34m\u001b[1mwandb\u001b[0m: \tbatch_norm: True\n",
            "\u001b[34m\u001b[1mwandb\u001b[0m: \tbatch_size: 64\n",
            "\u001b[34m\u001b[1mwandb\u001b[0m: \tdata_augmentation: True\n",
            "\u001b[34m\u001b[1mwandb\u001b[0m: \tdata_dir: /kaggle/input/inaturalist/inaturalist_12K\n",
            "\u001b[34m\u001b[1mwandb\u001b[0m: \tdense_neurons: 512\n",
            "\u001b[34m\u001b[1mwandb\u001b[0m: \tdevice: cuda\n",
            "\u001b[34m\u001b[1mwandb\u001b[0m: \tdropout: 0.2\n",
            "\u001b[34m\u001b[1mwandb\u001b[0m: \tearly_stop_patience: 5\n",
            "\u001b[34m\u001b[1mwandb\u001b[0m: \tepochs: 20\n",
            "\u001b[34m\u001b[1mwandb\u001b[0m: \tfilter_organization: double\n",
            "\u001b[34m\u001b[1mwandb\u001b[0m: \tfilter_size: 3\n",
            "\u001b[34m\u001b[1mwandb\u001b[0m: \tlr: 0.04177919714387469\n",
            "\u001b[34m\u001b[1mwandb\u001b[0m: \tnum_filters: 64\n",
            "\u001b[34m\u001b[1mwandb\u001b[0m: \tuse_residual: False\n"
          ]
        },
        {
          "data": {
            "text/html": [
              "Tracking run with wandb version 0.19.1"
            ],
            "text/plain": [
              "<IPython.core.display.HTML object>"
            ]
          },
          "metadata": {},
          "output_type": "display_data"
        },
        {
          "data": {
            "text/html": [
              "Run data is saved locally in <code>/kaggle/working/wandb/run-20250418_093643-jpblp50w</code>"
            ],
            "text/plain": [
              "<IPython.core.display.HTML object>"
            ]
          },
          "metadata": {},
          "output_type": "display_data"
        },
        {
          "data": {
            "text/html": [
              "Syncing run <strong><a href='https://wandb.ai/fgbb66579-iit-madras-foundation/inaturalist_cnn_from_scratchj/runs/jpblp50w' target=\"_blank\">eager-sweep-21</a></strong> to <a href='https://wandb.ai/fgbb66579-iit-madras-foundation/inaturalist_cnn_from_scratchj' target=\"_blank\">Weights & Biases</a> (<a href='https://wandb.me/developer-guide' target=\"_blank\">docs</a>)<br>Sweep page: <a href='https://wandb.ai/fgbb66579-iit-madras-foundation/inaturalist_cnn_from_scratchj/sweeps/tz0427hh' target=\"_blank\">https://wandb.ai/fgbb66579-iit-madras-foundation/inaturalist_cnn_from_scratchj/sweeps/tz0427hh</a>"
            ],
            "text/plain": [
              "<IPython.core.display.HTML object>"
            ]
          },
          "metadata": {},
          "output_type": "display_data"
        },
        {
          "data": {
            "text/html": [
              " View project at <a href='https://wandb.ai/fgbb66579-iit-madras-foundation/inaturalist_cnn_from_scratchj' target=\"_blank\">https://wandb.ai/fgbb66579-iit-madras-foundation/inaturalist_cnn_from_scratchj</a>"
            ],
            "text/plain": [
              "<IPython.core.display.HTML object>"
            ]
          },
          "metadata": {},
          "output_type": "display_data"
        },
        {
          "data": {
            "text/html": [
              " View sweep at <a href='https://wandb.ai/fgbb66579-iit-madras-foundation/inaturalist_cnn_from_scratchj/sweeps/tz0427hh' target=\"_blank\">https://wandb.ai/fgbb66579-iit-madras-foundation/inaturalist_cnn_from_scratchj/sweeps/tz0427hh</a>"
            ],
            "text/plain": [
              "<IPython.core.display.HTML object>"
            ]
          },
          "metadata": {},
          "output_type": "display_data"
        },
        {
          "data": {
            "text/html": [
              " View run at <a href='https://wandb.ai/fgbb66579-iit-madras-foundation/inaturalist_cnn_from_scratchj/runs/jpblp50w' target=\"_blank\">https://wandb.ai/fgbb66579-iit-madras-foundation/inaturalist_cnn_from_scratchj/runs/jpblp50w</a>"
            ],
            "text/plain": [
              "<IPython.core.display.HTML object>"
            ]
          },
          "metadata": {},
          "output_type": "display_data"
        },
        {
          "name": "stderr",
          "output_type": "stream",
          "text": [
            "<ipython-input-3-3fc379e20309>:53: FutureWarning: `torch.cuda.amp.GradScaler(args...)` is deprecated. Please use `torch.amp.GradScaler('cuda', args...)` instead.\n",
            "  scaler    = GradScaler()\n",
            "<ipython-input-3-3fc379e20309>:65: FutureWarning: `torch.cuda.amp.autocast(args...)` is deprecated. Please use `torch.amp.autocast('cuda', args...)` instead.\n",
            "  with autocast():\n",
            "<ipython-input-3-3fc379e20309>:81: FutureWarning: `torch.cuda.amp.autocast(args...)` is deprecated. Please use `torch.amp.autocast('cuda', args...)` instead.\n",
            "  with autocast():\n"
          ]
        },
        {
          "data": {
            "text/html": [],
            "text/plain": [
              "<IPython.core.display.HTML object>"
            ]
          },
          "metadata": {},
          "output_type": "display_data"
        },
        {
          "data": {
            "text/html": [
              "<br>    <style><br>        .wandb-row {<br>            display: flex;<br>            flex-direction: row;<br>            flex-wrap: wrap;<br>            justify-content: flex-start;<br>            width: 100%;<br>        }<br>        .wandb-col {<br>            display: flex;<br>            flex-direction: column;<br>            flex-basis: 100%;<br>            flex: 1;<br>            padding: 10px;<br>        }<br>    </style><br><div class=\"wandb-row\"><div class=\"wandb-col\"><h3>Run history:</h3><br/><table class=\"wandb\"><tr><td>epoch</td><td>▁▁▂▂▂▃▃▄▄▄▅▅▅▆▆▇▇▇██</td></tr><tr><td>hp/batch_size</td><td>▁▁▁▁▁▁▁▁▁▁▁▁▁▁▁▁▁▁▁▁</td></tr><tr><td>hp/dense_neurons</td><td>▁▁▁▁▁▁▁▁▁▁▁▁▁▁▁▁▁▁▁▁</td></tr><tr><td>hp/dropout</td><td>▁▁▁▁▁▁▁▁▁▁▁▁▁▁▁▁▁▁▁▁</td></tr><tr><td>hp/filter_size</td><td>▁▁▁▁▁▁▁▁▁▁▁▁▁▁▁▁▁▁▁▁</td></tr><tr><td>hp/lr</td><td>▁▁▁▁▁▁▁▁▁▁▁▁▁▁▁▁▁▁▁▁</td></tr><tr><td>hp/num_filters</td><td>▁▁▁▁▁▁▁▁▁▁▁▁▁▁▁▁▁▁▁▁</td></tr><tr><td>lr</td><td>▁▁▁▁▁▁▁▁▁▁▁▁▁▁▁▁▁▁▁▁</td></tr><tr><td>train_loss</td><td>█▁▁▁▁▁▁▁▁▁▁▁▁▁▁▁▁▁▁▁</td></tr><tr><td>val_accuracy</td><td>▂▂▁▁▄▁▆▆▄▅▆▆▆▇▇▆█▇▇█</td></tr><tr><td>val_loss</td><td>▄▄▄▄▄▄▄▃▃▃▃▂▂▂▂▁▁▁█▁</td></tr></table><br/></div><div class=\"wandb-col\"><h3>Run summary:</h3><br/><table class=\"wandb\"><tr><td>epoch</td><td>19</td></tr><tr><td>hp/activation</td><td>GELU</td></tr><tr><td>hp/batch_norm</td><td>True</td></tr><tr><td>hp/batch_size</td><td>64</td></tr><tr><td>hp/data_augmentation</td><td>True</td></tr><tr><td>hp/dense_neurons</td><td>512</td></tr><tr><td>hp/dropout</td><td>0.2</td></tr><tr><td>hp/filter_organization</td><td>double</td></tr><tr><td>hp/filter_size</td><td>3</td></tr><tr><td>hp/lr</td><td>0.04178</td></tr><tr><td>hp/num_filters</td><td>64</td></tr><tr><td>hp/use_residual</td><td>False</td></tr><tr><td>lr</td><td>0.04178</td></tr><tr><td>train_loss</td><td>2.27232</td></tr><tr><td>val_accuracy</td><td>15.2</td></tr><tr><td>val_loss</td><td>2.25706</td></tr></table><br/></div></div>"
            ],
            "text/plain": [
              "<IPython.core.display.HTML object>"
            ]
          },
          "metadata": {},
          "output_type": "display_data"
        },
        {
          "data": {
            "text/html": [
              " View run <strong style=\"color:#cdcd00\">eager-sweep-21</strong> at: <a href='https://wandb.ai/fgbb66579-iit-madras-foundation/inaturalist_cnn_from_scratchj/runs/jpblp50w' target=\"_blank\">https://wandb.ai/fgbb66579-iit-madras-foundation/inaturalist_cnn_from_scratchj/runs/jpblp50w</a><br> View project at: <a href='https://wandb.ai/fgbb66579-iit-madras-foundation/inaturalist_cnn_from_scratchj' target=\"_blank\">https://wandb.ai/fgbb66579-iit-madras-foundation/inaturalist_cnn_from_scratchj</a><br>Synced 5 W&B file(s), 0 media file(s), 0 artifact file(s) and 0 other file(s)"
            ],
            "text/plain": [
              "<IPython.core.display.HTML object>"
            ]
          },
          "metadata": {},
          "output_type": "display_data"
        },
        {
          "data": {
            "text/html": [
              "Find logs at: <code>./wandb/run-20250418_093643-jpblp50w/logs</code>"
            ],
            "text/plain": [
              "<IPython.core.display.HTML object>"
            ]
          },
          "metadata": {},
          "output_type": "display_data"
        },
        {
          "name": "stderr",
          "output_type": "stream",
          "text": [
            "\u001b[34m\u001b[1mwandb\u001b[0m: Agent Starting Run: t9pbew1s with config:\n",
            "\u001b[34m\u001b[1mwandb\u001b[0m: \tactivation: GELU\n",
            "\u001b[34m\u001b[1mwandb\u001b[0m: \tbatch_norm: True\n",
            "\u001b[34m\u001b[1mwandb\u001b[0m: \tbatch_size: 64\n",
            "\u001b[34m\u001b[1mwandb\u001b[0m: \tdata_augmentation: False\n",
            "\u001b[34m\u001b[1mwandb\u001b[0m: \tdata_dir: /kaggle/input/inaturalist/inaturalist_12K\n",
            "\u001b[34m\u001b[1mwandb\u001b[0m: \tdense_neurons: 256\n",
            "\u001b[34m\u001b[1mwandb\u001b[0m: \tdevice: cuda\n",
            "\u001b[34m\u001b[1mwandb\u001b[0m: \tdropout: 0.3\n",
            "\u001b[34m\u001b[1mwandb\u001b[0m: \tearly_stop_patience: 5\n",
            "\u001b[34m\u001b[1mwandb\u001b[0m: \tepochs: 20\n",
            "\u001b[34m\u001b[1mwandb\u001b[0m: \tfilter_organization: same\n",
            "\u001b[34m\u001b[1mwandb\u001b[0m: \tfilter_size: 5\n",
            "\u001b[34m\u001b[1mwandb\u001b[0m: \tlr: 0.09146477552971416\n",
            "\u001b[34m\u001b[1mwandb\u001b[0m: \tnum_filters: 128\n",
            "\u001b[34m\u001b[1mwandb\u001b[0m: \tuse_residual: False\n"
          ]
        },
        {
          "data": {
            "text/html": [
              "Tracking run with wandb version 0.19.1"
            ],
            "text/plain": [
              "<IPython.core.display.HTML object>"
            ]
          },
          "metadata": {},
          "output_type": "display_data"
        },
        {
          "data": {
            "text/html": [
              "Run data is saved locally in <code>/kaggle/working/wandb/run-20250418_095733-t9pbew1s</code>"
            ],
            "text/plain": [
              "<IPython.core.display.HTML object>"
            ]
          },
          "metadata": {},
          "output_type": "display_data"
        },
        {
          "data": {
            "text/html": [
              "Syncing run <strong><a href='https://wandb.ai/fgbb66579-iit-madras-foundation/inaturalist_cnn_from_scratchj/runs/t9pbew1s' target=\"_blank\">fresh-sweep-22</a></strong> to <a href='https://wandb.ai/fgbb66579-iit-madras-foundation/inaturalist_cnn_from_scratchj' target=\"_blank\">Weights & Biases</a> (<a href='https://wandb.me/developer-guide' target=\"_blank\">docs</a>)<br>Sweep page: <a href='https://wandb.ai/fgbb66579-iit-madras-foundation/inaturalist_cnn_from_scratchj/sweeps/tz0427hh' target=\"_blank\">https://wandb.ai/fgbb66579-iit-madras-foundation/inaturalist_cnn_from_scratchj/sweeps/tz0427hh</a>"
            ],
            "text/plain": [
              "<IPython.core.display.HTML object>"
            ]
          },
          "metadata": {},
          "output_type": "display_data"
        },
        {
          "data": {
            "text/html": [
              " View project at <a href='https://wandb.ai/fgbb66579-iit-madras-foundation/inaturalist_cnn_from_scratchj' target=\"_blank\">https://wandb.ai/fgbb66579-iit-madras-foundation/inaturalist_cnn_from_scratchj</a>"
            ],
            "text/plain": [
              "<IPython.core.display.HTML object>"
            ]
          },
          "metadata": {},
          "output_type": "display_data"
        },
        {
          "data": {
            "text/html": [
              " View sweep at <a href='https://wandb.ai/fgbb66579-iit-madras-foundation/inaturalist_cnn_from_scratchj/sweeps/tz0427hh' target=\"_blank\">https://wandb.ai/fgbb66579-iit-madras-foundation/inaturalist_cnn_from_scratchj/sweeps/tz0427hh</a>"
            ],
            "text/plain": [
              "<IPython.core.display.HTML object>"
            ]
          },
          "metadata": {},
          "output_type": "display_data"
        },
        {
          "data": {
            "text/html": [
              " View run at <a href='https://wandb.ai/fgbb66579-iit-madras-foundation/inaturalist_cnn_from_scratchj/runs/t9pbew1s' target=\"_blank\">https://wandb.ai/fgbb66579-iit-madras-foundation/inaturalist_cnn_from_scratchj/runs/t9pbew1s</a>"
            ],
            "text/plain": [
              "<IPython.core.display.HTML object>"
            ]
          },
          "metadata": {},
          "output_type": "display_data"
        },
        {
          "name": "stderr",
          "output_type": "stream",
          "text": [
            "<ipython-input-3-3fc379e20309>:53: FutureWarning: `torch.cuda.amp.GradScaler(args...)` is deprecated. Please use `torch.amp.GradScaler('cuda', args...)` instead.\n",
            "  scaler    = GradScaler()\n",
            "<ipython-input-3-3fc379e20309>:65: FutureWarning: `torch.cuda.amp.autocast(args...)` is deprecated. Please use `torch.amp.autocast('cuda', args...)` instead.\n",
            "  with autocast():\n",
            "<ipython-input-3-3fc379e20309>:81: FutureWarning: `torch.cuda.amp.autocast(args...)` is deprecated. Please use `torch.amp.autocast('cuda', args...)` instead.\n",
            "  with autocast():\n"
          ]
        },
        {
          "data": {
            "text/html": [],
            "text/plain": [
              "<IPython.core.display.HTML object>"
            ]
          },
          "metadata": {},
          "output_type": "display_data"
        },
        {
          "data": {
            "text/html": [
              "<br>    <style><br>        .wandb-row {<br>            display: flex;<br>            flex-direction: row;<br>            flex-wrap: wrap;<br>            justify-content: flex-start;<br>            width: 100%;<br>        }<br>        .wandb-col {<br>            display: flex;<br>            flex-direction: column;<br>            flex-basis: 100%;<br>            flex: 1;<br>            padding: 10px;<br>        }<br>    </style><br><div class=\"wandb-row\"><div class=\"wandb-col\"><h3>Run history:</h3><br/><table class=\"wandb\"><tr><td>epoch</td><td>▁▁▂▂▂▃▃▄▄▄▅▅▅▆▆▇▇▇██</td></tr><tr><td>hp/batch_size</td><td>▁▁▁▁▁▁▁▁▁▁▁▁▁▁▁▁▁▁▁▁</td></tr><tr><td>hp/dense_neurons</td><td>▁▁▁▁▁▁▁▁▁▁▁▁▁▁▁▁▁▁▁▁</td></tr><tr><td>hp/dropout</td><td>▁▁▁▁▁▁▁▁▁▁▁▁▁▁▁▁▁▁▁▁</td></tr><tr><td>hp/filter_size</td><td>▁▁▁▁▁▁▁▁▁▁▁▁▁▁▁▁▁▁▁▁</td></tr><tr><td>hp/lr</td><td>▁▁▁▁▁▁▁▁▁▁▁▁▁▁▁▁▁▁▁▁</td></tr><tr><td>hp/num_filters</td><td>▁▁▁▁▁▁▁▁▁▁▁▁▁▁▁▁▁▁▁▁</td></tr><tr><td>lr</td><td>████████████████▁▁▁▁</td></tr><tr><td>train_loss</td><td>█▇▇▇▇▇▆▆▆▆▅▅▅▅▄▄▃▂▂▁</td></tr><tr><td>val_accuracy</td><td>▁▄▄▄▄▅▅▆▆▆▇█▇▇▇▇████</td></tr><tr><td>val_loss</td><td>█▇▆▆▆▆▅▄▄▃▃▂▃▃▃▂▁▁▂▂</td></tr></table><br/></div><div class=\"wandb-col\"><h3>Run summary:</h3><br/><table class=\"wandb\"><tr><td>epoch</td><td>19</td></tr><tr><td>hp/activation</td><td>GELU</td></tr><tr><td>hp/batch_norm</td><td>True</td></tr><tr><td>hp/batch_size</td><td>64</td></tr><tr><td>hp/data_augmentation</td><td>False</td></tr><tr><td>hp/dense_neurons</td><td>256</td></tr><tr><td>hp/dropout</td><td>0.3</td></tr><tr><td>hp/filter_organization</td><td>same</td></tr><tr><td>hp/filter_size</td><td>5</td></tr><tr><td>hp/lr</td><td>0.09146</td></tr><tr><td>hp/num_filters</td><td>128</td></tr><tr><td>hp/use_residual</td><td>False</td></tr><tr><td>lr</td><td>0.04573</td></tr><tr><td>train_loss</td><td>1.27007</td></tr><tr><td>val_accuracy</td><td>34.8</td></tr><tr><td>val_loss</td><td>1.89721</td></tr></table><br/></div></div>"
            ],
            "text/plain": [
              "<IPython.core.display.HTML object>"
            ]
          },
          "metadata": {},
          "output_type": "display_data"
        },
        {
          "data": {
            "text/html": [
              " View run <strong style=\"color:#cdcd00\">fresh-sweep-22</strong> at: <a href='https://wandb.ai/fgbb66579-iit-madras-foundation/inaturalist_cnn_from_scratchj/runs/t9pbew1s' target=\"_blank\">https://wandb.ai/fgbb66579-iit-madras-foundation/inaturalist_cnn_from_scratchj/runs/t9pbew1s</a><br> View project at: <a href='https://wandb.ai/fgbb66579-iit-madras-foundation/inaturalist_cnn_from_scratchj' target=\"_blank\">https://wandb.ai/fgbb66579-iit-madras-foundation/inaturalist_cnn_from_scratchj</a><br>Synced 5 W&B file(s), 0 media file(s), 0 artifact file(s) and 0 other file(s)"
            ],
            "text/plain": [
              "<IPython.core.display.HTML object>"
            ]
          },
          "metadata": {},
          "output_type": "display_data"
        },
        {
          "data": {
            "text/html": [
              "Find logs at: <code>./wandb/run-20250418_095733-t9pbew1s/logs</code>"
            ],
            "text/plain": [
              "<IPython.core.display.HTML object>"
            ]
          },
          "metadata": {},
          "output_type": "display_data"
        },
        {
          "name": "stderr",
          "output_type": "stream",
          "text": [
            "\u001b[34m\u001b[1mwandb\u001b[0m: Agent Starting Run: kojs61sg with config:\n",
            "\u001b[34m\u001b[1mwandb\u001b[0m: \tactivation: Mish\n",
            "\u001b[34m\u001b[1mwandb\u001b[0m: \tbatch_norm: True\n",
            "\u001b[34m\u001b[1mwandb\u001b[0m: \tbatch_size: 64\n",
            "\u001b[34m\u001b[1mwandb\u001b[0m: \tdata_augmentation: True\n",
            "\u001b[34m\u001b[1mwandb\u001b[0m: \tdata_dir: /kaggle/input/inaturalist/inaturalist_12K\n",
            "\u001b[34m\u001b[1mwandb\u001b[0m: \tdense_neurons: 512\n",
            "\u001b[34m\u001b[1mwandb\u001b[0m: \tdevice: cuda\n",
            "\u001b[34m\u001b[1mwandb\u001b[0m: \tdropout: 0.3\n",
            "\u001b[34m\u001b[1mwandb\u001b[0m: \tearly_stop_patience: 5\n",
            "\u001b[34m\u001b[1mwandb\u001b[0m: \tepochs: 20\n",
            "\u001b[34m\u001b[1mwandb\u001b[0m: \tfilter_organization: same\n",
            "\u001b[34m\u001b[1mwandb\u001b[0m: \tfilter_size: 5\n",
            "\u001b[34m\u001b[1mwandb\u001b[0m: \tlr: 0.044899444720785726\n",
            "\u001b[34m\u001b[1mwandb\u001b[0m: \tnum_filters: 128\n",
            "\u001b[34m\u001b[1mwandb\u001b[0m: \tuse_residual: False\n"
          ]
        },
        {
          "data": {
            "text/html": [
              "Tracking run with wandb version 0.19.1"
            ],
            "text/plain": [
              "<IPython.core.display.HTML object>"
            ]
          },
          "metadata": {},
          "output_type": "display_data"
        },
        {
          "data": {
            "text/html": [
              "Run data is saved locally in <code>/kaggle/working/wandb/run-20250418_101712-kojs61sg</code>"
            ],
            "text/plain": [
              "<IPython.core.display.HTML object>"
            ]
          },
          "metadata": {},
          "output_type": "display_data"
        },
        {
          "data": {
            "text/html": [
              "Syncing run <strong><a href='https://wandb.ai/fgbb66579-iit-madras-foundation/inaturalist_cnn_from_scratchj/runs/kojs61sg' target=\"_blank\">skilled-sweep-23</a></strong> to <a href='https://wandb.ai/fgbb66579-iit-madras-foundation/inaturalist_cnn_from_scratchj' target=\"_blank\">Weights & Biases</a> (<a href='https://wandb.me/developer-guide' target=\"_blank\">docs</a>)<br>Sweep page: <a href='https://wandb.ai/fgbb66579-iit-madras-foundation/inaturalist_cnn_from_scratchj/sweeps/tz0427hh' target=\"_blank\">https://wandb.ai/fgbb66579-iit-madras-foundation/inaturalist_cnn_from_scratchj/sweeps/tz0427hh</a>"
            ],
            "text/plain": [
              "<IPython.core.display.HTML object>"
            ]
          },
          "metadata": {},
          "output_type": "display_data"
        },
        {
          "data": {
            "text/html": [
              " View project at <a href='https://wandb.ai/fgbb66579-iit-madras-foundation/inaturalist_cnn_from_scratchj' target=\"_blank\">https://wandb.ai/fgbb66579-iit-madras-foundation/inaturalist_cnn_from_scratchj</a>"
            ],
            "text/plain": [
              "<IPython.core.display.HTML object>"
            ]
          },
          "metadata": {},
          "output_type": "display_data"
        },
        {
          "data": {
            "text/html": [
              " View sweep at <a href='https://wandb.ai/fgbb66579-iit-madras-foundation/inaturalist_cnn_from_scratchj/sweeps/tz0427hh' target=\"_blank\">https://wandb.ai/fgbb66579-iit-madras-foundation/inaturalist_cnn_from_scratchj/sweeps/tz0427hh</a>"
            ],
            "text/plain": [
              "<IPython.core.display.HTML object>"
            ]
          },
          "metadata": {},
          "output_type": "display_data"
        },
        {
          "data": {
            "text/html": [
              " View run at <a href='https://wandb.ai/fgbb66579-iit-madras-foundation/inaturalist_cnn_from_scratchj/runs/kojs61sg' target=\"_blank\">https://wandb.ai/fgbb66579-iit-madras-foundation/inaturalist_cnn_from_scratchj/runs/kojs61sg</a>"
            ],
            "text/plain": [
              "<IPython.core.display.HTML object>"
            ]
          },
          "metadata": {},
          "output_type": "display_data"
        },
        {
          "name": "stderr",
          "output_type": "stream",
          "text": [
            "<ipython-input-3-3fc379e20309>:53: FutureWarning: `torch.cuda.amp.GradScaler(args...)` is deprecated. Please use `torch.amp.GradScaler('cuda', args...)` instead.\n",
            "  scaler    = GradScaler()\n",
            "<ipython-input-3-3fc379e20309>:65: FutureWarning: `torch.cuda.amp.autocast(args...)` is deprecated. Please use `torch.amp.autocast('cuda', args...)` instead.\n",
            "  with autocast():\n",
            "<ipython-input-3-3fc379e20309>:81: FutureWarning: `torch.cuda.amp.autocast(args...)` is deprecated. Please use `torch.amp.autocast('cuda', args...)` instead.\n",
            "  with autocast():\n"
          ]
        },
        {
          "data": {
            "text/html": [],
            "text/plain": [
              "<IPython.core.display.HTML object>"
            ]
          },
          "metadata": {},
          "output_type": "display_data"
        },
        {
          "data": {
            "text/html": [
              "<br>    <style><br>        .wandb-row {<br>            display: flex;<br>            flex-direction: row;<br>            flex-wrap: wrap;<br>            justify-content: flex-start;<br>            width: 100%;<br>        }<br>        .wandb-col {<br>            display: flex;<br>            flex-direction: column;<br>            flex-basis: 100%;<br>            flex: 1;<br>            padding: 10px;<br>        }<br>    </style><br><div class=\"wandb-row\"><div class=\"wandb-col\"><h3>Run history:</h3><br/><table class=\"wandb\"><tr><td>epoch</td><td>▁▁▂▂▂▃▃▄▄▄▅▅▅▆▆▇▇▇██</td></tr><tr><td>hp/batch_size</td><td>▁▁▁▁▁▁▁▁▁▁▁▁▁▁▁▁▁▁▁▁</td></tr><tr><td>hp/dense_neurons</td><td>▁▁▁▁▁▁▁▁▁▁▁▁▁▁▁▁▁▁▁▁</td></tr><tr><td>hp/dropout</td><td>▁▁▁▁▁▁▁▁▁▁▁▁▁▁▁▁▁▁▁▁</td></tr><tr><td>hp/filter_size</td><td>▁▁▁▁▁▁▁▁▁▁▁▁▁▁▁▁▁▁▁▁</td></tr><tr><td>hp/lr</td><td>▁▁▁▁▁▁▁▁▁▁▁▁▁▁▁▁▁▁▁▁</td></tr><tr><td>hp/num_filters</td><td>▁▁▁▁▁▁▁▁▁▁▁▁▁▁▁▁▁▁▁▁</td></tr><tr><td>lr</td><td>▁▁▁▁▁▁▁▁▁▁▁▁▁▁▁▁▁▁▁▁</td></tr><tr><td>train_loss</td><td>█▇▆▅▅▅▄▄▄▃▃▃▃▃▂▂▂▂▁▁</td></tr><tr><td>val_accuracy</td><td>▁▂▂▃▄▄▅▄▆▆▆▇▆▇▇▇▆███</td></tr><tr><td>val_loss</td><td>█▇▆▆▆▅▄▅▃▃▄▂▃▂▂▂▄▁▂▁</td></tr></table><br/></div><div class=\"wandb-col\"><h3>Run summary:</h3><br/><table class=\"wandb\"><tr><td>epoch</td><td>19</td></tr><tr><td>hp/activation</td><td>Mish</td></tr><tr><td>hp/batch_norm</td><td>True</td></tr><tr><td>hp/batch_size</td><td>64</td></tr><tr><td>hp/data_augmentation</td><td>True</td></tr><tr><td>hp/dense_neurons</td><td>512</td></tr><tr><td>hp/dropout</td><td>0.3</td></tr><tr><td>hp/filter_organization</td><td>same</td></tr><tr><td>hp/filter_size</td><td>5</td></tr><tr><td>hp/lr</td><td>0.0449</td></tr><tr><td>hp/num_filters</td><td>128</td></tr><tr><td>hp/use_residual</td><td>False</td></tr><tr><td>lr</td><td>0.0449</td></tr><tr><td>train_loss</td><td>1.69831</td></tr><tr><td>val_accuracy</td><td>38.1</td></tr><tr><td>val_loss</td><td>1.76798</td></tr></table><br/></div></div>"
            ],
            "text/plain": [
              "<IPython.core.display.HTML object>"
            ]
          },
          "metadata": {},
          "output_type": "display_data"
        },
        {
          "data": {
            "text/html": [
              " View run <strong style=\"color:#cdcd00\">skilled-sweep-23</strong> at: <a href='https://wandb.ai/fgbb66579-iit-madras-foundation/inaturalist_cnn_from_scratchj/runs/kojs61sg' target=\"_blank\">https://wandb.ai/fgbb66579-iit-madras-foundation/inaturalist_cnn_from_scratchj/runs/kojs61sg</a><br> View project at: <a href='https://wandb.ai/fgbb66579-iit-madras-foundation/inaturalist_cnn_from_scratchj' target=\"_blank\">https://wandb.ai/fgbb66579-iit-madras-foundation/inaturalist_cnn_from_scratchj</a><br>Synced 5 W&B file(s), 0 media file(s), 0 artifact file(s) and 0 other file(s)"
            ],
            "text/plain": [
              "<IPython.core.display.HTML object>"
            ]
          },
          "metadata": {},
          "output_type": "display_data"
        },
        {
          "data": {
            "text/html": [
              "Find logs at: <code>./wandb/run-20250418_101712-kojs61sg/logs</code>"
            ],
            "text/plain": [
              "<IPython.core.display.HTML object>"
            ]
          },
          "metadata": {},
          "output_type": "display_data"
        },
        {
          "name": "stderr",
          "output_type": "stream",
          "text": [
            "\u001b[34m\u001b[1mwandb\u001b[0m: Agent Starting Run: 1fogdur3 with config:\n",
            "\u001b[34m\u001b[1mwandb\u001b[0m: \tactivation: ReLU\n",
            "\u001b[34m\u001b[1mwandb\u001b[0m: \tbatch_norm: True\n",
            "\u001b[34m\u001b[1mwandb\u001b[0m: \tbatch_size: 32\n",
            "\u001b[34m\u001b[1mwandb\u001b[0m: \tdata_augmentation: False\n",
            "\u001b[34m\u001b[1mwandb\u001b[0m: \tdata_dir: /kaggle/input/inaturalist/inaturalist_12K\n",
            "\u001b[34m\u001b[1mwandb\u001b[0m: \tdense_neurons: 256\n",
            "\u001b[34m\u001b[1mwandb\u001b[0m: \tdevice: cuda\n",
            "\u001b[34m\u001b[1mwandb\u001b[0m: \tdropout: 0.2\n",
            "\u001b[34m\u001b[1mwandb\u001b[0m: \tearly_stop_patience: 5\n",
            "\u001b[34m\u001b[1mwandb\u001b[0m: \tepochs: 20\n",
            "\u001b[34m\u001b[1mwandb\u001b[0m: \tfilter_organization: half\n",
            "\u001b[34m\u001b[1mwandb\u001b[0m: \tfilter_size: 5\n",
            "\u001b[34m\u001b[1mwandb\u001b[0m: \tlr: 0.04378198350343739\n",
            "\u001b[34m\u001b[1mwandb\u001b[0m: \tnum_filters: 32\n",
            "\u001b[34m\u001b[1mwandb\u001b[0m: \tuse_residual: False\n"
          ]
        },
        {
          "data": {
            "text/html": [
              "Tracking run with wandb version 0.19.1"
            ],
            "text/plain": [
              "<IPython.core.display.HTML object>"
            ]
          },
          "metadata": {},
          "output_type": "display_data"
        },
        {
          "data": {
            "text/html": [
              "Run data is saved locally in <code>/kaggle/working/wandb/run-20250418_103922-1fogdur3</code>"
            ],
            "text/plain": [
              "<IPython.core.display.HTML object>"
            ]
          },
          "metadata": {},
          "output_type": "display_data"
        },
        {
          "data": {
            "text/html": [
              "Syncing run <strong><a href='https://wandb.ai/fgbb66579-iit-madras-foundation/inaturalist_cnn_from_scratchj/runs/1fogdur3' target=\"_blank\">toasty-sweep-24</a></strong> to <a href='https://wandb.ai/fgbb66579-iit-madras-foundation/inaturalist_cnn_from_scratchj' target=\"_blank\">Weights & Biases</a> (<a href='https://wandb.me/developer-guide' target=\"_blank\">docs</a>)<br>Sweep page: <a href='https://wandb.ai/fgbb66579-iit-madras-foundation/inaturalist_cnn_from_scratchj/sweeps/tz0427hh' target=\"_blank\">https://wandb.ai/fgbb66579-iit-madras-foundation/inaturalist_cnn_from_scratchj/sweeps/tz0427hh</a>"
            ],
            "text/plain": [
              "<IPython.core.display.HTML object>"
            ]
          },
          "metadata": {},
          "output_type": "display_data"
        },
        {
          "data": {
            "text/html": [
              " View project at <a href='https://wandb.ai/fgbb66579-iit-madras-foundation/inaturalist_cnn_from_scratchj' target=\"_blank\">https://wandb.ai/fgbb66579-iit-madras-foundation/inaturalist_cnn_from_scratchj</a>"
            ],
            "text/plain": [
              "<IPython.core.display.HTML object>"
            ]
          },
          "metadata": {},
          "output_type": "display_data"
        },
        {
          "data": {
            "text/html": [
              " View sweep at <a href='https://wandb.ai/fgbb66579-iit-madras-foundation/inaturalist_cnn_from_scratchj/sweeps/tz0427hh' target=\"_blank\">https://wandb.ai/fgbb66579-iit-madras-foundation/inaturalist_cnn_from_scratchj/sweeps/tz0427hh</a>"
            ],
            "text/plain": [
              "<IPython.core.display.HTML object>"
            ]
          },
          "metadata": {},
          "output_type": "display_data"
        },
        {
          "data": {
            "text/html": [
              " View run at <a href='https://wandb.ai/fgbb66579-iit-madras-foundation/inaturalist_cnn_from_scratchj/runs/1fogdur3' target=\"_blank\">https://wandb.ai/fgbb66579-iit-madras-foundation/inaturalist_cnn_from_scratchj/runs/1fogdur3</a>"
            ],
            "text/plain": [
              "<IPython.core.display.HTML object>"
            ]
          },
          "metadata": {},
          "output_type": "display_data"
        },
        {
          "name": "stderr",
          "output_type": "stream",
          "text": [
            "<ipython-input-3-3fc379e20309>:53: FutureWarning: `torch.cuda.amp.GradScaler(args...)` is deprecated. Please use `torch.amp.GradScaler('cuda', args...)` instead.\n",
            "  scaler    = GradScaler()\n",
            "<ipython-input-3-3fc379e20309>:65: FutureWarning: `torch.cuda.amp.autocast(args...)` is deprecated. Please use `torch.amp.autocast('cuda', args...)` instead.\n",
            "  with autocast():\n",
            "<ipython-input-3-3fc379e20309>:81: FutureWarning: `torch.cuda.amp.autocast(args...)` is deprecated. Please use `torch.amp.autocast('cuda', args...)` instead.\n",
            "  with autocast():\n"
          ]
        },
        {
          "data": {
            "text/html": [],
            "text/plain": [
              "<IPython.core.display.HTML object>"
            ]
          },
          "metadata": {},
          "output_type": "display_data"
        },
        {
          "data": {
            "text/html": [
              "<br>    <style><br>        .wandb-row {<br>            display: flex;<br>            flex-direction: row;<br>            flex-wrap: wrap;<br>            justify-content: flex-start;<br>            width: 100%;<br>        }<br>        .wandb-col {<br>            display: flex;<br>            flex-direction: column;<br>            flex-basis: 100%;<br>            flex: 1;<br>            padding: 10px;<br>        }<br>    </style><br><div class=\"wandb-row\"><div class=\"wandb-col\"><h3>Run history:</h3><br/><table class=\"wandb\"><tr><td>epoch</td><td>▁▂▄▅▇█</td></tr><tr><td>hp/batch_size</td><td>▁▁▁▁▁▁</td></tr><tr><td>hp/dense_neurons</td><td>▁▁▁▁▁▁</td></tr><tr><td>hp/dropout</td><td>▁▁▁▁▁▁</td></tr><tr><td>hp/filter_size</td><td>▁▁▁▁▁▁</td></tr><tr><td>hp/lr</td><td>▁▁▁▁▁▁</td></tr><tr><td>hp/num_filters</td><td>▁▁▁▁▁▁</td></tr><tr><td>lr</td><td>█████▁</td></tr><tr><td>train_loss</td><td>▅▂█▆▆▁</td></tr><tr><td>val_accuracy</td><td>█▁▁▁▁▁</td></tr><tr><td>val_loss</td><td>▁█▇██▇</td></tr></table><br/></div><div class=\"wandb-col\"><h3>Run summary:</h3><br/><table class=\"wandb\"><tr><td>epoch</td><td>5</td></tr><tr><td>hp/activation</td><td>ReLU</td></tr><tr><td>hp/batch_norm</td><td>True</td></tr><tr><td>hp/batch_size</td><td>32</td></tr><tr><td>hp/data_augmentation</td><td>False</td></tr><tr><td>hp/dense_neurons</td><td>256</td></tr><tr><td>hp/dropout</td><td>0.2</td></tr><tr><td>hp/filter_organization</td><td>half</td></tr><tr><td>hp/filter_size</td><td>5</td></tr><tr><td>hp/lr</td><td>0.04378</td></tr><tr><td>hp/num_filters</td><td>32</td></tr><tr><td>hp/use_residual</td><td>False</td></tr><tr><td>lr</td><td>0.02189</td></tr><tr><td>train_loss</td><td>2.30465</td></tr><tr><td>val_accuracy</td><td>10</td></tr><tr><td>val_loss</td><td>2.30299</td></tr></table><br/></div></div>"
            ],
            "text/plain": [
              "<IPython.core.display.HTML object>"
            ]
          },
          "metadata": {},
          "output_type": "display_data"
        },
        {
          "data": {
            "text/html": [
              " View run <strong style=\"color:#cdcd00\">toasty-sweep-24</strong> at: <a href='https://wandb.ai/fgbb66579-iit-madras-foundation/inaturalist_cnn_from_scratchj/runs/1fogdur3' target=\"_blank\">https://wandb.ai/fgbb66579-iit-madras-foundation/inaturalist_cnn_from_scratchj/runs/1fogdur3</a><br> View project at: <a href='https://wandb.ai/fgbb66579-iit-madras-foundation/inaturalist_cnn_from_scratchj' target=\"_blank\">https://wandb.ai/fgbb66579-iit-madras-foundation/inaturalist_cnn_from_scratchj</a><br>Synced 5 W&B file(s), 0 media file(s), 0 artifact file(s) and 0 other file(s)"
            ],
            "text/plain": [
              "<IPython.core.display.HTML object>"
            ]
          },
          "metadata": {},
          "output_type": "display_data"
        },
        {
          "data": {
            "text/html": [
              "Find logs at: <code>./wandb/run-20250418_103922-1fogdur3/logs</code>"
            ],
            "text/plain": [
              "<IPython.core.display.HTML object>"
            ]
          },
          "metadata": {},
          "output_type": "display_data"
        },
        {
          "name": "stderr",
          "output_type": "stream",
          "text": [
            "\u001b[34m\u001b[1mwandb\u001b[0m: Agent Starting Run: uqmu15la with config:\n",
            "\u001b[34m\u001b[1mwandb\u001b[0m: \tactivation: Mish\n",
            "\u001b[34m\u001b[1mwandb\u001b[0m: \tbatch_norm: False\n",
            "\u001b[34m\u001b[1mwandb\u001b[0m: \tbatch_size: 32\n",
            "\u001b[34m\u001b[1mwandb\u001b[0m: \tdata_augmentation: True\n",
            "\u001b[34m\u001b[1mwandb\u001b[0m: \tdata_dir: /kaggle/input/inaturalist/inaturalist_12K\n",
            "\u001b[34m\u001b[1mwandb\u001b[0m: \tdense_neurons: 512\n",
            "\u001b[34m\u001b[1mwandb\u001b[0m: \tdevice: cuda\n",
            "\u001b[34m\u001b[1mwandb\u001b[0m: \tdropout: 0\n",
            "\u001b[34m\u001b[1mwandb\u001b[0m: \tearly_stop_patience: 5\n",
            "\u001b[34m\u001b[1mwandb\u001b[0m: \tepochs: 20\n",
            "\u001b[34m\u001b[1mwandb\u001b[0m: \tfilter_organization: same\n",
            "\u001b[34m\u001b[1mwandb\u001b[0m: \tfilter_size: 3\n",
            "\u001b[34m\u001b[1mwandb\u001b[0m: \tlr: 0.014141113502358017\n",
            "\u001b[34m\u001b[1mwandb\u001b[0m: \tnum_filters: 64\n",
            "\u001b[34m\u001b[1mwandb\u001b[0m: \tuse_residual: False\n"
          ]
        },
        {
          "data": {
            "text/html": [
              "Tracking run with wandb version 0.19.1"
            ],
            "text/plain": [
              "<IPython.core.display.HTML object>"
            ]
          },
          "metadata": {},
          "output_type": "display_data"
        },
        {
          "data": {
            "text/html": [
              "Run data is saved locally in <code>/kaggle/working/wandb/run-20250418_104419-uqmu15la</code>"
            ],
            "text/plain": [
              "<IPython.core.display.HTML object>"
            ]
          },
          "metadata": {},
          "output_type": "display_data"
        },
        {
          "data": {
            "text/html": [
              "Syncing run <strong><a href='https://wandb.ai/fgbb66579-iit-madras-foundation/inaturalist_cnn_from_scratchj/runs/uqmu15la' target=\"_blank\">generous-sweep-25</a></strong> to <a href='https://wandb.ai/fgbb66579-iit-madras-foundation/inaturalist_cnn_from_scratchj' target=\"_blank\">Weights & Biases</a> (<a href='https://wandb.me/developer-guide' target=\"_blank\">docs</a>)<br>Sweep page: <a href='https://wandb.ai/fgbb66579-iit-madras-foundation/inaturalist_cnn_from_scratchj/sweeps/tz0427hh' target=\"_blank\">https://wandb.ai/fgbb66579-iit-madras-foundation/inaturalist_cnn_from_scratchj/sweeps/tz0427hh</a>"
            ],
            "text/plain": [
              "<IPython.core.display.HTML object>"
            ]
          },
          "metadata": {},
          "output_type": "display_data"
        },
        {
          "data": {
            "text/html": [
              " View project at <a href='https://wandb.ai/fgbb66579-iit-madras-foundation/inaturalist_cnn_from_scratchj' target=\"_blank\">https://wandb.ai/fgbb66579-iit-madras-foundation/inaturalist_cnn_from_scratchj</a>"
            ],
            "text/plain": [
              "<IPython.core.display.HTML object>"
            ]
          },
          "metadata": {},
          "output_type": "display_data"
        },
        {
          "data": {
            "text/html": [
              " View sweep at <a href='https://wandb.ai/fgbb66579-iit-madras-foundation/inaturalist_cnn_from_scratchj/sweeps/tz0427hh' target=\"_blank\">https://wandb.ai/fgbb66579-iit-madras-foundation/inaturalist_cnn_from_scratchj/sweeps/tz0427hh</a>"
            ],
            "text/plain": [
              "<IPython.core.display.HTML object>"
            ]
          },
          "metadata": {},
          "output_type": "display_data"
        },
        {
          "data": {
            "text/html": [
              " View run at <a href='https://wandb.ai/fgbb66579-iit-madras-foundation/inaturalist_cnn_from_scratchj/runs/uqmu15la' target=\"_blank\">https://wandb.ai/fgbb66579-iit-madras-foundation/inaturalist_cnn_from_scratchj/runs/uqmu15la</a>"
            ],
            "text/plain": [
              "<IPython.core.display.HTML object>"
            ]
          },
          "metadata": {},
          "output_type": "display_data"
        },
        {
          "name": "stderr",
          "output_type": "stream",
          "text": [
            "<ipython-input-3-3fc379e20309>:53: FutureWarning: `torch.cuda.amp.GradScaler(args...)` is deprecated. Please use `torch.amp.GradScaler('cuda', args...)` instead.\n",
            "  scaler    = GradScaler()\n",
            "<ipython-input-3-3fc379e20309>:65: FutureWarning: `torch.cuda.amp.autocast(args...)` is deprecated. Please use `torch.amp.autocast('cuda', args...)` instead.\n",
            "  with autocast():\n",
            "<ipython-input-3-3fc379e20309>:81: FutureWarning: `torch.cuda.amp.autocast(args...)` is deprecated. Please use `torch.amp.autocast('cuda', args...)` instead.\n",
            "  with autocast():\n"
          ]
        },
        {
          "data": {
            "text/html": [],
            "text/plain": [
              "<IPython.core.display.HTML object>"
            ]
          },
          "metadata": {},
          "output_type": "display_data"
        },
        {
          "data": {
            "text/html": [
              "<br>    <style><br>        .wandb-row {<br>            display: flex;<br>            flex-direction: row;<br>            flex-wrap: wrap;<br>            justify-content: flex-start;<br>            width: 100%;<br>        }<br>        .wandb-col {<br>            display: flex;<br>            flex-direction: column;<br>            flex-basis: 100%;<br>            flex: 1;<br>            padding: 10px;<br>        }<br>    </style><br><div class=\"wandb-row\"><div class=\"wandb-col\"><h3>Run history:</h3><br/><table class=\"wandb\"><tr><td>epoch</td><td>▁▁▂▂▂▃▃▄▄▄▅▅▅▆▆▇▇▇██</td></tr><tr><td>hp/batch_size</td><td>▁▁▁▁▁▁▁▁▁▁▁▁▁▁▁▁▁▁▁▁</td></tr><tr><td>hp/dense_neurons</td><td>▁▁▁▁▁▁▁▁▁▁▁▁▁▁▁▁▁▁▁▁</td></tr><tr><td>hp/dropout</td><td>▁▁▁▁▁▁▁▁▁▁▁▁▁▁▁▁▁▁▁▁</td></tr><tr><td>hp/filter_size</td><td>▁▁▁▁▁▁▁▁▁▁▁▁▁▁▁▁▁▁▁▁</td></tr><tr><td>hp/lr</td><td>▁▁▁▁▁▁▁▁▁▁▁▁▁▁▁▁▁▁▁▁</td></tr><tr><td>hp/num_filters</td><td>▁▁▁▁▁▁▁▁▁▁▁▁▁▁▁▁▁▁▁▁</td></tr><tr><td>lr</td><td>▁▁▁▁▁▁▁▁▁▁▁▁▁▁▁▁▁▁▁▁</td></tr><tr><td>train_loss</td><td>█▇▆▆▅▅▄▄▄▄▃▃▃▃▂▂▂▁▁▁</td></tr><tr><td>val_accuracy</td><td>▁▂▄▅▅▆▆▆▇▇▇▇▇▇▇▇█▇█▇</td></tr><tr><td>val_loss</td><td>█▇▅▄▄▃▃▃▂▂▂▁▂▃▂▁▁▂▁▂</td></tr></table><br/></div><div class=\"wandb-col\"><h3>Run summary:</h3><br/><table class=\"wandb\"><tr><td>epoch</td><td>19</td></tr><tr><td>hp/activation</td><td>Mish</td></tr><tr><td>hp/batch_norm</td><td>False</td></tr><tr><td>hp/batch_size</td><td>32</td></tr><tr><td>hp/data_augmentation</td><td>True</td></tr><tr><td>hp/dense_neurons</td><td>512</td></tr><tr><td>hp/dropout</td><td>0</td></tr><tr><td>hp/filter_organization</td><td>same</td></tr><tr><td>hp/filter_size</td><td>3</td></tr><tr><td>hp/lr</td><td>0.01414</td></tr><tr><td>hp/num_filters</td><td>64</td></tr><tr><td>hp/use_residual</td><td>False</td></tr><tr><td>lr</td><td>0.01414</td></tr><tr><td>train_loss</td><td>1.53919</td></tr><tr><td>val_accuracy</td><td>37.6</td></tr><tr><td>val_loss</td><td>1.86577</td></tr></table><br/></div></div>"
            ],
            "text/plain": [
              "<IPython.core.display.HTML object>"
            ]
          },
          "metadata": {},
          "output_type": "display_data"
        },
        {
          "data": {
            "text/html": [
              " View run <strong style=\"color:#cdcd00\">generous-sweep-25</strong> at: <a href='https://wandb.ai/fgbb66579-iit-madras-foundation/inaturalist_cnn_from_scratchj/runs/uqmu15la' target=\"_blank\">https://wandb.ai/fgbb66579-iit-madras-foundation/inaturalist_cnn_from_scratchj/runs/uqmu15la</a><br> View project at: <a href='https://wandb.ai/fgbb66579-iit-madras-foundation/inaturalist_cnn_from_scratchj' target=\"_blank\">https://wandb.ai/fgbb66579-iit-madras-foundation/inaturalist_cnn_from_scratchj</a><br>Synced 5 W&B file(s), 0 media file(s), 0 artifact file(s) and 0 other file(s)"
            ],
            "text/plain": [
              "<IPython.core.display.HTML object>"
            ]
          },
          "metadata": {},
          "output_type": "display_data"
        },
        {
          "data": {
            "text/html": [
              "Find logs at: <code>./wandb/run-20250418_104419-uqmu15la/logs</code>"
            ],
            "text/plain": [
              "<IPython.core.display.HTML object>"
            ]
          },
          "metadata": {},
          "output_type": "display_data"
        }
      ],
      "source": [
        "import os\n",
        "import numpy as np\n",
        "import torch\n",
        "import torch.nn as nn\n",
        "import torch.optim as optim\n",
        "import wandb\n",
        "from torch.cuda.amp import autocast, GradScaler\n",
        "from sklearn.metrics import precision_score, recall_score, f1_score, confusion_matrix\n",
        "\n",
        "\n",
        "os.environ[\"WANDB_API_KEY\"] = \"e095fbd374bc0fa234acb179a6ec7620b57abf28\"\n",
        "def get_activation(name):\n",
        "    return {\n",
        "        'ReLU': nn.ReLU,\n",
        "        'GELU': nn.GELU,\n",
        "        'SiLU': nn.SiLU,\n",
        "        'Mish': nn.Mish\n",
        "    }[name]\n",
        "\n",
        "def generate_filters(base_filters, organization):\n",
        "    if organization == 'same':\n",
        "        return [base_filters] * 5\n",
        "    elif organization == 'double':\n",
        "        return [base_filters * (2 ** i) for i in range(5)]\n",
        "    elif organization == 'half':\n",
        "        return [base_filters // (2 ** i) for i in range(5)][::-1]  # Reverse to start small\n",
        "    return [base_filters] * 5\n",
        "def train():\n",
        "    # this will seed everything for us\n",
        "    wandb.init()\n",
        "    config = wandb.config\n",
        "\n",
        "    train_loader, val_loader, test_loader, num_classes, class_weights = prepare_data(\n",
        "        data_dir=config.data_dir,\n",
        "        batch_size=config.batch_size,\n",
        "        augment=config.data_augmentation\n",
        "    )\n",
        "\n",
        "    model = CustomCNN(\n",
        "        num_filters      = generate_filters(config.num_filters, config.filter_organization),\n",
        "        filter_size      = config.filter_size,\n",
        "        activation       = get_activation(config.activation),\n",
        "        dense_neurons    = config.dense_neurons,\n",
        "        batch_norm       = config.batch_norm,\n",
        "        dropout          = config.dropout,\n",
        "        num_classes      = num_classes,\n",
        "        use_residual     = config.use_residual\n",
        "    ).to(wandb.config.device)\n",
        "\n",
        "    criterion = nn.CrossEntropyLoss(weight=class_weights.to(config.device))\n",
        "    optimizer = optim.SGD(model.parameters(), lr=config.lr, momentum=0.9)\n",
        "    scheduler = optim.lr_scheduler.ReduceLROnPlateau(optimizer, mode='max', patience=3, factor=0.5)\n",
        "    scaler    = GradScaler()\n",
        "\n",
        "    best_val_acc = 0.0s\n",
        "    no_improve   = 0\n",
        "\n",
        "    for epoch in range(config.epochs):\n",
        "        # TRAIN\n",
        "        model.train()\n",
        "        train_loss = 0.0\n",
        "        for x,y in train_loader:\n",
        "            x,y = x.to(config.device), y.to(config.device)\n",
        "            optimizer.zero_grad()\n",
        "            with autocast():\n",
        "                logits = model(x)\n",
        "                loss   = criterion(logits, y)\n",
        "            scaler.scale(loss).backward()\n",
        "            scaler.step(optimizer)\n",
        "            scaler.update()\n",
        "            train_loss += loss.item()\n",
        "        train_loss /= len(train_loader)\n",
        "\n",
        "        # VALIDATE\n",
        "        model.eval()\n",
        "        val_loss = 0.0\n",
        "        preds, targs = [], []\n",
        "        with torch.no_grad():\n",
        "            for x,y in val_loader:\n",
        "                x,y = x.to(config.device), y.to(config.device)\n",
        "                with autocast():\n",
        "                    logits = model(x)\n",
        "                    loss   = criterion(logits, y)\n",
        "                val_loss += loss.item()\n",
        "                preds .extend(logits.argmax(1).cpu().numpy())\n",
        "                targs .extend(y.cpu().numpy())\n",
        "        val_loss    /= len(val_loader)\n",
        "        val_accuracy = 100 * np.mean(np.array(preds)==np.array(targs))\n",
        "\n",
        "        # LOG EVERYTHING\n",
        "        wandb.log({\n",
        "            # losses & metrics\n",
        "            \"epoch\":         epoch,\n",
        "            \"train_loss\":    train_loss,\n",
        "            \"val_loss\":      val_loss,\n",
        "            \"val_accuracy\":  val_accuracy,\n",
        "            # optimizer state\n",
        "            \"lr\":            optimizer.param_groups[0]['lr'],\n",
        "            # *** and all your hyperparameters again so they show up in the run table ***\n",
        "            \"hp/num_filters\":        config.num_filters,\n",
        "            \"hp/filter_size\":        config.filter_size,\n",
        "            \"hp/activation\":         config.activation,\n",
        "            \"hp/filter_organization\":config.filter_organization,\n",
        "            \"hp/data_augmentation\":  config.data_augmentation,\n",
        "            \"hp/batch_norm\":         config.batch_norm,\n",
        "            \"hp/dropout\":            config.dropout,\n",
        "            \"hp/dense_neurons\":      config.dense_neurons,\n",
        "            \"hp/batch_size\":         config.batch_size,\n",
        "            \"hp/lr\":                 config.lr,\n",
        "            \"hp/use_residual\":       config.use_residual,\n",
        "        })\n",
        "\n",
        "        scheduler.step(val_accuracy)\n",
        "\n",
        "        # early‑stop & checkpoint\n",
        "        if val_accuracy > best_val_acc:\n",
        "            best_val_acc = val_accuracy\n",
        "            no_improve   = 0\n",
        "            torch.save(model.state_dict(), os.path.join(wandb.run.dir, \"best.pth\"))\n",
        "        else:\n",
        "            no_improve += 1\n",
        "            if no_improve >= config.early_stop_patience:\n",
        "                break\n",
        "\n",
        "\n",
        "if __name__ == \"__main__\":\n",
        "    sweep_config = {\n",
        "      'method': 'bayes',\n",
        "      'metric': { 'name': 'val_accuracy', 'goal': 'maximize' },\n",
        "      'parameters': {\n",
        "        'num_filters':        {'values': [32,64,128]},\n",
        "        'filter_size':        {'values': [3,5]},\n",
        "        'activation':         {'values': ['ReLU','GELU','SiLU','Mish']},\n",
        "        'filter_organization':{'values': ['same','double','half']},\n",
        "        'data_augmentation':  {'values': [True,False]},\n",
        "        'batch_norm':         {'values': [True,False]},\n",
        "        'dropout':            {'values': [0.0,0.2,0.3]},\n",
        "        'dense_neurons':      {'values': [256,512]},\n",
        "        'batch_size':         {'values': [32,64]},\n",
        "        'lr':                 {'min': 1e-3, 'max': 1e-1},\n",
        "        'epochs':             {'value': 20},\n",
        "        'use_residual':       {'values':[False]},\n",
        "        'early_stop_patience':{'value': 5},\n",
        "        'data_dir':           {'value': '/kaggle/input/inaturalist/inaturalist_12K'},\n",
        "        'device':             {'value': 'cuda' if torch.cuda.is_available() else 'cpu'}\n",
        "      }\n",
        "    }\n",
        "\n",
        "    sweep_id = wandb.sweep(sweep_config, project=\"inaturalist_cnn_from_scratchj\")\n",
        "    wandb.agent(sweep_id, function=train, count = 25)\n"
      ]
    }
  ],
  "metadata": {
    "colab": {
      "provenance": []
    },
    "kaggle": {
      "accelerator": "nvidiaTeslaT4",
      "dataSources": [
        {
          "datasetId": 7036278,
          "sourceId": 11258517,
          "sourceType": "datasetVersion"
        },
        {
          "datasetId": 7036338,
          "sourceId": 11258587,
          "sourceType": "datasetVersion"
        }
      ],
      "dockerImageVersionId": 30918,
      "isGpuEnabled": true,
      "isInternetEnabled": true,
      "language": "python",
      "sourceType": "notebook"
    },
    "kernelspec": {
      "display_name": "Python 3",
      "language": "python",
      "name": "python3"
    },
    "language_info": {
      "codemirror_mode": {
        "name": "ipython",
        "version": 3
      },
      "file_extension": ".py",
      "mimetype": "text/x-python",
      "name": "python",
      "nbconvert_exporter": "python",
      "pygments_lexer": "ipython3",
      "version": "3.10.12"
    }
  },
  "nbformat": 4,
  "nbformat_minor": 0
}
